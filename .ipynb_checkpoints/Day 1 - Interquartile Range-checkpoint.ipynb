{
 "cells": [
  {
   "cell_type": "markdown",
   "metadata": {},
   "source": [
    "https://www.hackerrank.com/challenges/s10-interquartile-range/problem"
   ]
  },
  {
   "cell_type": "code",
   "execution_count": 1,
   "metadata": {
    "ExecuteTime": {
     "end_time": "2019-07-01T15:19:45.741058Z",
     "start_time": "2019-07-01T15:19:29.403210Z"
    }
   },
   "outputs": [
    {
     "name": "stdout",
     "output_type": "stream",
     "text": [
      "6\n",
      "6 12 8 10 20 16\n",
      "5 4 3 2 1 5\n"
     ]
    },
    {
     "data": {
      "text/plain": [
       "[6, 6, 6, 6, 6, 8, 8, 8, 10, 10, 12, 12, 12, 12, 16, 16, 16, 16, 16, 20]"
      ]
     },
     "execution_count": 1,
     "metadata": {},
     "output_type": "execute_result"
    }
   ],
   "source": [
    "# taking input data\n",
    "\n",
    "n = int(input())\n",
    "unique_data = list(map(int, input().split()))\n",
    "frequency = list(map(int, input().split()))\n",
    "complete_data = []\n",
    "for i in range(len(unique_data)):\n",
    "    complete_data += [unique_data[i]] * frequency[i]\n",
    "\n",
    "complete_data.sort()\n",
    "complete_data"
   ]
  },
  {
   "cell_type": "code",
   "execution_count": 2,
   "metadata": {
    "ExecuteTime": {
     "end_time": "2019-07-01T15:24:22.138305Z",
     "start_time": "2019-07-01T15:24:22.125798Z"
    }
   },
   "outputs": [
    {
     "name": "stdout",
     "output_type": "stream",
     "text": [
      "9.0\n"
     ]
    }
   ],
   "source": [
    "# calculating IQR\n",
    "\n",
    "from statistics import median\n",
    "\n",
    "print(\n",
    "    float(\n",
    "        median(complete_data[len(complete_data) // 2 + len(complete_data)%2:]) - \n",
    "        median(complete_data[:len(complete_data) // 2])\n",
    "         )\n",
    "     )"
   ]
  }
 ],
 "metadata": {
  "kernelspec": {
   "display_name": "Python 3",
   "language": "python",
   "name": "python3"
  },
  "language_info": {
   "codemirror_mode": {
    "name": "ipython",
    "version": 3
   },
   "file_extension": ".py",
   "mimetype": "text/x-python",
   "name": "python",
   "nbconvert_exporter": "python",
   "pygments_lexer": "ipython3",
   "version": "3.6.7"
  },
  "toc": {
   "base_numbering": 1,
   "nav_menu": {},
   "number_sections": true,
   "sideBar": true,
   "skip_h1_title": false,
   "title_cell": "Table of Contents",
   "title_sidebar": "Contents",
   "toc_cell": false,
   "toc_position": {},
   "toc_section_display": true,
   "toc_window_display": false
  }
 },
 "nbformat": 4,
 "nbformat_minor": 2
}
