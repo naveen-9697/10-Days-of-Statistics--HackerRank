{
  "nbformat": 4,
  "nbformat_minor": 0,
  "metadata": {
    "colab": {
      "name": "pre_processing_of_numerical_variables_(KNN_imputed).ipynb",
      "version": "0.3.2",
      "provenance": [],
      "collapsed_sections": [
        "h-9FUG0bRoWB",
        "CcV5-aI_D9MF",
        "jw57j_TVRdf1",
        "1S_8HjoblR39",
        "9uz4T3vwlFOQ",
        "a4K9bEm_lZi7",
        "Iy3Pbm5Ye_m6",
        "G7Tuy2sKlCWm"
      ],
      "include_colab_link": true
    },
    "language_info": {
      "codemirror_mode": {
        "name": "ipython",
        "version": 3
      },
      "file_extension": ".py",
      "mimetype": "text/x-python",
      "name": "python",
      "nbconvert_exporter": "python",
      "pygments_lexer": "ipython3",
      "version": "3.6.7"
    },
    "kernelspec": {
      "display_name": "Python 3",
      "language": "python",
      "name": "python3"
    }
  },
  "cells": [
    {
      "cell_type": "markdown",
      "metadata": {
        "id": "view-in-github",
        "colab_type": "text"
      },
      "source": [
        "<a href=\"https://colab.research.google.com/github/naveen-kumar-123/10-Days-of-Statistics--HackerRank/blob/master/Data%20Pre-Processing/Pre_Processing_of_Numerical_Variables_(KNN_imputed).ipynb\" target=\"_parent\"><img src=\"https://colab.research.google.com/assets/colab-badge.svg\" alt=\"Open In Colab\"/></a>"
      ]
    },
    {
      "cell_type": "markdown",
      "metadata": {
        "colab_type": "text",
        "heading_collapsed": true,
        "id": "h-9FUG0bRoWB"
      },
      "source": [
        "# Getting the data from Google Drive"
      ]
    },
    {
      "cell_type": "code",
      "metadata": {
        "colab_type": "code",
        "hidden": true,
        "id": "nYcWH6gdIetJ",
        "outputId": "8a30826e-3665-404b-d246-f3d5c67e2caf",
        "colab": {
          "base_uri": "https://localhost:8080/",
          "height": 34
        }
      },
      "source": [
        "# # Load the Drive helper and mount\n",
        "from google.colab import drive\n",
        "drive.mount('/content/drive')"
      ],
      "execution_count": 1,
      "outputs": [
        {
          "output_type": "stream",
          "text": [
            "Drive already mounted at /content/drive; to attempt to forcibly remount, call drive.mount(\"/content/drive\", force_remount=True).\n"
          ],
          "name": "stdout"
        }
      ]
    },
    {
      "cell_type": "code",
      "metadata": {
        "ExecuteTime": {
          "end_time": "2019-06-04T11:49:57.741867Z",
          "start_time": "2019-06-04T11:49:50.266196Z"
        },
        "colab_type": "code",
        "hidden": true,
        "id": "XR1O072V9R2g",
        "colab": {}
      },
      "source": [
        "# importing dependencies & required libraries\n",
        "\n",
        "import pandas as pd\n",
        "pd.set_option('display.max_rows', 50)\n",
        "pd.set_option('display.max_columns', 100)\n",
        "# pd.set_option('display.width', 1000)\n",
        "\n",
        "\n",
        "import numpy as np\n",
        "\n",
        "\n",
        "import matplotlib.pyplot as plt\n",
        "import seaborn as sns\n",
        "%matplotlib inline"
      ],
      "execution_count": 0,
      "outputs": []
    },
    {
      "cell_type": "code",
      "metadata": {
        "ExecuteTime": {
          "end_time": "2019-06-04T11:54:48.107600Z",
          "start_time": "2019-06-04T11:54:46.631142Z"
        },
        "hidden": true,
        "id": "_Sf8psIlbwsZ",
        "colab_type": "code",
        "outputId": "6c7a854e-b557-4dfd-ff00-83d4fbac8900",
        "colab": {
          "base_uri": "https://localhost:8080/",
          "height": 551
        }
      },
      "source": [
        "air_bnb = pd.read_csv(\"drive/My Drive/Colab Notebooks/air_bnb_price_prediction(Kaggle)/Data/airbnb.csv\")\n",
        "air_bnb.head()"
      ],
      "execution_count": 0,
      "outputs": [
        {
          "output_type": "execute_result",
          "data": {
            "text/html": [
              "<div>\n",
              "<style scoped>\n",
              "    .dataframe tbody tr th:only-of-type {\n",
              "        vertical-align: middle;\n",
              "    }\n",
              "\n",
              "    .dataframe tbody tr th {\n",
              "        vertical-align: top;\n",
              "    }\n",
              "\n",
              "    .dataframe thead th {\n",
              "        text-align: right;\n",
              "    }\n",
              "</style>\n",
              "<table border=\"1\" class=\"dataframe\">\n",
              "  <thead>\n",
              "    <tr style=\"text-align: right;\">\n",
              "      <th></th>\n",
              "      <th>id</th>\n",
              "      <th>log_price</th>\n",
              "      <th>property_type</th>\n",
              "      <th>room_type</th>\n",
              "      <th>amenities</th>\n",
              "      <th>accommodates</th>\n",
              "      <th>bathrooms</th>\n",
              "      <th>bed_type</th>\n",
              "      <th>cancellation_policy</th>\n",
              "      <th>cleaning_fee</th>\n",
              "      <th>city</th>\n",
              "      <th>description</th>\n",
              "      <th>first_review</th>\n",
              "      <th>host_has_profile_pic</th>\n",
              "      <th>host_identity_verified</th>\n",
              "      <th>host_response_rate</th>\n",
              "      <th>host_since</th>\n",
              "      <th>instant_bookable</th>\n",
              "      <th>last_review</th>\n",
              "      <th>latitude</th>\n",
              "      <th>longitude</th>\n",
              "      <th>name</th>\n",
              "      <th>neighbourhood</th>\n",
              "      <th>number_of_reviews</th>\n",
              "      <th>review_scores_rating</th>\n",
              "      <th>thumbnail_url</th>\n",
              "      <th>zipcode</th>\n",
              "      <th>bedrooms</th>\n",
              "      <th>beds</th>\n",
              "    </tr>\n",
              "  </thead>\n",
              "  <tbody>\n",
              "    <tr>\n",
              "      <th>0</th>\n",
              "      <td>6901257</td>\n",
              "      <td>5.010635</td>\n",
              "      <td>Apartment</td>\n",
              "      <td>Entire home/apt</td>\n",
              "      <td>{\"Wireless Internet\",\"Air conditioning\",Kitche...</td>\n",
              "      <td>3</td>\n",
              "      <td>1.0</td>\n",
              "      <td>Real Bed</td>\n",
              "      <td>strict</td>\n",
              "      <td>True</td>\n",
              "      <td>NYC</td>\n",
              "      <td>Beautiful, sunlit brownstone 1-bedroom in the ...</td>\n",
              "      <td>2016-06-18</td>\n",
              "      <td>t</td>\n",
              "      <td>t</td>\n",
              "      <td>NaN</td>\n",
              "      <td>2012-03-26</td>\n",
              "      <td>f</td>\n",
              "      <td>2016-07-18</td>\n",
              "      <td>40.696524</td>\n",
              "      <td>-73.991617</td>\n",
              "      <td>Beautiful brownstone 1-bedroom</td>\n",
              "      <td>Brooklyn Heights</td>\n",
              "      <td>2</td>\n",
              "      <td>100.0</td>\n",
              "      <td>https://a0.muscache.com/im/pictures/6d7cbbf7-c...</td>\n",
              "      <td>11201</td>\n",
              "      <td>1.0</td>\n",
              "      <td>1.0</td>\n",
              "    </tr>\n",
              "    <tr>\n",
              "      <th>1</th>\n",
              "      <td>6304928</td>\n",
              "      <td>5.129899</td>\n",
              "      <td>Apartment</td>\n",
              "      <td>Entire home/apt</td>\n",
              "      <td>{\"Wireless Internet\",\"Air conditioning\",Kitche...</td>\n",
              "      <td>7</td>\n",
              "      <td>1.0</td>\n",
              "      <td>Real Bed</td>\n",
              "      <td>strict</td>\n",
              "      <td>True</td>\n",
              "      <td>NYC</td>\n",
              "      <td>Enjoy travelling during your stay in Manhattan...</td>\n",
              "      <td>2017-08-05</td>\n",
              "      <td>t</td>\n",
              "      <td>f</td>\n",
              "      <td>100%</td>\n",
              "      <td>2017-06-19</td>\n",
              "      <td>t</td>\n",
              "      <td>2017-09-23</td>\n",
              "      <td>40.766115</td>\n",
              "      <td>-73.989040</td>\n",
              "      <td>Superb 3BR Apt Located Near Times Square</td>\n",
              "      <td>Hell's Kitchen</td>\n",
              "      <td>6</td>\n",
              "      <td>93.0</td>\n",
              "      <td>https://a0.muscache.com/im/pictures/348a55fe-4...</td>\n",
              "      <td>10019</td>\n",
              "      <td>3.0</td>\n",
              "      <td>3.0</td>\n",
              "    </tr>\n",
              "    <tr>\n",
              "      <th>2</th>\n",
              "      <td>7919400</td>\n",
              "      <td>4.976734</td>\n",
              "      <td>Apartment</td>\n",
              "      <td>Entire home/apt</td>\n",
              "      <td>{TV,\"Cable TV\",\"Wireless Internet\",\"Air condit...</td>\n",
              "      <td>5</td>\n",
              "      <td>1.0</td>\n",
              "      <td>Real Bed</td>\n",
              "      <td>moderate</td>\n",
              "      <td>True</td>\n",
              "      <td>NYC</td>\n",
              "      <td>The Oasis comes complete with a full backyard ...</td>\n",
              "      <td>2017-04-30</td>\n",
              "      <td>t</td>\n",
              "      <td>t</td>\n",
              "      <td>100%</td>\n",
              "      <td>2016-10-25</td>\n",
              "      <td>t</td>\n",
              "      <td>2017-09-14</td>\n",
              "      <td>40.808110</td>\n",
              "      <td>-73.943756</td>\n",
              "      <td>The Garden Oasis</td>\n",
              "      <td>Harlem</td>\n",
              "      <td>10</td>\n",
              "      <td>92.0</td>\n",
              "      <td>https://a0.muscache.com/im/pictures/6fae5362-9...</td>\n",
              "      <td>10027</td>\n",
              "      <td>1.0</td>\n",
              "      <td>3.0</td>\n",
              "    </tr>\n",
              "    <tr>\n",
              "      <th>3</th>\n",
              "      <td>13418779</td>\n",
              "      <td>6.620073</td>\n",
              "      <td>House</td>\n",
              "      <td>Entire home/apt</td>\n",
              "      <td>{TV,\"Cable TV\",Internet,\"Wireless Internet\",Ki...</td>\n",
              "      <td>4</td>\n",
              "      <td>1.0</td>\n",
              "      <td>Real Bed</td>\n",
              "      <td>flexible</td>\n",
              "      <td>True</td>\n",
              "      <td>SF</td>\n",
              "      <td>This light-filled home-away-from-home is super...</td>\n",
              "      <td>NaN</td>\n",
              "      <td>t</td>\n",
              "      <td>t</td>\n",
              "      <td>NaN</td>\n",
              "      <td>2015-04-19</td>\n",
              "      <td>f</td>\n",
              "      <td>NaN</td>\n",
              "      <td>37.772004</td>\n",
              "      <td>-122.431619</td>\n",
              "      <td>Beautiful Flat in the Heart of SF!</td>\n",
              "      <td>Lower Haight</td>\n",
              "      <td>0</td>\n",
              "      <td>NaN</td>\n",
              "      <td>https://a0.muscache.com/im/pictures/72208dad-9...</td>\n",
              "      <td>94117.0</td>\n",
              "      <td>2.0</td>\n",
              "      <td>2.0</td>\n",
              "    </tr>\n",
              "    <tr>\n",
              "      <th>4</th>\n",
              "      <td>3808709</td>\n",
              "      <td>4.744932</td>\n",
              "      <td>Apartment</td>\n",
              "      <td>Entire home/apt</td>\n",
              "      <td>{TV,Internet,\"Wireless Internet\",\"Air conditio...</td>\n",
              "      <td>2</td>\n",
              "      <td>1.0</td>\n",
              "      <td>Real Bed</td>\n",
              "      <td>moderate</td>\n",
              "      <td>True</td>\n",
              "      <td>DC</td>\n",
              "      <td>Cool, cozy, and comfortable studio located in ...</td>\n",
              "      <td>2015-05-12</td>\n",
              "      <td>t</td>\n",
              "      <td>t</td>\n",
              "      <td>100%</td>\n",
              "      <td>2015-03-01</td>\n",
              "      <td>t</td>\n",
              "      <td>2017-01-22</td>\n",
              "      <td>38.925627</td>\n",
              "      <td>-77.034596</td>\n",
              "      <td>Great studio in midtown DC</td>\n",
              "      <td>Columbia Heights</td>\n",
              "      <td>4</td>\n",
              "      <td>40.0</td>\n",
              "      <td>NaN</td>\n",
              "      <td>20009</td>\n",
              "      <td>0.0</td>\n",
              "      <td>1.0</td>\n",
              "    </tr>\n",
              "  </tbody>\n",
              "</table>\n",
              "</div>"
            ],
            "text/plain": [
              "         id  log_price property_type        room_type  \\\n",
              "0   6901257   5.010635     Apartment  Entire home/apt   \n",
              "1   6304928   5.129899     Apartment  Entire home/apt   \n",
              "2   7919400   4.976734     Apartment  Entire home/apt   \n",
              "3  13418779   6.620073         House  Entire home/apt   \n",
              "4   3808709   4.744932     Apartment  Entire home/apt   \n",
              "\n",
              "                                           amenities  accommodates  bathrooms  \\\n",
              "0  {\"Wireless Internet\",\"Air conditioning\",Kitche...             3        1.0   \n",
              "1  {\"Wireless Internet\",\"Air conditioning\",Kitche...             7        1.0   \n",
              "2  {TV,\"Cable TV\",\"Wireless Internet\",\"Air condit...             5        1.0   \n",
              "3  {TV,\"Cable TV\",Internet,\"Wireless Internet\",Ki...             4        1.0   \n",
              "4  {TV,Internet,\"Wireless Internet\",\"Air conditio...             2        1.0   \n",
              "\n",
              "   bed_type cancellation_policy  cleaning_fee city  \\\n",
              "0  Real Bed              strict          True  NYC   \n",
              "1  Real Bed              strict          True  NYC   \n",
              "2  Real Bed            moderate          True  NYC   \n",
              "3  Real Bed            flexible          True   SF   \n",
              "4  Real Bed            moderate          True   DC   \n",
              "\n",
              "                                         description first_review  \\\n",
              "0  Beautiful, sunlit brownstone 1-bedroom in the ...   2016-06-18   \n",
              "1  Enjoy travelling during your stay in Manhattan...   2017-08-05   \n",
              "2  The Oasis comes complete with a full backyard ...   2017-04-30   \n",
              "3  This light-filled home-away-from-home is super...          NaN   \n",
              "4  Cool, cozy, and comfortable studio located in ...   2015-05-12   \n",
              "\n",
              "  host_has_profile_pic host_identity_verified host_response_rate  host_since  \\\n",
              "0                    t                      t                NaN  2012-03-26   \n",
              "1                    t                      f               100%  2017-06-19   \n",
              "2                    t                      t               100%  2016-10-25   \n",
              "3                    t                      t                NaN  2015-04-19   \n",
              "4                    t                      t               100%  2015-03-01   \n",
              "\n",
              "  instant_bookable last_review   latitude   longitude  \\\n",
              "0                f  2016-07-18  40.696524  -73.991617   \n",
              "1                t  2017-09-23  40.766115  -73.989040   \n",
              "2                t  2017-09-14  40.808110  -73.943756   \n",
              "3                f         NaN  37.772004 -122.431619   \n",
              "4                t  2017-01-22  38.925627  -77.034596   \n",
              "\n",
              "                                       name     neighbourhood  \\\n",
              "0            Beautiful brownstone 1-bedroom  Brooklyn Heights   \n",
              "1  Superb 3BR Apt Located Near Times Square    Hell's Kitchen   \n",
              "2                          The Garden Oasis            Harlem   \n",
              "3        Beautiful Flat in the Heart of SF!      Lower Haight   \n",
              "4                Great studio in midtown DC  Columbia Heights   \n",
              "\n",
              "   number_of_reviews  review_scores_rating  \\\n",
              "0                  2                 100.0   \n",
              "1                  6                  93.0   \n",
              "2                 10                  92.0   \n",
              "3                  0                   NaN   \n",
              "4                  4                  40.0   \n",
              "\n",
              "                                       thumbnail_url  zipcode  bedrooms  beds  \n",
              "0  https://a0.muscache.com/im/pictures/6d7cbbf7-c...    11201       1.0   1.0  \n",
              "1  https://a0.muscache.com/im/pictures/348a55fe-4...    10019       3.0   3.0  \n",
              "2  https://a0.muscache.com/im/pictures/6fae5362-9...    10027       1.0   3.0  \n",
              "3  https://a0.muscache.com/im/pictures/72208dad-9...  94117.0       2.0   2.0  \n",
              "4                                                NaN    20009       0.0   1.0  "
            ]
          },
          "metadata": {
            "tags": []
          },
          "execution_count": 3
        }
      ]
    },
    {
      "cell_type": "code",
      "metadata": {
        "id": "RzQlwHsZdM_a",
        "colab_type": "code",
        "outputId": "7f32ee0a-5b48-438d-f810-3dca6ba31028",
        "colab": {
          "base_uri": "https://localhost:8080/",
          "height": 202
        }
      },
      "source": [
        "air_bnb.dtypes[air_bnb.dtypes != 'object'][air_bnb.dtypes != 'bool']"
      ],
      "execution_count": 0,
      "outputs": [
        {
          "output_type": "execute_result",
          "data": {
            "text/plain": [
              "id                        int64\n",
              "log_price               float64\n",
              "accommodates              int64\n",
              "bathrooms               float64\n",
              "latitude                float64\n",
              "longitude               float64\n",
              "number_of_reviews         int64\n",
              "review_scores_rating    float64\n",
              "bedrooms                float64\n",
              "beds                    float64\n",
              "dtype: object"
            ]
          },
          "metadata": {
            "tags": []
          },
          "execution_count": 4
        }
      ]
    },
    {
      "cell_type": "code",
      "metadata": {
        "ExecuteTime": {
          "end_time": "2019-06-04T11:55:47.159987Z",
          "start_time": "2019-06-04T11:55:47.155001Z"
        },
        "hidden": true,
        "id": "oQfwK_oPbwsd",
        "colab_type": "code",
        "outputId": "b61fd767-7a51-4dad-9010-259249b212e6",
        "colab": {
          "base_uri": "https://localhost:8080/",
          "height": 151
        }
      },
      "source": [
        "np.asarray(air_bnb.columns.values)"
      ],
      "execution_count": 0,
      "outputs": [
        {
          "output_type": "execute_result",
          "data": {
            "text/plain": [
              "array(['id', 'log_price', 'property_type', 'room_type', 'amenities',\n",
              "       'accommodates', 'bathrooms', 'bed_type', 'cancellation_policy',\n",
              "       'cleaning_fee', 'city', 'description', 'first_review',\n",
              "       'host_has_profile_pic', 'host_identity_verified',\n",
              "       'host_response_rate', 'host_since', 'instant_bookable',\n",
              "       'last_review', 'latitude', 'longitude', 'name', 'neighbourhood',\n",
              "       'number_of_reviews', 'review_scores_rating', 'thumbnail_url',\n",
              "       'zipcode', 'bedrooms', 'beds'], dtype=object)"
            ]
          },
          "metadata": {
            "tags": []
          },
          "execution_count": 5
        }
      ]
    },
    {
      "cell_type": "code",
      "metadata": {
        "ExecuteTime": {
          "end_time": "2019-06-04T11:56:55.435068Z",
          "start_time": "2019-06-04T11:56:55.418076Z"
        },
        "hidden": true,
        "id": "tur2NfEDbwsg",
        "colab_type": "code",
        "outputId": "b477275e-339f-4174-d570-fdb39ea4d208",
        "colab": {}
      },
      "source": [
        "# inspection also reveals that, in addition to above columns, there is also a column named \"host_response_rate\"\n",
        "air_bnb_num = air_bnb.loc[:,['id', 'log_price','accommodates', 'bathrooms','host_response_rate',\n",
        "                            'number_of_reviews', 'review_scores_rating','bedrooms', 'beds']]\n",
        "air_bnb_num.head()"
      ],
      "execution_count": 0,
      "outputs": [
        {
          "output_type": "execute_result",
          "data": {
            "text/html": [
              "<div>\n",
              "<style scoped>\n",
              "    .dataframe tbody tr th:only-of-type {\n",
              "        vertical-align: middle;\n",
              "    }\n",
              "\n",
              "    .dataframe tbody tr th {\n",
              "        vertical-align: top;\n",
              "    }\n",
              "\n",
              "    .dataframe thead th {\n",
              "        text-align: right;\n",
              "    }\n",
              "</style>\n",
              "<table border=\"1\" class=\"dataframe\">\n",
              "  <thead>\n",
              "    <tr style=\"text-align: right;\">\n",
              "      <th></th>\n",
              "      <th>id</th>\n",
              "      <th>log_price</th>\n",
              "      <th>accommodates</th>\n",
              "      <th>bathrooms</th>\n",
              "      <th>host_response_rate</th>\n",
              "      <th>number_of_reviews</th>\n",
              "      <th>review_scores_rating</th>\n",
              "      <th>bedrooms</th>\n",
              "      <th>beds</th>\n",
              "    </tr>\n",
              "  </thead>\n",
              "  <tbody>\n",
              "    <tr>\n",
              "      <th>0</th>\n",
              "      <td>6901257</td>\n",
              "      <td>5.010635</td>\n",
              "      <td>3</td>\n",
              "      <td>1.0</td>\n",
              "      <td>NaN</td>\n",
              "      <td>2</td>\n",
              "      <td>100.0</td>\n",
              "      <td>1.0</td>\n",
              "      <td>1.0</td>\n",
              "    </tr>\n",
              "    <tr>\n",
              "      <th>1</th>\n",
              "      <td>6304928</td>\n",
              "      <td>5.129899</td>\n",
              "      <td>7</td>\n",
              "      <td>1.0</td>\n",
              "      <td>100%</td>\n",
              "      <td>6</td>\n",
              "      <td>93.0</td>\n",
              "      <td>3.0</td>\n",
              "      <td>3.0</td>\n",
              "    </tr>\n",
              "    <tr>\n",
              "      <th>2</th>\n",
              "      <td>7919400</td>\n",
              "      <td>4.976734</td>\n",
              "      <td>5</td>\n",
              "      <td>1.0</td>\n",
              "      <td>100%</td>\n",
              "      <td>10</td>\n",
              "      <td>92.0</td>\n",
              "      <td>1.0</td>\n",
              "      <td>3.0</td>\n",
              "    </tr>\n",
              "    <tr>\n",
              "      <th>3</th>\n",
              "      <td>13418779</td>\n",
              "      <td>6.620073</td>\n",
              "      <td>4</td>\n",
              "      <td>1.0</td>\n",
              "      <td>NaN</td>\n",
              "      <td>0</td>\n",
              "      <td>NaN</td>\n",
              "      <td>2.0</td>\n",
              "      <td>2.0</td>\n",
              "    </tr>\n",
              "    <tr>\n",
              "      <th>4</th>\n",
              "      <td>3808709</td>\n",
              "      <td>4.744932</td>\n",
              "      <td>2</td>\n",
              "      <td>1.0</td>\n",
              "      <td>100%</td>\n",
              "      <td>4</td>\n",
              "      <td>40.0</td>\n",
              "      <td>0.0</td>\n",
              "      <td>1.0</td>\n",
              "    </tr>\n",
              "  </tbody>\n",
              "</table>\n",
              "</div>"
            ],
            "text/plain": [
              "         id  log_price  accommodates  bathrooms host_response_rate  \\\n",
              "0   6901257   5.010635             3        1.0                NaN   \n",
              "1   6304928   5.129899             7        1.0               100%   \n",
              "2   7919400   4.976734             5        1.0               100%   \n",
              "3  13418779   6.620073             4        1.0                NaN   \n",
              "4   3808709   4.744932             2        1.0               100%   \n",
              "\n",
              "   number_of_reviews  review_scores_rating  bedrooms  beds  \n",
              "0                  2                 100.0       1.0   1.0  \n",
              "1                  6                  93.0       3.0   3.0  \n",
              "2                 10                  92.0       1.0   3.0  \n",
              "3                  0                   NaN       2.0   2.0  \n",
              "4                  4                  40.0       0.0   1.0  "
            ]
          },
          "metadata": {
            "tags": []
          },
          "execution_count": 6
        }
      ]
    },
    {
      "cell_type": "code",
      "metadata": {
        "ExecuteTime": {
          "end_time": "2019-06-04T11:57:08.342422Z",
          "start_time": "2019-06-04T11:57:08.321478Z"
        },
        "colab_type": "code",
        "hidden": true,
        "id": "i_4ovV5N9R27",
        "outputId": "5c2c246e-fded-4174-e19d-a9397dfbd243",
        "colab": {
          "base_uri": "https://localhost:8080/",
          "height": 252
        }
      },
      "source": [
        "air_bnb_num.info()"
      ],
      "execution_count": 0,
      "outputs": [
        {
          "output_type": "stream",
          "text": [
            "<class 'pandas.core.frame.DataFrame'>\n",
            "RangeIndex: 74111 entries, 0 to 74110\n",
            "Data columns (total 9 columns):\n",
            "id                      74111 non-null int64\n",
            "log_price               74111 non-null float64\n",
            "accommodates            74111 non-null int64\n",
            "bathrooms               73911 non-null float64\n",
            "host_response_rate      55812 non-null object\n",
            "number_of_reviews       74111 non-null int64\n",
            "review_scores_rating    57389 non-null float64\n",
            "bedrooms                74020 non-null float64\n",
            "beds                    73980 non-null float64\n",
            "dtypes: float64(5), int64(3), object(1)\n",
            "memory usage: 5.1+ MB\n"
          ],
          "name": "stdout"
        }
      ]
    },
    {
      "cell_type": "code",
      "metadata": {
        "ExecuteTime": {
          "end_time": "2019-06-04T11:57:12.278776Z",
          "start_time": "2019-06-04T11:57:12.215948Z"
        },
        "colab_type": "code",
        "hidden": true,
        "id": "uhbewXsa9R3O",
        "outputId": "cd36c3c4-a1a6-460a-f95f-1a17b874c368",
        "colab": {
          "base_uri": "https://localhost:8080/",
          "height": 1615
        }
      },
      "source": [
        "air_bnb_num.set_index(\"id\")"
      ],
      "execution_count": 0,
      "outputs": [
        {
          "output_type": "execute_result",
          "data": {
            "text/html": [
              "<div>\n",
              "<style scoped>\n",
              "    .dataframe tbody tr th:only-of-type {\n",
              "        vertical-align: middle;\n",
              "    }\n",
              "\n",
              "    .dataframe tbody tr th {\n",
              "        vertical-align: top;\n",
              "    }\n",
              "\n",
              "    .dataframe thead th {\n",
              "        text-align: right;\n",
              "    }\n",
              "</style>\n",
              "<table border=\"1\" class=\"dataframe\">\n",
              "  <thead>\n",
              "    <tr style=\"text-align: right;\">\n",
              "      <th></th>\n",
              "      <th>log_price</th>\n",
              "      <th>accommodates</th>\n",
              "      <th>bathrooms</th>\n",
              "      <th>host_response_rate</th>\n",
              "      <th>number_of_reviews</th>\n",
              "      <th>review_scores_rating</th>\n",
              "      <th>bedrooms</th>\n",
              "      <th>beds</th>\n",
              "    </tr>\n",
              "    <tr>\n",
              "      <th>id</th>\n",
              "      <th></th>\n",
              "      <th></th>\n",
              "      <th></th>\n",
              "      <th></th>\n",
              "      <th></th>\n",
              "      <th></th>\n",
              "      <th></th>\n",
              "      <th></th>\n",
              "    </tr>\n",
              "  </thead>\n",
              "  <tbody>\n",
              "    <tr>\n",
              "      <th>6901257</th>\n",
              "      <td>5.010635</td>\n",
              "      <td>3</td>\n",
              "      <td>1.0</td>\n",
              "      <td>NaN</td>\n",
              "      <td>2</td>\n",
              "      <td>100.0</td>\n",
              "      <td>1.0</td>\n",
              "      <td>1.0</td>\n",
              "    </tr>\n",
              "    <tr>\n",
              "      <th>6304928</th>\n",
              "      <td>5.129899</td>\n",
              "      <td>7</td>\n",
              "      <td>1.0</td>\n",
              "      <td>100%</td>\n",
              "      <td>6</td>\n",
              "      <td>93.0</td>\n",
              "      <td>3.0</td>\n",
              "      <td>3.0</td>\n",
              "    </tr>\n",
              "    <tr>\n",
              "      <th>7919400</th>\n",
              "      <td>4.976734</td>\n",
              "      <td>5</td>\n",
              "      <td>1.0</td>\n",
              "      <td>100%</td>\n",
              "      <td>10</td>\n",
              "      <td>92.0</td>\n",
              "      <td>1.0</td>\n",
              "      <td>3.0</td>\n",
              "    </tr>\n",
              "    <tr>\n",
              "      <th>13418779</th>\n",
              "      <td>6.620073</td>\n",
              "      <td>4</td>\n",
              "      <td>1.0</td>\n",
              "      <td>NaN</td>\n",
              "      <td>0</td>\n",
              "      <td>NaN</td>\n",
              "      <td>2.0</td>\n",
              "      <td>2.0</td>\n",
              "    </tr>\n",
              "    <tr>\n",
              "      <th>3808709</th>\n",
              "      <td>4.744932</td>\n",
              "      <td>2</td>\n",
              "      <td>1.0</td>\n",
              "      <td>100%</td>\n",
              "      <td>4</td>\n",
              "      <td>40.0</td>\n",
              "      <td>0.0</td>\n",
              "      <td>1.0</td>\n",
              "    </tr>\n",
              "    <tr>\n",
              "      <th>12422935</th>\n",
              "      <td>4.442651</td>\n",
              "      <td>2</td>\n",
              "      <td>1.0</td>\n",
              "      <td>100%</td>\n",
              "      <td>3</td>\n",
              "      <td>100.0</td>\n",
              "      <td>1.0</td>\n",
              "      <td>1.0</td>\n",
              "    </tr>\n",
              "    <tr>\n",
              "      <th>11825529</th>\n",
              "      <td>4.418841</td>\n",
              "      <td>3</td>\n",
              "      <td>1.0</td>\n",
              "      <td>100%</td>\n",
              "      <td>15</td>\n",
              "      <td>97.0</td>\n",
              "      <td>1.0</td>\n",
              "      <td>1.0</td>\n",
              "    </tr>\n",
              "    <tr>\n",
              "      <th>13971273</th>\n",
              "      <td>4.787492</td>\n",
              "      <td>2</td>\n",
              "      <td>1.0</td>\n",
              "      <td>100%</td>\n",
              "      <td>9</td>\n",
              "      <td>93.0</td>\n",
              "      <td>1.0</td>\n",
              "      <td>1.0</td>\n",
              "    </tr>\n",
              "    <tr>\n",
              "      <th>180792</th>\n",
              "      <td>4.787492</td>\n",
              "      <td>2</td>\n",
              "      <td>1.0</td>\n",
              "      <td>100%</td>\n",
              "      <td>159</td>\n",
              "      <td>99.0</td>\n",
              "      <td>1.0</td>\n",
              "      <td>1.0</td>\n",
              "    </tr>\n",
              "    <tr>\n",
              "      <th>5385260</th>\n",
              "      <td>3.583519</td>\n",
              "      <td>2</td>\n",
              "      <td>1.0</td>\n",
              "      <td>100%</td>\n",
              "      <td>2</td>\n",
              "      <td>90.0</td>\n",
              "      <td>1.0</td>\n",
              "      <td>1.0</td>\n",
              "    </tr>\n",
              "    <tr>\n",
              "      <th>5578513</th>\n",
              "      <td>4.605170</td>\n",
              "      <td>2</td>\n",
              "      <td>1.0</td>\n",
              "      <td>100%</td>\n",
              "      <td>82</td>\n",
              "      <td>93.0</td>\n",
              "      <td>1.0</td>\n",
              "      <td>1.0</td>\n",
              "    </tr>\n",
              "    <tr>\n",
              "      <th>17423675</th>\n",
              "      <td>5.010635</td>\n",
              "      <td>4</td>\n",
              "      <td>1.5</td>\n",
              "      <td>100%</td>\n",
              "      <td>29</td>\n",
              "      <td>97.0</td>\n",
              "      <td>2.0</td>\n",
              "      <td>2.0</td>\n",
              "    </tr>\n",
              "    <tr>\n",
              "      <th>14066228</th>\n",
              "      <td>4.248495</td>\n",
              "      <td>2</td>\n",
              "      <td>1.0</td>\n",
              "      <td>NaN</td>\n",
              "      <td>0</td>\n",
              "      <td>NaN</td>\n",
              "      <td>1.0</td>\n",
              "      <td>1.0</td>\n",
              "    </tr>\n",
              "    <tr>\n",
              "      <th>2658946</th>\n",
              "      <td>5.298317</td>\n",
              "      <td>6</td>\n",
              "      <td>1.5</td>\n",
              "      <td>100%</td>\n",
              "      <td>13</td>\n",
              "      <td>89.0</td>\n",
              "      <td>2.0</td>\n",
              "      <td>3.0</td>\n",
              "    </tr>\n",
              "    <tr>\n",
              "      <th>583490</th>\n",
              "      <td>4.955827</td>\n",
              "      <td>2</td>\n",
              "      <td>1.0</td>\n",
              "      <td>100%</td>\n",
              "      <td>2</td>\n",
              "      <td>100.0</td>\n",
              "      <td>1.0</td>\n",
              "      <td>1.0</td>\n",
              "    </tr>\n",
              "    <tr>\n",
              "      <th>6226658</th>\n",
              "      <td>4.094345</td>\n",
              "      <td>2</td>\n",
              "      <td>1.5</td>\n",
              "      <td>100%</td>\n",
              "      <td>0</td>\n",
              "      <td>NaN</td>\n",
              "      <td>1.0</td>\n",
              "      <td>1.0</td>\n",
              "    </tr>\n",
              "    <tr>\n",
              "      <th>7499179</th>\n",
              "      <td>4.317488</td>\n",
              "      <td>2</td>\n",
              "      <td>1.0</td>\n",
              "      <td>NaN</td>\n",
              "      <td>15</td>\n",
              "      <td>91.0</td>\n",
              "      <td>1.0</td>\n",
              "      <td>1.0</td>\n",
              "    </tr>\n",
              "    <tr>\n",
              "      <th>14648556</th>\n",
              "      <td>4.595120</td>\n",
              "      <td>2</td>\n",
              "      <td>2.0</td>\n",
              "      <td>100%</td>\n",
              "      <td>12</td>\n",
              "      <td>88.0</td>\n",
              "      <td>1.0</td>\n",
              "      <td>1.0</td>\n",
              "    </tr>\n",
              "    <tr>\n",
              "      <th>17589436</th>\n",
              "      <td>4.882802</td>\n",
              "      <td>2</td>\n",
              "      <td>1.0</td>\n",
              "      <td>71%</td>\n",
              "      <td>26</td>\n",
              "      <td>86.0</td>\n",
              "      <td>1.0</td>\n",
              "      <td>2.0</td>\n",
              "    </tr>\n",
              "    <tr>\n",
              "      <th>18224863</th>\n",
              "      <td>4.595120</td>\n",
              "      <td>8</td>\n",
              "      <td>1.0</td>\n",
              "      <td>100%</td>\n",
              "      <td>5</td>\n",
              "      <td>72.0</td>\n",
              "      <td>3.0</td>\n",
              "      <td>3.0</td>\n",
              "    </tr>\n",
              "    <tr>\n",
              "      <th>7264511</th>\n",
              "      <td>4.382027</td>\n",
              "      <td>2</td>\n",
              "      <td>1.0</td>\n",
              "      <td>100%</td>\n",
              "      <td>26</td>\n",
              "      <td>98.0</td>\n",
              "      <td>1.0</td>\n",
              "      <td>1.0</td>\n",
              "    </tr>\n",
              "    <tr>\n",
              "      <th>16679342</th>\n",
              "      <td>3.688879</td>\n",
              "      <td>2</td>\n",
              "      <td>1.5</td>\n",
              "      <td>100%</td>\n",
              "      <td>57</td>\n",
              "      <td>89.0</td>\n",
              "      <td>1.0</td>\n",
              "      <td>1.0</td>\n",
              "    </tr>\n",
              "    <tr>\n",
              "      <th>3563677</th>\n",
              "      <td>4.905275</td>\n",
              "      <td>4</td>\n",
              "      <td>1.0</td>\n",
              "      <td>100%</td>\n",
              "      <td>73</td>\n",
              "      <td>99.0</td>\n",
              "      <td>1.0</td>\n",
              "      <td>1.0</td>\n",
              "    </tr>\n",
              "    <tr>\n",
              "      <th>17615783</th>\n",
              "      <td>4.007333</td>\n",
              "      <td>2</td>\n",
              "      <td>1.0</td>\n",
              "      <td>NaN</td>\n",
              "      <td>2</td>\n",
              "      <td>100.0</td>\n",
              "      <td>1.0</td>\n",
              "      <td>1.0</td>\n",
              "    </tr>\n",
              "    <tr>\n",
              "      <th>2479317</th>\n",
              "      <td>6.956545</td>\n",
              "      <td>4</td>\n",
              "      <td>1.0</td>\n",
              "      <td>NaN</td>\n",
              "      <td>0</td>\n",
              "      <td>NaN</td>\n",
              "      <td>1.0</td>\n",
              "      <td>2.0</td>\n",
              "    </tr>\n",
              "    <tr>\n",
              "      <th>...</th>\n",
              "      <td>...</td>\n",
              "      <td>...</td>\n",
              "      <td>...</td>\n",
              "      <td>...</td>\n",
              "      <td>...</td>\n",
              "      <td>...</td>\n",
              "      <td>...</td>\n",
              "      <td>...</td>\n",
              "    </tr>\n",
              "    <tr>\n",
              "      <th>224510</th>\n",
              "      <td>4.174387</td>\n",
              "      <td>2</td>\n",
              "      <td>1.0</td>\n",
              "      <td>100%</td>\n",
              "      <td>4</td>\n",
              "      <td>95.0</td>\n",
              "      <td>0.0</td>\n",
              "      <td>1.0</td>\n",
              "    </tr>\n",
              "    <tr>\n",
              "      <th>15042259</th>\n",
              "      <td>4.477337</td>\n",
              "      <td>4</td>\n",
              "      <td>1.0</td>\n",
              "      <td>100%</td>\n",
              "      <td>5</td>\n",
              "      <td>100.0</td>\n",
              "      <td>0.0</td>\n",
              "      <td>2.0</td>\n",
              "    </tr>\n",
              "    <tr>\n",
              "      <th>18997559</th>\n",
              "      <td>4.905275</td>\n",
              "      <td>5</td>\n",
              "      <td>2.5</td>\n",
              "      <td>90%</td>\n",
              "      <td>3</td>\n",
              "      <td>90.0</td>\n",
              "      <td>2.0</td>\n",
              "      <td>2.0</td>\n",
              "    </tr>\n",
              "    <tr>\n",
              "      <th>4550722</th>\n",
              "      <td>4.605170</td>\n",
              "      <td>2</td>\n",
              "      <td>1.0</td>\n",
              "      <td>0%</td>\n",
              "      <td>0</td>\n",
              "      <td>NaN</td>\n",
              "      <td>1.0</td>\n",
              "      <td>1.0</td>\n",
              "    </tr>\n",
              "    <tr>\n",
              "      <th>9704912</th>\n",
              "      <td>4.317488</td>\n",
              "      <td>2</td>\n",
              "      <td>1.0</td>\n",
              "      <td>100%</td>\n",
              "      <td>16</td>\n",
              "      <td>100.0</td>\n",
              "      <td>1.0</td>\n",
              "      <td>1.0</td>\n",
              "    </tr>\n",
              "    <tr>\n",
              "      <th>3779249</th>\n",
              "      <td>5.010635</td>\n",
              "      <td>2</td>\n",
              "      <td>1.0</td>\n",
              "      <td>70%</td>\n",
              "      <td>5</td>\n",
              "      <td>100.0</td>\n",
              "      <td>0.0</td>\n",
              "      <td>1.0</td>\n",
              "    </tr>\n",
              "    <tr>\n",
              "      <th>18395940</th>\n",
              "      <td>4.700480</td>\n",
              "      <td>4</td>\n",
              "      <td>2.0</td>\n",
              "      <td>90%</td>\n",
              "      <td>15</td>\n",
              "      <td>96.0</td>\n",
              "      <td>2.0</td>\n",
              "      <td>3.0</td>\n",
              "    </tr>\n",
              "    <tr>\n",
              "      <th>14838304</th>\n",
              "      <td>4.948760</td>\n",
              "      <td>4</td>\n",
              "      <td>1.0</td>\n",
              "      <td>100%</td>\n",
              "      <td>19</td>\n",
              "      <td>91.0</td>\n",
              "      <td>1.0</td>\n",
              "      <td>1.0</td>\n",
              "    </tr>\n",
              "    <tr>\n",
              "      <th>38663</th>\n",
              "      <td>3.688879</td>\n",
              "      <td>2</td>\n",
              "      <td>1.0</td>\n",
              "      <td>100%</td>\n",
              "      <td>7</td>\n",
              "      <td>86.0</td>\n",
              "      <td>1.0</td>\n",
              "      <td>1.0</td>\n",
              "    </tr>\n",
              "    <tr>\n",
              "      <th>2278677</th>\n",
              "      <td>4.382027</td>\n",
              "      <td>2</td>\n",
              "      <td>1.0</td>\n",
              "      <td>NaN</td>\n",
              "      <td>0</td>\n",
              "      <td>NaN</td>\n",
              "      <td>1.0</td>\n",
              "      <td>1.0</td>\n",
              "    </tr>\n",
              "    <tr>\n",
              "      <th>7331958</th>\n",
              "      <td>3.912023</td>\n",
              "      <td>2</td>\n",
              "      <td>1.0</td>\n",
              "      <td>NaN</td>\n",
              "      <td>2</td>\n",
              "      <td>60.0</td>\n",
              "      <td>1.0</td>\n",
              "      <td>1.0</td>\n",
              "    </tr>\n",
              "    <tr>\n",
              "      <th>15952947</th>\n",
              "      <td>4.700480</td>\n",
              "      <td>2</td>\n",
              "      <td>1.0</td>\n",
              "      <td>100%</td>\n",
              "      <td>31</td>\n",
              "      <td>92.0</td>\n",
              "      <td>1.0</td>\n",
              "      <td>1.0</td>\n",
              "    </tr>\n",
              "    <tr>\n",
              "      <th>8342838</th>\n",
              "      <td>4.553877</td>\n",
              "      <td>4</td>\n",
              "      <td>1.0</td>\n",
              "      <td>100%</td>\n",
              "      <td>177</td>\n",
              "      <td>88.0</td>\n",
              "      <td>0.0</td>\n",
              "      <td>2.0</td>\n",
              "    </tr>\n",
              "    <tr>\n",
              "      <th>4615631</th>\n",
              "      <td>4.276666</td>\n",
              "      <td>2</td>\n",
              "      <td>1.0</td>\n",
              "      <td>100%</td>\n",
              "      <td>50</td>\n",
              "      <td>96.0</td>\n",
              "      <td>1.0</td>\n",
              "      <td>1.0</td>\n",
              "    </tr>\n",
              "    <tr>\n",
              "      <th>13862304</th>\n",
              "      <td>4.605170</td>\n",
              "      <td>2</td>\n",
              "      <td>1.0</td>\n",
              "      <td>100%</td>\n",
              "      <td>32</td>\n",
              "      <td>93.0</td>\n",
              "      <td>1.0</td>\n",
              "      <td>1.0</td>\n",
              "    </tr>\n",
              "    <tr>\n",
              "      <th>18077717</th>\n",
              "      <td>4.584967</td>\n",
              "      <td>1</td>\n",
              "      <td>1.0</td>\n",
              "      <td>100%</td>\n",
              "      <td>4</td>\n",
              "      <td>90.0</td>\n",
              "      <td>1.0</td>\n",
              "      <td>1.0</td>\n",
              "    </tr>\n",
              "    <tr>\n",
              "      <th>7935934</th>\n",
              "      <td>4.110874</td>\n",
              "      <td>10</td>\n",
              "      <td>3.0</td>\n",
              "      <td>100%</td>\n",
              "      <td>1</td>\n",
              "      <td>80.0</td>\n",
              "      <td>1.0</td>\n",
              "      <td>10.0</td>\n",
              "    </tr>\n",
              "    <tr>\n",
              "      <th>11829011</th>\n",
              "      <td>5.135798</td>\n",
              "      <td>2</td>\n",
              "      <td>1.0</td>\n",
              "      <td>100%</td>\n",
              "      <td>24</td>\n",
              "      <td>98.0</td>\n",
              "      <td>1.0</td>\n",
              "      <td>1.0</td>\n",
              "    </tr>\n",
              "    <tr>\n",
              "      <th>14934112</th>\n",
              "      <td>4.356709</td>\n",
              "      <td>2</td>\n",
              "      <td>1.0</td>\n",
              "      <td>100%</td>\n",
              "      <td>6</td>\n",
              "      <td>100.0</td>\n",
              "      <td>1.0</td>\n",
              "      <td>1.0</td>\n",
              "    </tr>\n",
              "    <tr>\n",
              "      <th>808802</th>\n",
              "      <td>4.248495</td>\n",
              "      <td>2</td>\n",
              "      <td>1.0</td>\n",
              "      <td>75%</td>\n",
              "      <td>36</td>\n",
              "      <td>91.0</td>\n",
              "      <td>1.0</td>\n",
              "      <td>1.0</td>\n",
              "    </tr>\n",
              "    <tr>\n",
              "      <th>14549287</th>\n",
              "      <td>4.605170</td>\n",
              "      <td>1</td>\n",
              "      <td>1.0</td>\n",
              "      <td>NaN</td>\n",
              "      <td>0</td>\n",
              "      <td>NaN</td>\n",
              "      <td>1.0</td>\n",
              "      <td>1.0</td>\n",
              "    </tr>\n",
              "    <tr>\n",
              "      <th>13281809</th>\n",
              "      <td>5.043425</td>\n",
              "      <td>4</td>\n",
              "      <td>2.0</td>\n",
              "      <td>100%</td>\n",
              "      <td>16</td>\n",
              "      <td>93.0</td>\n",
              "      <td>2.0</td>\n",
              "      <td>4.0</td>\n",
              "    </tr>\n",
              "    <tr>\n",
              "      <th>18688039</th>\n",
              "      <td>5.220356</td>\n",
              "      <td>5</td>\n",
              "      <td>1.0</td>\n",
              "      <td>100%</td>\n",
              "      <td>43</td>\n",
              "      <td>94.0</td>\n",
              "      <td>2.0</td>\n",
              "      <td>2.0</td>\n",
              "    </tr>\n",
              "    <tr>\n",
              "      <th>17045948</th>\n",
              "      <td>5.273000</td>\n",
              "      <td>2</td>\n",
              "      <td>1.0</td>\n",
              "      <td>100%</td>\n",
              "      <td>0</td>\n",
              "      <td>NaN</td>\n",
              "      <td>0.0</td>\n",
              "      <td>2.0</td>\n",
              "    </tr>\n",
              "    <tr>\n",
              "      <th>3534845</th>\n",
              "      <td>4.852030</td>\n",
              "      <td>4</td>\n",
              "      <td>1.0</td>\n",
              "      <td>100%</td>\n",
              "      <td>205</td>\n",
              "      <td>96.0</td>\n",
              "      <td>1.0</td>\n",
              "      <td>2.0</td>\n",
              "    </tr>\n",
              "  </tbody>\n",
              "</table>\n",
              "<p>74111 rows × 8 columns</p>\n",
              "</div>"
            ],
            "text/plain": [
              "          log_price  accommodates  bathrooms host_response_rate  \\\n",
              "id                                                                \n",
              "6901257    5.010635             3        1.0                NaN   \n",
              "6304928    5.129899             7        1.0               100%   \n",
              "7919400    4.976734             5        1.0               100%   \n",
              "13418779   6.620073             4        1.0                NaN   \n",
              "3808709    4.744932             2        1.0               100%   \n",
              "12422935   4.442651             2        1.0               100%   \n",
              "11825529   4.418841             3        1.0               100%   \n",
              "13971273   4.787492             2        1.0               100%   \n",
              "180792     4.787492             2        1.0               100%   \n",
              "5385260    3.583519             2        1.0               100%   \n",
              "5578513    4.605170             2        1.0               100%   \n",
              "17423675   5.010635             4        1.5               100%   \n",
              "14066228   4.248495             2        1.0                NaN   \n",
              "2658946    5.298317             6        1.5               100%   \n",
              "583490     4.955827             2        1.0               100%   \n",
              "6226658    4.094345             2        1.5               100%   \n",
              "7499179    4.317488             2        1.0                NaN   \n",
              "14648556   4.595120             2        2.0               100%   \n",
              "17589436   4.882802             2        1.0                71%   \n",
              "18224863   4.595120             8        1.0               100%   \n",
              "7264511    4.382027             2        1.0               100%   \n",
              "16679342   3.688879             2        1.5               100%   \n",
              "3563677    4.905275             4        1.0               100%   \n",
              "17615783   4.007333             2        1.0                NaN   \n",
              "2479317    6.956545             4        1.0                NaN   \n",
              "...             ...           ...        ...                ...   \n",
              "224510     4.174387             2        1.0               100%   \n",
              "15042259   4.477337             4        1.0               100%   \n",
              "18997559   4.905275             5        2.5                90%   \n",
              "4550722    4.605170             2        1.0                 0%   \n",
              "9704912    4.317488             2        1.0               100%   \n",
              "3779249    5.010635             2        1.0                70%   \n",
              "18395940   4.700480             4        2.0                90%   \n",
              "14838304   4.948760             4        1.0               100%   \n",
              "38663      3.688879             2        1.0               100%   \n",
              "2278677    4.382027             2        1.0                NaN   \n",
              "7331958    3.912023             2        1.0                NaN   \n",
              "15952947   4.700480             2        1.0               100%   \n",
              "8342838    4.553877             4        1.0               100%   \n",
              "4615631    4.276666             2        1.0               100%   \n",
              "13862304   4.605170             2        1.0               100%   \n",
              "18077717   4.584967             1        1.0               100%   \n",
              "7935934    4.110874            10        3.0               100%   \n",
              "11829011   5.135798             2        1.0               100%   \n",
              "14934112   4.356709             2        1.0               100%   \n",
              "808802     4.248495             2        1.0                75%   \n",
              "14549287   4.605170             1        1.0                NaN   \n",
              "13281809   5.043425             4        2.0               100%   \n",
              "18688039   5.220356             5        1.0               100%   \n",
              "17045948   5.273000             2        1.0               100%   \n",
              "3534845    4.852030             4        1.0               100%   \n",
              "\n",
              "          number_of_reviews  review_scores_rating  bedrooms  beds  \n",
              "id                                                                 \n",
              "6901257                   2                 100.0       1.0   1.0  \n",
              "6304928                   6                  93.0       3.0   3.0  \n",
              "7919400                  10                  92.0       1.0   3.0  \n",
              "13418779                  0                   NaN       2.0   2.0  \n",
              "3808709                   4                  40.0       0.0   1.0  \n",
              "12422935                  3                 100.0       1.0   1.0  \n",
              "11825529                 15                  97.0       1.0   1.0  \n",
              "13971273                  9                  93.0       1.0   1.0  \n",
              "180792                  159                  99.0       1.0   1.0  \n",
              "5385260                   2                  90.0       1.0   1.0  \n",
              "5578513                  82                  93.0       1.0   1.0  \n",
              "17423675                 29                  97.0       2.0   2.0  \n",
              "14066228                  0                   NaN       1.0   1.0  \n",
              "2658946                  13                  89.0       2.0   3.0  \n",
              "583490                    2                 100.0       1.0   1.0  \n",
              "6226658                   0                   NaN       1.0   1.0  \n",
              "7499179                  15                  91.0       1.0   1.0  \n",
              "14648556                 12                  88.0       1.0   1.0  \n",
              "17589436                 26                  86.0       1.0   2.0  \n",
              "18224863                  5                  72.0       3.0   3.0  \n",
              "7264511                  26                  98.0       1.0   1.0  \n",
              "16679342                 57                  89.0       1.0   1.0  \n",
              "3563677                  73                  99.0       1.0   1.0  \n",
              "17615783                  2                 100.0       1.0   1.0  \n",
              "2479317                   0                   NaN       1.0   2.0  \n",
              "...                     ...                   ...       ...   ...  \n",
              "224510                    4                  95.0       0.0   1.0  \n",
              "15042259                  5                 100.0       0.0   2.0  \n",
              "18997559                  3                  90.0       2.0   2.0  \n",
              "4550722                   0                   NaN       1.0   1.0  \n",
              "9704912                  16                 100.0       1.0   1.0  \n",
              "3779249                   5                 100.0       0.0   1.0  \n",
              "18395940                 15                  96.0       2.0   3.0  \n",
              "14838304                 19                  91.0       1.0   1.0  \n",
              "38663                     7                  86.0       1.0   1.0  \n",
              "2278677                   0                   NaN       1.0   1.0  \n",
              "7331958                   2                  60.0       1.0   1.0  \n",
              "15952947                 31                  92.0       1.0   1.0  \n",
              "8342838                 177                  88.0       0.0   2.0  \n",
              "4615631                  50                  96.0       1.0   1.0  \n",
              "13862304                 32                  93.0       1.0   1.0  \n",
              "18077717                  4                  90.0       1.0   1.0  \n",
              "7935934                   1                  80.0       1.0  10.0  \n",
              "11829011                 24                  98.0       1.0   1.0  \n",
              "14934112                  6                 100.0       1.0   1.0  \n",
              "808802                   36                  91.0       1.0   1.0  \n",
              "14549287                  0                   NaN       1.0   1.0  \n",
              "13281809                 16                  93.0       2.0   4.0  \n",
              "18688039                 43                  94.0       2.0   2.0  \n",
              "17045948                  0                   NaN       0.0   2.0  \n",
              "3534845                 205                  96.0       1.0   2.0  \n",
              "\n",
              "[74111 rows x 8 columns]"
            ]
          },
          "metadata": {
            "tags": []
          },
          "execution_count": 8
        }
      ]
    },
    {
      "cell_type": "markdown",
      "metadata": {
        "colab_type": "text",
        "heading_collapsed": true,
        "id": "CcV5-aI_D9MF"
      },
      "source": [
        "# removing percentage symbols from `host_response_rate` column and converting to plain numbers(e.g., 100% becomes 1.0 and 58 becomes 0.58)"
      ]
    },
    {
      "cell_type": "code",
      "metadata": {
        "ExecuteTime": {
          "end_time": "2019-06-04T11:58:37.433469Z",
          "start_time": "2019-06-04T11:58:37.427521Z"
        },
        "colab_type": "code",
        "hidden": true,
        "id": "vDfUehceDxqO",
        "outputId": "7aae8f35-6cbd-4f13-cb70-2ad830d84fd7",
        "colab": {
          "base_uri": "https://localhost:8080/",
          "height": 202
        }
      },
      "source": [
        "air_bnb_num.loc[:,\"host_response_rate\"][:10]"
      ],
      "execution_count": 0,
      "outputs": [
        {
          "output_type": "execute_result",
          "data": {
            "text/plain": [
              "0     NaN\n",
              "1    100%\n",
              "2    100%\n",
              "3     NaN\n",
              "4    100%\n",
              "5    100%\n",
              "6    100%\n",
              "7    100%\n",
              "8    100%\n",
              "9    100%\n",
              "Name: host_response_rate, dtype: object"
            ]
          },
          "metadata": {
            "tags": []
          },
          "execution_count": 9
        }
      ]
    },
    {
      "cell_type": "code",
      "metadata": {
        "ExecuteTime": {
          "end_time": "2019-06-04T11:58:44.318755Z",
          "start_time": "2019-06-04T11:58:44.310776Z"
        },
        "colab_type": "code",
        "hidden": true,
        "id": "slTyvTTbLoMN",
        "outputId": "5803e0fb-228c-478c-a06e-3d1a82bed284",
        "colab": {
          "base_uri": "https://localhost:8080/",
          "height": 34
        }
      },
      "source": [
        "type(air_bnb_num[\"host_response_rate\"][1])"
      ],
      "execution_count": 0,
      "outputs": [
        {
          "output_type": "execute_result",
          "data": {
            "text/plain": [
              "str"
            ]
          },
          "metadata": {
            "tags": []
          },
          "execution_count": 10
        }
      ]
    },
    {
      "cell_type": "code",
      "metadata": {
        "ExecuteTime": {
          "end_time": "2019-06-04T12:13:56.505192Z",
          "start_time": "2019-06-04T12:13:56.500206Z"
        },
        "hidden": true,
        "id": "uGtWmjqsbwsw",
        "colab_type": "code",
        "colab": {}
      },
      "source": [
        "def remove_percent_symbols(a_list):\n",
        "    list_without_percents = []\n",
        "    for x in a_list:\n",
        "        if type(x) == str:\n",
        "            list_without_percents.append(np.float64(x[:-1]))\n",
        "        else:\n",
        "            list_without_percents.append(np.NaN)\n",
        "    return np.asarray(list_without_percents).flatten()"
      ],
      "execution_count": 0,
      "outputs": []
    },
    {
      "cell_type": "code",
      "metadata": {
        "ExecuteTime": {
          "end_time": "2019-06-04T12:13:59.025200Z",
          "start_time": "2019-06-04T12:13:58.967318Z"
        },
        "hidden": true,
        "id": "va751dlAbwsx",
        "colab_type": "code",
        "outputId": "6798d246-930d-4d49-c247-e6f4262dd81e",
        "colab": {}
      },
      "source": [
        "a_list = remove_percent_symbols(air_bnb_num.loc[:,\"host_response_rate\"])\n",
        "a_list[:10]"
      ],
      "execution_count": 0,
      "outputs": [
        {
          "output_type": "execute_result",
          "data": {
            "text/plain": [
              "array([ nan, 100., 100.,  nan, 100., 100., 100., 100., 100., 100.])"
            ]
          },
          "metadata": {
            "tags": []
          },
          "execution_count": 16
        }
      ]
    },
    {
      "cell_type": "code",
      "metadata": {
        "ExecuteTime": {
          "end_time": "2019-06-04T12:14:17.401352Z",
          "start_time": "2019-06-04T12:14:17.385396Z"
        },
        "hidden": true,
        "id": "8QksQhcQbws0",
        "colab_type": "code",
        "outputId": "9157b481-bc2d-4fc9-a820-309ea2e0de09",
        "colab": {}
      },
      "source": [
        "air_bnb_num.loc[:,\"host_response_rate\"] = a_list\n",
        "air_bnb_num.head()"
      ],
      "execution_count": 0,
      "outputs": [
        {
          "output_type": "execute_result",
          "data": {
            "text/html": [
              "<div>\n",
              "<style scoped>\n",
              "    .dataframe tbody tr th:only-of-type {\n",
              "        vertical-align: middle;\n",
              "    }\n",
              "\n",
              "    .dataframe tbody tr th {\n",
              "        vertical-align: top;\n",
              "    }\n",
              "\n",
              "    .dataframe thead th {\n",
              "        text-align: right;\n",
              "    }\n",
              "</style>\n",
              "<table border=\"1\" class=\"dataframe\">\n",
              "  <thead>\n",
              "    <tr style=\"text-align: right;\">\n",
              "      <th></th>\n",
              "      <th>id</th>\n",
              "      <th>log_price</th>\n",
              "      <th>accommodates</th>\n",
              "      <th>bathrooms</th>\n",
              "      <th>host_response_rate</th>\n",
              "      <th>number_of_reviews</th>\n",
              "      <th>review_scores_rating</th>\n",
              "      <th>bedrooms</th>\n",
              "      <th>beds</th>\n",
              "    </tr>\n",
              "  </thead>\n",
              "  <tbody>\n",
              "    <tr>\n",
              "      <th>0</th>\n",
              "      <td>6901257</td>\n",
              "      <td>5.010635</td>\n",
              "      <td>3</td>\n",
              "      <td>1.0</td>\n",
              "      <td>NaN</td>\n",
              "      <td>2</td>\n",
              "      <td>100.0</td>\n",
              "      <td>1.0</td>\n",
              "      <td>1.0</td>\n",
              "    </tr>\n",
              "    <tr>\n",
              "      <th>1</th>\n",
              "      <td>6304928</td>\n",
              "      <td>5.129899</td>\n",
              "      <td>7</td>\n",
              "      <td>1.0</td>\n",
              "      <td>100.0</td>\n",
              "      <td>6</td>\n",
              "      <td>93.0</td>\n",
              "      <td>3.0</td>\n",
              "      <td>3.0</td>\n",
              "    </tr>\n",
              "    <tr>\n",
              "      <th>2</th>\n",
              "      <td>7919400</td>\n",
              "      <td>4.976734</td>\n",
              "      <td>5</td>\n",
              "      <td>1.0</td>\n",
              "      <td>100.0</td>\n",
              "      <td>10</td>\n",
              "      <td>92.0</td>\n",
              "      <td>1.0</td>\n",
              "      <td>3.0</td>\n",
              "    </tr>\n",
              "    <tr>\n",
              "      <th>3</th>\n",
              "      <td>13418779</td>\n",
              "      <td>6.620073</td>\n",
              "      <td>4</td>\n",
              "      <td>1.0</td>\n",
              "      <td>NaN</td>\n",
              "      <td>0</td>\n",
              "      <td>NaN</td>\n",
              "      <td>2.0</td>\n",
              "      <td>2.0</td>\n",
              "    </tr>\n",
              "    <tr>\n",
              "      <th>4</th>\n",
              "      <td>3808709</td>\n",
              "      <td>4.744932</td>\n",
              "      <td>2</td>\n",
              "      <td>1.0</td>\n",
              "      <td>100.0</td>\n",
              "      <td>4</td>\n",
              "      <td>40.0</td>\n",
              "      <td>0.0</td>\n",
              "      <td>1.0</td>\n",
              "    </tr>\n",
              "  </tbody>\n",
              "</table>\n",
              "</div>"
            ],
            "text/plain": [
              "         id  log_price  accommodates  bathrooms  host_response_rate  \\\n",
              "0   6901257   5.010635             3        1.0                 NaN   \n",
              "1   6304928   5.129899             7        1.0               100.0   \n",
              "2   7919400   4.976734             5        1.0               100.0   \n",
              "3  13418779   6.620073             4        1.0                 NaN   \n",
              "4   3808709   4.744932             2        1.0               100.0   \n",
              "\n",
              "   number_of_reviews  review_scores_rating  bedrooms  beds  \n",
              "0                  2                 100.0       1.0   1.0  \n",
              "1                  6                  93.0       3.0   3.0  \n",
              "2                 10                  92.0       1.0   3.0  \n",
              "3                  0                   NaN       2.0   2.0  \n",
              "4                  4                  40.0       0.0   1.0  "
            ]
          },
          "metadata": {
            "tags": []
          },
          "execution_count": 17
        }
      ]
    },
    {
      "cell_type": "code",
      "metadata": {
        "ExecuteTime": {
          "end_time": "2019-06-04T12:14:45.071449Z",
          "start_time": "2019-06-04T12:14:45.064433Z"
        },
        "colab_type": "code",
        "hidden": true,
        "id": "W-A9xvHcLIMe",
        "colab": {}
      },
      "source": [
        "def percent_to_numbers(a_list):\n",
        "    list_in_numbers = []\n",
        "    for x in a_list:\n",
        "        if type(x) == float:\n",
        "            list_in_numbers.append(np.float64(x/100))\n",
        "        else:\n",
        "            list_in_numbers.append(np.NaN)\n",
        "    return np.asarray(list_in_numbers).flatten()"
      ],
      "execution_count": 0,
      "outputs": []
    },
    {
      "cell_type": "code",
      "metadata": {
        "ExecuteTime": {
          "end_time": "2019-06-04T12:15:24.545372Z",
          "start_time": "2019-06-04T12:15:24.496543Z"
        },
        "hidden": true,
        "id": "8HY2gD6Bbws6",
        "colab_type": "code",
        "outputId": "691a1a8c-2670-431e-e090-d01bc6c2122a",
        "colab": {}
      },
      "source": [
        "another_list = percent_to_numbers(air_bnb_num.loc[:,\"host_response_rate\"])\n",
        "another_list[:20]"
      ],
      "execution_count": 0,
      "outputs": [
        {
          "output_type": "execute_result",
          "data": {
            "text/plain": [
              "array([ nan, 1.  , 1.  ,  nan, 1.  , 1.  , 1.  , 1.  , 1.  , 1.  , 1.  ,\n",
              "       1.  ,  nan, 1.  , 1.  , 1.  ,  nan, 1.  , 0.71, 1.  ])"
            ]
          },
          "metadata": {
            "tags": []
          },
          "execution_count": 20
        }
      ]
    },
    {
      "cell_type": "code",
      "metadata": {
        "ExecuteTime": {
          "end_time": "2019-06-04T12:15:54.607121Z",
          "start_time": "2019-06-04T12:15:54.589135Z"
        },
        "hidden": true,
        "id": "gaa6jcA_bws9",
        "colab_type": "code",
        "outputId": "b419aa50-98c8-4f20-e91d-945da6d7cebf",
        "colab": {}
      },
      "source": [
        "air_bnb_num.loc[:,\"host_response_rate\"] = another_list\n",
        "air_bnb_num.head()"
      ],
      "execution_count": 0,
      "outputs": [
        {
          "output_type": "execute_result",
          "data": {
            "text/html": [
              "<div>\n",
              "<style scoped>\n",
              "    .dataframe tbody tr th:only-of-type {\n",
              "        vertical-align: middle;\n",
              "    }\n",
              "\n",
              "    .dataframe tbody tr th {\n",
              "        vertical-align: top;\n",
              "    }\n",
              "\n",
              "    .dataframe thead th {\n",
              "        text-align: right;\n",
              "    }\n",
              "</style>\n",
              "<table border=\"1\" class=\"dataframe\">\n",
              "  <thead>\n",
              "    <tr style=\"text-align: right;\">\n",
              "      <th></th>\n",
              "      <th>id</th>\n",
              "      <th>log_price</th>\n",
              "      <th>accommodates</th>\n",
              "      <th>bathrooms</th>\n",
              "      <th>host_response_rate</th>\n",
              "      <th>number_of_reviews</th>\n",
              "      <th>review_scores_rating</th>\n",
              "      <th>bedrooms</th>\n",
              "      <th>beds</th>\n",
              "    </tr>\n",
              "  </thead>\n",
              "  <tbody>\n",
              "    <tr>\n",
              "      <th>0</th>\n",
              "      <td>6901257</td>\n",
              "      <td>5.010635</td>\n",
              "      <td>3</td>\n",
              "      <td>1.0</td>\n",
              "      <td>NaN</td>\n",
              "      <td>2</td>\n",
              "      <td>100.0</td>\n",
              "      <td>1.0</td>\n",
              "      <td>1.0</td>\n",
              "    </tr>\n",
              "    <tr>\n",
              "      <th>1</th>\n",
              "      <td>6304928</td>\n",
              "      <td>5.129899</td>\n",
              "      <td>7</td>\n",
              "      <td>1.0</td>\n",
              "      <td>1.0</td>\n",
              "      <td>6</td>\n",
              "      <td>93.0</td>\n",
              "      <td>3.0</td>\n",
              "      <td>3.0</td>\n",
              "    </tr>\n",
              "    <tr>\n",
              "      <th>2</th>\n",
              "      <td>7919400</td>\n",
              "      <td>4.976734</td>\n",
              "      <td>5</td>\n",
              "      <td>1.0</td>\n",
              "      <td>1.0</td>\n",
              "      <td>10</td>\n",
              "      <td>92.0</td>\n",
              "      <td>1.0</td>\n",
              "      <td>3.0</td>\n",
              "    </tr>\n",
              "    <tr>\n",
              "      <th>3</th>\n",
              "      <td>13418779</td>\n",
              "      <td>6.620073</td>\n",
              "      <td>4</td>\n",
              "      <td>1.0</td>\n",
              "      <td>NaN</td>\n",
              "      <td>0</td>\n",
              "      <td>NaN</td>\n",
              "      <td>2.0</td>\n",
              "      <td>2.0</td>\n",
              "    </tr>\n",
              "    <tr>\n",
              "      <th>4</th>\n",
              "      <td>3808709</td>\n",
              "      <td>4.744932</td>\n",
              "      <td>2</td>\n",
              "      <td>1.0</td>\n",
              "      <td>1.0</td>\n",
              "      <td>4</td>\n",
              "      <td>40.0</td>\n",
              "      <td>0.0</td>\n",
              "      <td>1.0</td>\n",
              "    </tr>\n",
              "  </tbody>\n",
              "</table>\n",
              "</div>"
            ],
            "text/plain": [
              "         id  log_price  accommodates  bathrooms  host_response_rate  \\\n",
              "0   6901257   5.010635             3        1.0                 NaN   \n",
              "1   6304928   5.129899             7        1.0                 1.0   \n",
              "2   7919400   4.976734             5        1.0                 1.0   \n",
              "3  13418779   6.620073             4        1.0                 NaN   \n",
              "4   3808709   4.744932             2        1.0                 1.0   \n",
              "\n",
              "   number_of_reviews  review_scores_rating  bedrooms  beds  \n",
              "0                  2                 100.0       1.0   1.0  \n",
              "1                  6                  93.0       3.0   3.0  \n",
              "2                 10                  92.0       1.0   3.0  \n",
              "3                  0                   NaN       2.0   2.0  \n",
              "4                  4                  40.0       0.0   1.0  "
            ]
          },
          "metadata": {
            "tags": []
          },
          "execution_count": 21
        }
      ]
    },
    {
      "cell_type": "code",
      "metadata": {
        "ExecuteTime": {
          "end_time": "2019-06-04T05:41:03.358808Z",
          "start_time": "2019-06-04T05:41:03.253741Z"
        },
        "hidden": true,
        "id": "wxBsC18mbwtB",
        "colab_type": "code",
        "outputId": "4bf375f1-8a9e-4735-8a62-09601a3d3c16",
        "colab": {}
      },
      "source": [
        "air_bnb_num[\"host_response_rate\"] = percent_to_numbers(air_bnb_num[\"host_response_rate\"])\n",
        "air_bnb_num.head()"
      ],
      "execution_count": 0,
      "outputs": [
        {
          "output_type": "execute_result",
          "data": {
            "text/html": [
              "<div>\n",
              "<style scoped>\n",
              "    .dataframe tbody tr th:only-of-type {\n",
              "        vertical-align: middle;\n",
              "    }\n",
              "\n",
              "    .dataframe tbody tr th {\n",
              "        vertical-align: top;\n",
              "    }\n",
              "\n",
              "    .dataframe thead th {\n",
              "        text-align: right;\n",
              "    }\n",
              "</style>\n",
              "<table border=\"1\" class=\"dataframe\">\n",
              "  <thead>\n",
              "    <tr style=\"text-align: right;\">\n",
              "      <th></th>\n",
              "      <th>id</th>\n",
              "      <th>log_price</th>\n",
              "      <th>accommodates</th>\n",
              "      <th>bathrooms</th>\n",
              "      <th>host_response_rate</th>\n",
              "      <th>number_of_reviews</th>\n",
              "      <th>review_scores_rating</th>\n",
              "      <th>bedrooms</th>\n",
              "      <th>beds</th>\n",
              "    </tr>\n",
              "  </thead>\n",
              "  <tbody>\n",
              "    <tr>\n",
              "      <th>0</th>\n",
              "      <td>6901257</td>\n",
              "      <td>5.010635</td>\n",
              "      <td>3</td>\n",
              "      <td>1.0</td>\n",
              "      <td>NaN</td>\n",
              "      <td>2</td>\n",
              "      <td>100.0</td>\n",
              "      <td>1.0</td>\n",
              "      <td>1.0</td>\n",
              "    </tr>\n",
              "    <tr>\n",
              "      <th>1</th>\n",
              "      <td>6304928</td>\n",
              "      <td>5.129899</td>\n",
              "      <td>7</td>\n",
              "      <td>1.0</td>\n",
              "      <td>1.0</td>\n",
              "      <td>6</td>\n",
              "      <td>93.0</td>\n",
              "      <td>3.0</td>\n",
              "      <td>3.0</td>\n",
              "    </tr>\n",
              "    <tr>\n",
              "      <th>2</th>\n",
              "      <td>7919400</td>\n",
              "      <td>4.976734</td>\n",
              "      <td>5</td>\n",
              "      <td>1.0</td>\n",
              "      <td>1.0</td>\n",
              "      <td>10</td>\n",
              "      <td>92.0</td>\n",
              "      <td>1.0</td>\n",
              "      <td>3.0</td>\n",
              "    </tr>\n",
              "    <tr>\n",
              "      <th>3</th>\n",
              "      <td>13418779</td>\n",
              "      <td>6.620073</td>\n",
              "      <td>4</td>\n",
              "      <td>1.0</td>\n",
              "      <td>NaN</td>\n",
              "      <td>0</td>\n",
              "      <td>NaN</td>\n",
              "      <td>2.0</td>\n",
              "      <td>2.0</td>\n",
              "    </tr>\n",
              "    <tr>\n",
              "      <th>4</th>\n",
              "      <td>3808709</td>\n",
              "      <td>4.744932</td>\n",
              "      <td>2</td>\n",
              "      <td>1.0</td>\n",
              "      <td>1.0</td>\n",
              "      <td>4</td>\n",
              "      <td>40.0</td>\n",
              "      <td>0.0</td>\n",
              "      <td>1.0</td>\n",
              "    </tr>\n",
              "  </tbody>\n",
              "</table>\n",
              "</div>"
            ],
            "text/plain": [
              "         id  log_price  accommodates  bathrooms  host_response_rate  \\\n",
              "0   6901257   5.010635             3        1.0                 NaN   \n",
              "1   6304928   5.129899             7        1.0                 1.0   \n",
              "2   7919400   4.976734             5        1.0                 1.0   \n",
              "3  13418779   6.620073             4        1.0                 NaN   \n",
              "4   3808709   4.744932             2        1.0                 1.0   \n",
              "\n",
              "   number_of_reviews  review_scores_rating  bedrooms  beds  \n",
              "0                  2                 100.0       1.0   1.0  \n",
              "1                  6                  93.0       3.0   3.0  \n",
              "2                 10                  92.0       1.0   3.0  \n",
              "3                  0                   NaN       2.0   2.0  \n",
              "4                  4                  40.0       0.0   1.0  "
            ]
          },
          "metadata": {
            "tags": []
          },
          "execution_count": 6
        }
      ]
    },
    {
      "cell_type": "markdown",
      "metadata": {
        "colab_type": "text",
        "heading_collapsed": true,
        "id": "jw57j_TVRdf1"
      },
      "source": [
        "# Scaling the data for KNN"
      ]
    },
    {
      "cell_type": "code",
      "metadata": {
        "colab_type": "code",
        "hidden": true,
        "id": "V7MDH1jlR6G9",
        "colab": {}
      },
      "source": [
        "# i'm first gonna try to scale and get the original data and see how that works"
      ],
      "execution_count": 0,
      "outputs": []
    },
    {
      "cell_type": "code",
      "metadata": {
        "ExecuteTime": {
          "end_time": "2019-06-04T05:41:26.430013Z",
          "start_time": "2019-06-04T05:41:22.587001Z"
        },
        "colab_type": "code",
        "hidden": true,
        "id": "838Ho1TTUfQh",
        "colab": {}
      },
      "source": [
        "from sklearn.preprocessing import MinMaxScaler\n",
        "min_max = MinMaxScaler()"
      ],
      "execution_count": 0,
      "outputs": []
    },
    {
      "cell_type": "code",
      "metadata": {
        "ExecuteTime": {
          "end_time": "2019-06-03T06:45:52.453571Z",
          "start_time": "2019-06-03T06:45:52.447123Z"
        },
        "hidden": true,
        "id": "tqa9wlsibwtK",
        "colab_type": "code",
        "outputId": "afb4b322-f387-4aab-eee1-78f1a92e3e91",
        "colab": {}
      },
      "source": [
        "np.asarray(air_bnb_num.columns.values)"
      ],
      "execution_count": 0,
      "outputs": [
        {
          "output_type": "execute_result",
          "data": {
            "text/plain": [
              "array(['id', 'log_price', 'accommodates', 'bathrooms',\n",
              "       'host_response_rate', 'number_of_reviews', 'review_scores_rating',\n",
              "       'bedrooms', 'beds'], dtype=object)"
            ]
          },
          "metadata": {
            "tags": []
          },
          "execution_count": 14
        }
      ]
    },
    {
      "cell_type": "code",
      "metadata": {
        "ExecuteTime": {
          "end_time": "2019-06-04T05:41:29.399473Z",
          "start_time": "2019-06-04T05:41:29.343699Z"
        },
        "colab_type": "code",
        "hidden": true,
        "id": "B_ReNQcWFAFh",
        "outputId": "f5f77232-b8c3-4f0d-866b-6a3e953e4c1e",
        "colab": {
          "base_uri": "https://localhost:8080/",
          "height": 34
        }
      },
      "source": [
        "normalizer_max = min_max.fit(air_bnb_num[['log_price', 'accommodates', 'bathrooms',\n",
        "                                          'host_response_rate', 'number_of_reviews', \n",
        "                                          'review_scores_rating', 'bedrooms', 'beds']])\n",
        "normalizer_max"
      ],
      "execution_count": 0,
      "outputs": [
        {
          "output_type": "stream",
          "text": [
            "C:\\Users\\neevaN_Reddy\\Anaconda3\\lib\\site-packages\\sklearn\\preprocessing\\data.py:334: DataConversionWarning: Data with input dtype int64, float64 were all converted to float64 by MinMaxScaler.\n",
            "  return self.partial_fit(X, y)\n"
          ],
          "name": "stderr"
        },
        {
          "output_type": "execute_result",
          "data": {
            "text/plain": [
              "MinMaxScaler(copy=True, feature_range=(0, 1))"
            ]
          },
          "metadata": {
            "tags": []
          },
          "execution_count": 8
        }
      ]
    },
    {
      "cell_type": "code",
      "metadata": {
        "ExecuteTime": {
          "end_time": "2019-06-04T05:41:32.029207Z",
          "start_time": "2019-06-04T05:41:32.000446Z"
        },
        "colab_type": "code",
        "hidden": true,
        "id": "s7ESLEZ9VTBY",
        "colab": {}
      },
      "source": [
        "# transform now\n",
        "air_bnb_scaled = normalizer_max.transform(air_bnb_num[['log_price', 'accommodates', 'bathrooms',\n",
        "                                                       'host_response_rate', 'number_of_reviews', \n",
        "                                                       'review_scores_rating', 'bedrooms', 'beds']])"
      ],
      "execution_count": 0,
      "outputs": []
    },
    {
      "cell_type": "code",
      "metadata": {
        "ExecuteTime": {
          "end_time": "2019-06-04T05:41:34.664400Z",
          "start_time": "2019-06-04T05:41:34.653696Z"
        },
        "colab_type": "code",
        "hidden": true,
        "id": "CcqnDj-h2gBy",
        "outputId": "321ee0d7-3f28-4ccd-8d04-609914a5224f",
        "colab": {
          "base_uri": "https://localhost:8080/",
          "height": 151
        }
      },
      "source": [
        "air_bnb_columns = list(air_bnb_num.columns.values)\n",
        "# since our scaled dataframe doesn't have \"id\" column. let's drop that\n",
        "air_bnb_columns.remove(\"id\")\n",
        "air_bnb_columns"
      ],
      "execution_count": 0,
      "outputs": [
        {
          "output_type": "execute_result",
          "data": {
            "text/plain": [
              "['log_price',\n",
              " 'accommodates',\n",
              " 'bathrooms',\n",
              " 'host_response_rate',\n",
              " 'number_of_reviews',\n",
              " 'review_scores_rating',\n",
              " 'bedrooms',\n",
              " 'beds']"
            ]
          },
          "metadata": {
            "tags": []
          },
          "execution_count": 10
        }
      ]
    },
    {
      "cell_type": "code",
      "metadata": {
        "ExecuteTime": {
          "end_time": "2019-06-04T05:41:37.512040Z",
          "start_time": "2019-06-04T05:41:37.473125Z"
        },
        "colab_type": "code",
        "hidden": true,
        "id": "gePSETftXBCk",
        "outputId": "1531bea7-1b3f-41dd-cc5f-d28b422360f9",
        "colab": {
          "base_uri": "https://localhost:8080/",
          "height": 235
        }
      },
      "source": [
        "air_bnb_scaled = pd.DataFrame(data=air_bnb_scaled,\n",
        "                              columns=air_bnb_columns,\n",
        "                              index=air_bnb_num[\"id\"])\n",
        "air_bnb_scaled.info()"
      ],
      "execution_count": 0,
      "outputs": [
        {
          "output_type": "stream",
          "text": [
            "<class 'pandas.core.frame.DataFrame'>\n",
            "Int64Index: 74111 entries, 6901257 to 3534845\n",
            "Data columns (total 8 columns):\n",
            "log_price               74111 non-null float64\n",
            "accommodates            74111 non-null float64\n",
            "bathrooms               73911 non-null float64\n",
            "host_response_rate      55812 non-null float64\n",
            "number_of_reviews       74111 non-null float64\n",
            "review_scores_rating    57389 non-null float64\n",
            "bedrooms                74020 non-null float64\n",
            "beds                    73980 non-null float64\n",
            "dtypes: float64(8)\n",
            "memory usage: 5.1 MB\n"
          ],
          "name": "stdout"
        }
      ]
    },
    {
      "cell_type": "code",
      "metadata": {
        "ExecuteTime": {
          "end_time": "2019-06-04T05:41:52.206797Z",
          "start_time": "2019-06-04T05:41:52.195173Z"
        },
        "colab_type": "code",
        "hidden": true,
        "id": "AxYBZ0pNvAvN",
        "outputId": "26210e23-39bc-4d15-ec80-aae57f0a8371",
        "colab": {
          "base_uri": "https://localhost:8080/",
          "height": 50
        }
      },
      "source": [
        "print(air_bnb_scaled[\"accommodates\"].min())\n",
        "print(air_bnb_scaled[\"accommodates\"].max())"
      ],
      "execution_count": 0,
      "outputs": [
        {
          "output_type": "stream",
          "text": [
            "0.0\n",
            "1.0\n"
          ],
          "name": "stdout"
        }
      ]
    },
    {
      "cell_type": "code",
      "metadata": {
        "ExecuteTime": {
          "end_time": "2019-06-04T05:41:55.084763Z",
          "start_time": "2019-06-04T05:41:55.054651Z"
        },
        "colab_type": "code",
        "hidden": true,
        "id": "8Zgz2HJVyKqN",
        "outputId": "dd5c6fe0-0bfd-443d-c058-b42719e77e42",
        "scrolled": true,
        "colab": {
          "base_uri": "https://localhost:8080/",
          "height": 225
        }
      },
      "source": [
        "air_bnb_scaled.head()"
      ],
      "execution_count": 0,
      "outputs": [
        {
          "output_type": "execute_result",
          "data": {
            "text/html": [
              "<div>\n",
              "<style scoped>\n",
              "    .dataframe tbody tr th:only-of-type {\n",
              "        vertical-align: middle;\n",
              "    }\n",
              "\n",
              "    .dataframe tbody tr th {\n",
              "        vertical-align: top;\n",
              "    }\n",
              "\n",
              "    .dataframe thead th {\n",
              "        text-align: right;\n",
              "    }\n",
              "</style>\n",
              "<table border=\"1\" class=\"dataframe\">\n",
              "  <thead>\n",
              "    <tr style=\"text-align: right;\">\n",
              "      <th></th>\n",
              "      <th>log_price</th>\n",
              "      <th>accommodates</th>\n",
              "      <th>bathrooms</th>\n",
              "      <th>host_response_rate</th>\n",
              "      <th>number_of_reviews</th>\n",
              "      <th>review_scores_rating</th>\n",
              "      <th>bedrooms</th>\n",
              "      <th>beds</th>\n",
              "    </tr>\n",
              "    <tr>\n",
              "      <th>id</th>\n",
              "      <th></th>\n",
              "      <th></th>\n",
              "      <th></th>\n",
              "      <th></th>\n",
              "      <th></th>\n",
              "      <th></th>\n",
              "      <th></th>\n",
              "      <th></th>\n",
              "    </tr>\n",
              "  </thead>\n",
              "  <tbody>\n",
              "    <tr>\n",
              "      <th>6901257</th>\n",
              "      <td>0.659259</td>\n",
              "      <td>0.133333</td>\n",
              "      <td>0.125</td>\n",
              "      <td>NaN</td>\n",
              "      <td>0.003306</td>\n",
              "      <td>1.0000</td>\n",
              "      <td>0.1</td>\n",
              "      <td>0.055556</td>\n",
              "    </tr>\n",
              "    <tr>\n",
              "      <th>6304928</th>\n",
              "      <td>0.674951</td>\n",
              "      <td>0.400000</td>\n",
              "      <td>0.125</td>\n",
              "      <td>1.0</td>\n",
              "      <td>0.009917</td>\n",
              "      <td>0.9125</td>\n",
              "      <td>0.3</td>\n",
              "      <td>0.166667</td>\n",
              "    </tr>\n",
              "    <tr>\n",
              "      <th>7919400</th>\n",
              "      <td>0.654799</td>\n",
              "      <td>0.266667</td>\n",
              "      <td>0.125</td>\n",
              "      <td>1.0</td>\n",
              "      <td>0.016529</td>\n",
              "      <td>0.9000</td>\n",
              "      <td>0.1</td>\n",
              "      <td>0.166667</td>\n",
              "    </tr>\n",
              "    <tr>\n",
              "      <th>13418779</th>\n",
              "      <td>0.871016</td>\n",
              "      <td>0.200000</td>\n",
              "      <td>0.125</td>\n",
              "      <td>NaN</td>\n",
              "      <td>0.000000</td>\n",
              "      <td>NaN</td>\n",
              "      <td>0.2</td>\n",
              "      <td>0.111111</td>\n",
              "    </tr>\n",
              "    <tr>\n",
              "      <th>3808709</th>\n",
              "      <td>0.624300</td>\n",
              "      <td>0.066667</td>\n",
              "      <td>0.125</td>\n",
              "      <td>1.0</td>\n",
              "      <td>0.006612</td>\n",
              "      <td>0.2500</td>\n",
              "      <td>0.0</td>\n",
              "      <td>0.055556</td>\n",
              "    </tr>\n",
              "  </tbody>\n",
              "</table>\n",
              "</div>"
            ],
            "text/plain": [
              "          log_price  accommodates  bathrooms  host_response_rate  \\\n",
              "id                                                                 \n",
              "6901257    0.659259      0.133333      0.125                 NaN   \n",
              "6304928    0.674951      0.400000      0.125                 1.0   \n",
              "7919400    0.654799      0.266667      0.125                 1.0   \n",
              "13418779   0.871016      0.200000      0.125                 NaN   \n",
              "3808709    0.624300      0.066667      0.125                 1.0   \n",
              "\n",
              "          number_of_reviews  review_scores_rating  bedrooms      beds  \n",
              "id                                                                     \n",
              "6901257            0.003306                1.0000       0.1  0.055556  \n",
              "6304928            0.009917                0.9125       0.3  0.166667  \n",
              "7919400            0.016529                0.9000       0.1  0.166667  \n",
              "13418779           0.000000                   NaN       0.2  0.111111  \n",
              "3808709            0.006612                0.2500       0.0  0.055556  "
            ]
          },
          "metadata": {
            "tags": []
          },
          "execution_count": 13
        }
      ]
    },
    {
      "cell_type": "code",
      "metadata": {
        "ExecuteTime": {
          "end_time": "2019-06-04T05:42:00.283084Z",
          "start_time": "2019-06-04T05:42:00.234696Z"
        },
        "colab_type": "code",
        "hidden": true,
        "id": "Od-rMEdPta8V",
        "outputId": "dff29fea-477a-4c5e-c880-903b7dc7fb54",
        "colab": {
          "base_uri": "https://localhost:8080/",
          "height": 235
        }
      },
      "source": [
        "original_data = pd.DataFrame(data=normalizer_max.inverse_transform(air_bnb_scaled),\n",
        "                              columns=air_bnb_columns,\n",
        "                              index=air_bnb_num[\"id\"])\n",
        "original_data.head()"
      ],
      "execution_count": 0,
      "outputs": [
        {
          "output_type": "execute_result",
          "data": {
            "text/html": [
              "<div>\n",
              "<style scoped>\n",
              "    .dataframe tbody tr th:only-of-type {\n",
              "        vertical-align: middle;\n",
              "    }\n",
              "\n",
              "    .dataframe tbody tr th {\n",
              "        vertical-align: top;\n",
              "    }\n",
              "\n",
              "    .dataframe thead th {\n",
              "        text-align: right;\n",
              "    }\n",
              "</style>\n",
              "<table border=\"1\" class=\"dataframe\">\n",
              "  <thead>\n",
              "    <tr style=\"text-align: right;\">\n",
              "      <th></th>\n",
              "      <th>log_price</th>\n",
              "      <th>accommodates</th>\n",
              "      <th>bathrooms</th>\n",
              "      <th>host_response_rate</th>\n",
              "      <th>number_of_reviews</th>\n",
              "      <th>review_scores_rating</th>\n",
              "      <th>bedrooms</th>\n",
              "      <th>beds</th>\n",
              "    </tr>\n",
              "    <tr>\n",
              "      <th>id</th>\n",
              "      <th></th>\n",
              "      <th></th>\n",
              "      <th></th>\n",
              "      <th></th>\n",
              "      <th></th>\n",
              "      <th></th>\n",
              "      <th></th>\n",
              "      <th></th>\n",
              "    </tr>\n",
              "  </thead>\n",
              "  <tbody>\n",
              "    <tr>\n",
              "      <th>6901257</th>\n",
              "      <td>5.010635</td>\n",
              "      <td>3.0</td>\n",
              "      <td>1.0</td>\n",
              "      <td>NaN</td>\n",
              "      <td>2.0</td>\n",
              "      <td>100.0</td>\n",
              "      <td>1.0</td>\n",
              "      <td>1.0</td>\n",
              "    </tr>\n",
              "    <tr>\n",
              "      <th>6304928</th>\n",
              "      <td>5.129899</td>\n",
              "      <td>7.0</td>\n",
              "      <td>1.0</td>\n",
              "      <td>1.0</td>\n",
              "      <td>6.0</td>\n",
              "      <td>93.0</td>\n",
              "      <td>3.0</td>\n",
              "      <td>3.0</td>\n",
              "    </tr>\n",
              "    <tr>\n",
              "      <th>7919400</th>\n",
              "      <td>4.976734</td>\n",
              "      <td>5.0</td>\n",
              "      <td>1.0</td>\n",
              "      <td>1.0</td>\n",
              "      <td>10.0</td>\n",
              "      <td>92.0</td>\n",
              "      <td>1.0</td>\n",
              "      <td>3.0</td>\n",
              "    </tr>\n",
              "    <tr>\n",
              "      <th>13418779</th>\n",
              "      <td>6.620073</td>\n",
              "      <td>4.0</td>\n",
              "      <td>1.0</td>\n",
              "      <td>NaN</td>\n",
              "      <td>0.0</td>\n",
              "      <td>NaN</td>\n",
              "      <td>2.0</td>\n",
              "      <td>2.0</td>\n",
              "    </tr>\n",
              "    <tr>\n",
              "      <th>3808709</th>\n",
              "      <td>4.744932</td>\n",
              "      <td>2.0</td>\n",
              "      <td>1.0</td>\n",
              "      <td>1.0</td>\n",
              "      <td>4.0</td>\n",
              "      <td>40.0</td>\n",
              "      <td>0.0</td>\n",
              "      <td>1.0</td>\n",
              "    </tr>\n",
              "  </tbody>\n",
              "</table>\n",
              "</div>"
            ],
            "text/plain": [
              "          log_price  accommodates  bathrooms  host_response_rate  \\\n",
              "id                                                                 \n",
              "6901257    5.010635           3.0        1.0                 NaN   \n",
              "6304928    5.129899           7.0        1.0                 1.0   \n",
              "7919400    4.976734           5.0        1.0                 1.0   \n",
              "13418779   6.620073           4.0        1.0                 NaN   \n",
              "3808709    4.744932           2.0        1.0                 1.0   \n",
              "\n",
              "          number_of_reviews  review_scores_rating  bedrooms  beds  \n",
              "id                                                                 \n",
              "6901257                 2.0                 100.0       1.0   1.0  \n",
              "6304928                 6.0                  93.0       3.0   3.0  \n",
              "7919400                10.0                  92.0       1.0   3.0  \n",
              "13418779                0.0                   NaN       2.0   2.0  \n",
              "3808709                 4.0                  40.0       0.0   1.0  "
            ]
          },
          "metadata": {
            "tags": []
          },
          "execution_count": 14
        }
      ]
    },
    {
      "cell_type": "code",
      "metadata": {
        "ExecuteTime": {
          "end_time": "2019-06-03T06:51:09.363522Z",
          "start_time": "2019-06-03T06:51:09.335247Z"
        },
        "colab_type": "code",
        "hidden": true,
        "id": "Fyry-ta_SzVn",
        "outputId": "a7d8fc13-03d4-4657-df46-d688eab32852",
        "colab": {
          "base_uri": "https://localhost:8080/",
          "height": 195
        }
      },
      "source": [
        "air_bnb_num.head()"
      ],
      "execution_count": 0,
      "outputs": [
        {
          "output_type": "execute_result",
          "data": {
            "text/html": [
              "<div>\n",
              "<style scoped>\n",
              "    .dataframe tbody tr th:only-of-type {\n",
              "        vertical-align: middle;\n",
              "    }\n",
              "\n",
              "    .dataframe tbody tr th {\n",
              "        vertical-align: top;\n",
              "    }\n",
              "\n",
              "    .dataframe thead th {\n",
              "        text-align: right;\n",
              "    }\n",
              "</style>\n",
              "<table border=\"1\" class=\"dataframe\">\n",
              "  <thead>\n",
              "    <tr style=\"text-align: right;\">\n",
              "      <th></th>\n",
              "      <th>id</th>\n",
              "      <th>log_price</th>\n",
              "      <th>accommodates</th>\n",
              "      <th>bathrooms</th>\n",
              "      <th>host_response_rate</th>\n",
              "      <th>number_of_reviews</th>\n",
              "      <th>review_scores_rating</th>\n",
              "      <th>bedrooms</th>\n",
              "      <th>beds</th>\n",
              "    </tr>\n",
              "  </thead>\n",
              "  <tbody>\n",
              "    <tr>\n",
              "      <th>0</th>\n",
              "      <td>6901257</td>\n",
              "      <td>5.010635</td>\n",
              "      <td>3</td>\n",
              "      <td>1.0</td>\n",
              "      <td>NaN</td>\n",
              "      <td>2</td>\n",
              "      <td>100.0</td>\n",
              "      <td>1.0</td>\n",
              "      <td>1.0</td>\n",
              "    </tr>\n",
              "    <tr>\n",
              "      <th>1</th>\n",
              "      <td>6304928</td>\n",
              "      <td>5.129899</td>\n",
              "      <td>7</td>\n",
              "      <td>1.0</td>\n",
              "      <td>1.0</td>\n",
              "      <td>6</td>\n",
              "      <td>93.0</td>\n",
              "      <td>3.0</td>\n",
              "      <td>3.0</td>\n",
              "    </tr>\n",
              "    <tr>\n",
              "      <th>2</th>\n",
              "      <td>7919400</td>\n",
              "      <td>4.976734</td>\n",
              "      <td>5</td>\n",
              "      <td>1.0</td>\n",
              "      <td>1.0</td>\n",
              "      <td>10</td>\n",
              "      <td>92.0</td>\n",
              "      <td>1.0</td>\n",
              "      <td>3.0</td>\n",
              "    </tr>\n",
              "    <tr>\n",
              "      <th>3</th>\n",
              "      <td>13418779</td>\n",
              "      <td>6.620073</td>\n",
              "      <td>4</td>\n",
              "      <td>1.0</td>\n",
              "      <td>NaN</td>\n",
              "      <td>0</td>\n",
              "      <td>NaN</td>\n",
              "      <td>2.0</td>\n",
              "      <td>2.0</td>\n",
              "    </tr>\n",
              "    <tr>\n",
              "      <th>4</th>\n",
              "      <td>3808709</td>\n",
              "      <td>4.744932</td>\n",
              "      <td>2</td>\n",
              "      <td>1.0</td>\n",
              "      <td>1.0</td>\n",
              "      <td>4</td>\n",
              "      <td>40.0</td>\n",
              "      <td>0.0</td>\n",
              "      <td>1.0</td>\n",
              "    </tr>\n",
              "  </tbody>\n",
              "</table>\n",
              "</div>"
            ],
            "text/plain": [
              "         id  log_price  accommodates  bathrooms  host_response_rate  \\\n",
              "0   6901257   5.010635             3        1.0                 NaN   \n",
              "1   6304928   5.129899             7        1.0                 1.0   \n",
              "2   7919400   4.976734             5        1.0                 1.0   \n",
              "3  13418779   6.620073             4        1.0                 NaN   \n",
              "4   3808709   4.744932             2        1.0                 1.0   \n",
              "\n",
              "   number_of_reviews  review_scores_rating  bedrooms  beds  \n",
              "0                  2                 100.0       1.0   1.0  \n",
              "1                  6                  93.0       3.0   3.0  \n",
              "2                 10                  92.0       1.0   3.0  \n",
              "3                  0                   NaN       2.0   2.0  \n",
              "4                  4                  40.0       0.0   1.0  "
            ]
          },
          "metadata": {
            "tags": []
          },
          "execution_count": 24
        }
      ]
    },
    {
      "cell_type": "code",
      "metadata": {
        "colab_type": "code",
        "hidden": true,
        "id": "qr3wtZQvKa0j",
        "colab": {}
      },
      "source": [
        "# air_bnb_scaled.to_csv(\"air_bnb_num_scaled_no_imputation.csv\")"
      ],
      "execution_count": 0,
      "outputs": []
    },
    {
      "cell_type": "markdown",
      "metadata": {
        "colab_type": "text",
        "id": "1S_8HjoblR39"
      },
      "source": [
        "# KNN imputation"
      ]
    },
    {
      "cell_type": "code",
      "metadata": {
        "ExecuteTime": {
          "end_time": "2019-06-04T05:54:25.145716Z",
          "start_time": "2019-06-04T05:54:25.132448Z"
        },
        "code_folding": [],
        "id": "o7AIJzxwbwtn",
        "colab_type": "code",
        "colab": {}
      },
      "source": [
        "# let's find K to train KNN\n",
        "# from formula sqrt(n), K can be less than \n",
        "def appropriate_k(x_train,x_test,y_train,y_test,k_max):\n",
        "    '''\n",
        "    this function takes x & y train & test dataframes,\n",
        "    fits KNN with a different K value each time to the data;\n",
        "    And MSE will be calcuated comparing the predictions to test data\n",
        "    and returns the K value that has less MSE\n",
        "    '''\n",
        "    from sklearn.neighbors import KNeighborsRegressor\n",
        "    from sklearn.metrics import mean_squared_error\n",
        "    \n",
        "    k_list = []\n",
        "    mse_list = []\n",
        "    \n",
        "    for i in range(10,k_max):\n",
        "        knn = KNeighborsRegressor(n_neighbors=i)\n",
        "        knn_model = knn.fit(x_train,y_train)\n",
        "        knn_pred = knn_model.predict(x_test)\n",
        "        mse = mean_squared_error(y_test,knn_pred)\n",
        "        k_list.append(i)\n",
        "        mse_list.append(mse)\n",
        "        \n",
        "    return k_list[mse_list.index(min(mse_list))]"
      ],
      "execution_count": 0,
      "outputs": []
    },
    {
      "cell_type": "code",
      "metadata": {
        "ExecuteTime": {
          "end_time": "2019-06-04T05:54:26.821421Z",
          "start_time": "2019-06-04T05:54:26.810167Z"
        },
        "id": "ZxU4jbYWbwtp",
        "colab_type": "code",
        "colab": {}
      },
      "source": [
        "def get_knn_predictions(x_train,y_train,x_test,n_neigh):\n",
        "    '''\n",
        "    this function takes train data for x & y and test data of x and no_of_neighbors for KNN,\n",
        "    and fits KNN to the data\n",
        "    and returns the numpy array of predictions\n",
        "    '''\n",
        "    from sklearn.neighbors import KNeighborsRegressor\n",
        "    from numpy import asarray\n",
        "    \n",
        "    knn_model = KNeighborsRegressor(n_neighbors=n_neigh)\n",
        "    model = knn_model.fit(x_train, y_train)\n",
        "    predictions_list = asarray(model.predict(x_test)).flatten()\n",
        "    return predictions_list"
      ],
      "execution_count": 0,
      "outputs": []
    },
    {
      "cell_type": "code",
      "metadata": {
        "ExecuteTime": {
          "end_time": "2019-06-04T05:54:41.986098Z",
          "start_time": "2019-06-04T05:54:41.956052Z"
        },
        "colab_type": "code",
        "id": "gfgwYbIxvUuT",
        "scrolled": true,
        "outputId": "b6e0f086-1831-4835-a3d7-077c7e5e7224",
        "colab": {}
      },
      "source": [
        "air_bnb_scaled.head()"
      ],
      "execution_count": 0,
      "outputs": [
        {
          "output_type": "execute_result",
          "data": {
            "text/html": [
              "<div>\n",
              "<style scoped>\n",
              "    .dataframe tbody tr th:only-of-type {\n",
              "        vertical-align: middle;\n",
              "    }\n",
              "\n",
              "    .dataframe tbody tr th {\n",
              "        vertical-align: top;\n",
              "    }\n",
              "\n",
              "    .dataframe thead th {\n",
              "        text-align: right;\n",
              "    }\n",
              "</style>\n",
              "<table border=\"1\" class=\"dataframe\">\n",
              "  <thead>\n",
              "    <tr style=\"text-align: right;\">\n",
              "      <th></th>\n",
              "      <th>log_price</th>\n",
              "      <th>accommodates</th>\n",
              "      <th>bathrooms</th>\n",
              "      <th>host_response_rate</th>\n",
              "      <th>number_of_reviews</th>\n",
              "      <th>review_scores_rating</th>\n",
              "      <th>bedrooms</th>\n",
              "      <th>beds</th>\n",
              "    </tr>\n",
              "    <tr>\n",
              "      <th>id</th>\n",
              "      <th></th>\n",
              "      <th></th>\n",
              "      <th></th>\n",
              "      <th></th>\n",
              "      <th></th>\n",
              "      <th></th>\n",
              "      <th></th>\n",
              "      <th></th>\n",
              "    </tr>\n",
              "  </thead>\n",
              "  <tbody>\n",
              "    <tr>\n",
              "      <th>6901257</th>\n",
              "      <td>0.659259</td>\n",
              "      <td>0.133333</td>\n",
              "      <td>0.125</td>\n",
              "      <td>NaN</td>\n",
              "      <td>0.003306</td>\n",
              "      <td>1.0000</td>\n",
              "      <td>0.1</td>\n",
              "      <td>0.055556</td>\n",
              "    </tr>\n",
              "    <tr>\n",
              "      <th>6304928</th>\n",
              "      <td>0.674951</td>\n",
              "      <td>0.400000</td>\n",
              "      <td>0.125</td>\n",
              "      <td>1.0</td>\n",
              "      <td>0.009917</td>\n",
              "      <td>0.9125</td>\n",
              "      <td>0.3</td>\n",
              "      <td>0.166667</td>\n",
              "    </tr>\n",
              "    <tr>\n",
              "      <th>7919400</th>\n",
              "      <td>0.654799</td>\n",
              "      <td>0.266667</td>\n",
              "      <td>0.125</td>\n",
              "      <td>1.0</td>\n",
              "      <td>0.016529</td>\n",
              "      <td>0.9000</td>\n",
              "      <td>0.1</td>\n",
              "      <td>0.166667</td>\n",
              "    </tr>\n",
              "    <tr>\n",
              "      <th>13418779</th>\n",
              "      <td>0.871016</td>\n",
              "      <td>0.200000</td>\n",
              "      <td>0.125</td>\n",
              "      <td>NaN</td>\n",
              "      <td>0.000000</td>\n",
              "      <td>NaN</td>\n",
              "      <td>0.2</td>\n",
              "      <td>0.111111</td>\n",
              "    </tr>\n",
              "    <tr>\n",
              "      <th>3808709</th>\n",
              "      <td>0.624300</td>\n",
              "      <td>0.066667</td>\n",
              "      <td>0.125</td>\n",
              "      <td>1.0</td>\n",
              "      <td>0.006612</td>\n",
              "      <td>0.2500</td>\n",
              "      <td>0.0</td>\n",
              "      <td>0.055556</td>\n",
              "    </tr>\n",
              "  </tbody>\n",
              "</table>\n",
              "</div>"
            ],
            "text/plain": [
              "          log_price  accommodates  bathrooms  host_response_rate  \\\n",
              "id                                                                 \n",
              "6901257    0.659259      0.133333      0.125                 NaN   \n",
              "6304928    0.674951      0.400000      0.125                 1.0   \n",
              "7919400    0.654799      0.266667      0.125                 1.0   \n",
              "13418779   0.871016      0.200000      0.125                 NaN   \n",
              "3808709    0.624300      0.066667      0.125                 1.0   \n",
              "\n",
              "          number_of_reviews  review_scores_rating  bedrooms      beds  \n",
              "id                                                                     \n",
              "6901257            0.003306                1.0000       0.1  0.055556  \n",
              "6304928            0.009917                0.9125       0.3  0.166667  \n",
              "7919400            0.016529                0.9000       0.1  0.166667  \n",
              "13418779           0.000000                   NaN       0.2  0.111111  \n",
              "3808709            0.006612                0.2500       0.0  0.055556  "
            ]
          },
          "metadata": {
            "tags": []
          },
          "execution_count": 17
        }
      ]
    },
    {
      "cell_type": "code",
      "metadata": {
        "ExecuteTime": {
          "end_time": "2019-06-04T05:54:44.426045Z",
          "start_time": "2019-06-04T05:54:44.403135Z"
        },
        "id": "CJ5itcNabwts",
        "colab_type": "code",
        "colab": {}
      },
      "source": [
        "air_bnb_num.isna().sum()"
      ],
      "execution_count": 0,
      "outputs": []
    },
    {
      "cell_type": "code",
      "metadata": {
        "ExecuteTime": {
          "end_time": "2019-06-04T07:01:34.703528Z",
          "start_time": "2019-06-04T07:01:34.684614Z"
        },
        "colab_type": "code",
        "id": "OzPu_W2toaM-",
        "colab": {}
      },
      "source": [
        "air_bnb_with_null    = air_bnb_scaled.copy()\n",
        "air_bnb_without_null = air_bnb_with_null.dropna()"
      ],
      "execution_count": 0,
      "outputs": []
    },
    {
      "cell_type": "code",
      "metadata": {
        "ExecuteTime": {
          "end_time": "2019-06-04T07:01:36.143638Z",
          "start_time": "2019-06-04T07:01:36.125688Z"
        },
        "id": "lutsKZKLbwtw",
        "colab_type": "code",
        "outputId": "68d1f138-9677-4a1f-8229-65c7d53fbe0c",
        "colab": {}
      },
      "source": [
        "air_bnb_with_null.info()"
      ],
      "execution_count": 0,
      "outputs": [
        {
          "output_type": "stream",
          "text": [
            "<class 'pandas.core.frame.DataFrame'>\n",
            "Int64Index: 74111 entries, 6901257 to 3534845\n",
            "Data columns (total 8 columns):\n",
            "log_price               74111 non-null float64\n",
            "accommodates            74111 non-null float64\n",
            "bathrooms               73911 non-null float64\n",
            "host_response_rate      55812 non-null float64\n",
            "number_of_reviews       74111 non-null float64\n",
            "review_scores_rating    57389 non-null float64\n",
            "bedrooms                74020 non-null float64\n",
            "beds                    73980 non-null float64\n",
            "dtypes: float64(8)\n",
            "memory usage: 5.1 MB\n"
          ],
          "name": "stdout"
        }
      ]
    },
    {
      "cell_type": "markdown",
      "metadata": {
        "colab_type": "text",
        "id": "9uz4T3vwlFOQ"
      },
      "source": [
        "# let's start with imputing `bedrooms` column, since it is the one that has lowest number of null values"
      ]
    },
    {
      "cell_type": "code",
      "metadata": {
        "ExecuteTime": {
          "end_time": "2019-06-04T06:48:57.313443Z",
          "start_time": "2019-06-04T06:48:57.301469Z"
        },
        "id": "IVrvIH34bwty",
        "colab_type": "code",
        "colab": {}
      },
      "source": [
        "# make train and test dataframes to find appropriate K value\n",
        "from sklearn.model_selection import train_test_split\n",
        "\n",
        "bedroom_x_train, bedroom_x_test, bedroom_y_train, bedroom_y_test = train_test_split(air_bnb_without_null[[\"log_price\",\"accommodates\",\"number_of_reviews\"]],\n",
        "                                                                                    air_bnb_without_null['bedrooms'],\n",
        "                                                                                   test_size=0.2)"
      ],
      "execution_count": 0,
      "outputs": []
    },
    {
      "cell_type": "code",
      "metadata": {
        "ExecuteTime": {
          "end_time": "2019-06-04T06:48:59.230831Z",
          "start_time": "2019-06-04T06:48:59.225919Z"
        },
        "id": "lxt2wGfDbwt0",
        "colab_type": "code",
        "outputId": "5a90c2c2-6c3e-4f86-f261-39ee62c6f7b7",
        "colab": {}
      },
      "source": [
        "print(bedroom_x_train.shape)\n",
        "print(bedroom_x_test.shape)\n",
        "print(bedroom_y_train.shape)\n",
        "print(bedroom_y_test.shape)"
      ],
      "execution_count": 0,
      "outputs": [
        {
          "output_type": "stream",
          "text": [
            "(38229, 3)\n",
            "(9558, 3)\n",
            "(38229,)\n",
            "(9558,)\n"
          ],
          "name": "stdout"
        }
      ]
    },
    {
      "cell_type": "code",
      "metadata": {
        "ExecuteTime": {
          "end_time": "2019-06-04T06:53:50.410514Z",
          "start_time": "2019-06-04T06:50:37.073330Z"
        },
        "id": "O2go6M5ybwt4",
        "colab_type": "code",
        "outputId": "c02ac441-b08e-4648-97ce-bced92625264",
        "colab": {}
      },
      "source": [
        "appropriate_k(x_train=bedroom_x_train,x_test=bedroom_x_test,y_train=bedroom_y_train,y_test=bedroom_y_test,k_max=300)"
      ],
      "execution_count": 0,
      "outputs": [
        {
          "output_type": "execute_result",
          "data": {
            "text/plain": [
              "137"
            ]
          },
          "metadata": {
            "tags": []
          },
          "execution_count": 98
        }
      ]
    },
    {
      "cell_type": "code",
      "metadata": {
        "ExecuteTime": {
          "end_time": "2019-06-04T05:58:51.613040Z",
          "start_time": "2019-06-04T05:58:51.598050Z"
        },
        "colab_type": "code",
        "id": "e1RrfcPzuaqW",
        "outputId": "8938f153-f38b-45a2-8f7a-ddf5ebd57ff0",
        "colab": {
          "base_uri": "https://localhost:8080/",
          "height": 185
        }
      },
      "source": [
        "air_bnb_with_null.isnull().sum()"
      ],
      "execution_count": 0,
      "outputs": [
        {
          "output_type": "execute_result",
          "data": {
            "text/plain": [
              "log_price                   0\n",
              "accommodates                0\n",
              "bathrooms                 200\n",
              "host_response_rate      18299\n",
              "number_of_reviews           0\n",
              "review_scores_rating    16722\n",
              "bedrooms                   91\n",
              "beds                      131\n",
              "dtype: int64"
            ]
          },
          "metadata": {
            "tags": []
          },
          "execution_count": 24
        }
      ]
    },
    {
      "cell_type": "markdown",
      "metadata": {
        "colab_type": "text",
        "id": "kXkhknHK9R3q"
      },
      "source": [
        "**the approach I'm gonna take is:**  \n",
        "**first impute the column with less null values and then go on imputing columns as such**"
      ]
    },
    {
      "cell_type": "markdown",
      "metadata": {
        "colab_type": "text",
        "id": "D68xL0G99R3r"
      },
      "source": [
        "1. Impute `bedrooms` from `accomodates`, `number_of_reviews` and `log_price` columns"
      ]
    },
    {
      "cell_type": "code",
      "metadata": {
        "ExecuteTime": {
          "end_time": "2019-06-04T06:59:21.775692Z",
          "start_time": "2019-06-04T06:59:21.766716Z"
        },
        "colab_type": "code",
        "id": "LgYU5atPnn1o",
        "colab": {}
      },
      "source": [
        "bedroom_train_x = air_bnb_without_null.loc[:,[\"log_price\",\"accommodates\",\"number_of_reviews\"]]\n",
        "bedroom_train_y = air_bnb_without_null.loc[:,\"bedrooms\"]\n",
        "\n",
        "\n",
        "bedroom_test = air_bnb_with_null.loc[:,[\"log_price\",\"accommodates\",\"number_of_reviews\"]]"
      ],
      "execution_count": 0,
      "outputs": []
    },
    {
      "cell_type": "code",
      "metadata": {
        "ExecuteTime": {
          "end_time": "2019-06-04T06:59:24.036529Z",
          "start_time": "2019-06-04T06:59:24.023561Z"
        },
        "id": "-CQVbIOhbwuH",
        "colab_type": "code",
        "outputId": "b58db302-0388-4b07-8f58-02c6c2a709b0",
        "colab": {}
      },
      "source": [
        "air_bnb_with_null.isnull().sum()"
      ],
      "execution_count": 0,
      "outputs": [
        {
          "output_type": "execute_result",
          "data": {
            "text/plain": [
              "log_price                   0\n",
              "accommodates                0\n",
              "bathrooms                   0\n",
              "host_response_rate      18299\n",
              "number_of_reviews           0\n",
              "review_scores_rating    16722\n",
              "bedrooms                    0\n",
              "beds                      131\n",
              "dtype: int64"
            ]
          },
          "metadata": {
            "tags": []
          },
          "execution_count": 100
        }
      ]
    },
    {
      "cell_type": "code",
      "metadata": {
        "ExecuteTime": {
          "end_time": "2019-06-04T06:59:44.767884Z",
          "start_time": "2019-06-04T06:59:41.393064Z"
        },
        "colab_type": "code",
        "id": "6ivxPmLkpwbt",
        "colab": {}
      },
      "source": [
        "a_list = get_knn_predictions(x_train=bedroom_train_x,y_train=bedroom_train_y,x_test=bedroom_test,n_neigh=137)"
      ],
      "execution_count": 0,
      "outputs": []
    },
    {
      "cell_type": "code",
      "metadata": {
        "ExecuteTime": {
          "end_time": "2019-06-04T06:01:07.499514Z",
          "start_time": "2019-06-04T06:01:07.494529Z"
        },
        "id": "kHiGayn3bwuO",
        "colab_type": "code",
        "outputId": "e8d8ca0d-a94b-4abb-ff75-f2cf9c037584",
        "colab": {}
      },
      "source": [
        "a_list[:10]"
      ],
      "execution_count": 0,
      "outputs": [
        {
          "output_type": "execute_result",
          "data": {
            "text/plain": [
              "array([0.09677419, 0.23010753, 0.15698925, 0.19462366, 0.07849462,\n",
              "       0.08924731, 0.07849462, 0.08709677, 0.08709677, 0.10322581])"
            ]
          },
          "metadata": {
            "tags": []
          },
          "execution_count": 31
        }
      ]
    },
    {
      "cell_type": "code",
      "metadata": {
        "ExecuteTime": {
          "end_time": "2019-06-04T06:59:46.999974Z",
          "start_time": "2019-06-04T06:59:46.987003Z"
        },
        "colab_type": "code",
        "id": "u-8fgnCu3SjB",
        "outputId": "b6bf6e91-8231-4183-8d2a-e9e1366f2caa",
        "colab": {
          "base_uri": "https://localhost:8080/",
          "height": 296
        }
      },
      "source": [
        "bedroom_test.loc[:,\"bedrooms\"] = a_list\n",
        "bedroom_test.head()"
      ],
      "execution_count": 0,
      "outputs": [
        {
          "output_type": "execute_result",
          "data": {
            "text/html": [
              "<div>\n",
              "<style scoped>\n",
              "    .dataframe tbody tr th:only-of-type {\n",
              "        vertical-align: middle;\n",
              "    }\n",
              "\n",
              "    .dataframe tbody tr th {\n",
              "        vertical-align: top;\n",
              "    }\n",
              "\n",
              "    .dataframe thead th {\n",
              "        text-align: right;\n",
              "    }\n",
              "</style>\n",
              "<table border=\"1\" class=\"dataframe\">\n",
              "  <thead>\n",
              "    <tr style=\"text-align: right;\">\n",
              "      <th></th>\n",
              "      <th>log_price</th>\n",
              "      <th>accommodates</th>\n",
              "      <th>number_of_reviews</th>\n",
              "      <th>bedrooms</th>\n",
              "    </tr>\n",
              "    <tr>\n",
              "      <th>id</th>\n",
              "      <th></th>\n",
              "      <th></th>\n",
              "      <th></th>\n",
              "      <th></th>\n",
              "    </tr>\n",
              "  </thead>\n",
              "  <tbody>\n",
              "    <tr>\n",
              "      <th>6901257</th>\n",
              "      <td>0.659259</td>\n",
              "      <td>0.133333</td>\n",
              "      <td>0.003306</td>\n",
              "      <td>0.098540</td>\n",
              "    </tr>\n",
              "    <tr>\n",
              "      <th>6304928</th>\n",
              "      <td>0.674951</td>\n",
              "      <td>0.400000</td>\n",
              "      <td>0.009917</td>\n",
              "      <td>0.240146</td>\n",
              "    </tr>\n",
              "    <tr>\n",
              "      <th>7919400</th>\n",
              "      <td>0.654799</td>\n",
              "      <td>0.266667</td>\n",
              "      <td>0.016529</td>\n",
              "      <td>0.175912</td>\n",
              "    </tr>\n",
              "    <tr>\n",
              "      <th>13418779</th>\n",
              "      <td>0.871016</td>\n",
              "      <td>0.200000</td>\n",
              "      <td>0.000000</td>\n",
              "      <td>0.190511</td>\n",
              "    </tr>\n",
              "    <tr>\n",
              "      <th>3808709</th>\n",
              "      <td>0.624300</td>\n",
              "      <td>0.066667</td>\n",
              "      <td>0.006612</td>\n",
              "      <td>0.082482</td>\n",
              "    </tr>\n",
              "  </tbody>\n",
              "</table>\n",
              "</div>"
            ],
            "text/plain": [
              "          log_price  accommodates  number_of_reviews  bedrooms\n",
              "id                                                            \n",
              "6901257    0.659259      0.133333           0.003306  0.098540\n",
              "6304928    0.674951      0.400000           0.009917  0.240146\n",
              "7919400    0.654799      0.266667           0.016529  0.175912\n",
              "13418779   0.871016      0.200000           0.000000  0.190511\n",
              "3808709    0.624300      0.066667           0.006612  0.082482"
            ]
          },
          "metadata": {
            "tags": []
          },
          "execution_count": 102
        }
      ]
    },
    {
      "cell_type": "code",
      "metadata": {
        "ExecuteTime": {
          "end_time": "2019-06-04T06:59:50.348878Z",
          "start_time": "2019-06-04T06:59:50.323915Z"
        },
        "id": "t6m2fCATbwuS",
        "colab_type": "code",
        "outputId": "6f4e6f1c-5deb-409f-c512-57e85a965830",
        "colab": {}
      },
      "source": [
        "air_bnb_with_null.info()"
      ],
      "execution_count": 0,
      "outputs": [
        {
          "output_type": "stream",
          "text": [
            "<class 'pandas.core.frame.DataFrame'>\n",
            "Int64Index: 74111 entries, 6901257 to 3534845\n",
            "Data columns (total 8 columns):\n",
            "log_price               74111 non-null float64\n",
            "accommodates            74111 non-null float64\n",
            "bathrooms               74111 non-null float64\n",
            "host_response_rate      55812 non-null float64\n",
            "number_of_reviews       74111 non-null float64\n",
            "review_scores_rating    57389 non-null float64\n",
            "bedrooms                74111 non-null float64\n",
            "beds                    73980 non-null float64\n",
            "dtypes: float64(8)\n",
            "memory usage: 5.1 MB\n"
          ],
          "name": "stdout"
        }
      ]
    },
    {
      "cell_type": "code",
      "metadata": {
        "ExecuteTime": {
          "end_time": "2019-06-04T07:01:48.716057Z",
          "start_time": "2019-06-04T07:01:48.692127Z"
        },
        "colab_type": "code",
        "id": "Po9ijVwVuKfQ",
        "outputId": "0b1b9562-5cc2-42e4-af6b-3fefcb245fd6",
        "colab": {}
      },
      "source": [
        "# now let's replace only the missing values \n",
        "air_bnb_with_null[\"bedrooms\"].fillna(bedroom_test[\"bedrooms\"], inplace=True)\n",
        "air_bnb_with_null.info()"
      ],
      "execution_count": 0,
      "outputs": [
        {
          "output_type": "stream",
          "text": [
            "<class 'pandas.core.frame.DataFrame'>\n",
            "Int64Index: 74111 entries, 6901257 to 3534845\n",
            "Data columns (total 8 columns):\n",
            "log_price               74111 non-null float64\n",
            "accommodates            74111 non-null float64\n",
            "bathrooms               73911 non-null float64\n",
            "host_response_rate      55812 non-null float64\n",
            "number_of_reviews       74111 non-null float64\n",
            "review_scores_rating    57389 non-null float64\n",
            "bedrooms                74111 non-null float64\n",
            "beds                    73980 non-null float64\n",
            "dtypes: float64(8)\n",
            "memory usage: 5.1 MB\n"
          ],
          "name": "stdout"
        }
      ]
    },
    {
      "cell_type": "code",
      "metadata": {
        "ExecuteTime": {
          "end_time": "2019-06-04T06:59:56.994028Z",
          "start_time": "2019-06-04T06:59:56.765261Z"
        },
        "colab_type": "code",
        "id": "h-Ul26xDwkyI",
        "outputId": "218da227-ad30-4c1e-cee0-ce7b2ae42988",
        "colab": {
          "base_uri": "https://localhost:8080/",
          "height": 687
        }
      },
      "source": [
        "# comparing distributions\n",
        "\n",
        "sns.set(rc={'figure.figsize':(24,10)})\n",
        "\n",
        "\n",
        "sns.kdeplot(air_bnb_with_null.loc[:,\"bedrooms\"], label=\"bedrooms standardised and imputed\")\n",
        "sns.kdeplot(air_bnb_scaled.loc[:,\"bedrooms\"], label=\"bedrooms standardised\")\n",
        "\n",
        "plt.legend()\n",
        "plt.show()"
      ],
      "execution_count": 0,
      "outputs": [
        {
          "output_type": "stream",
          "text": [
            "C:\\Users\\neevaN_Reddy\\Anaconda3\\lib\\site-packages\\statsmodels\\nonparametric\\kde.py:448: RuntimeWarning: invalid value encountered in greater\n",
            "  X = X[np.logical_and(X > clip[0], X < clip[1])] # won't work for two columns.\n",
            "C:\\Users\\neevaN_Reddy\\Anaconda3\\lib\\site-packages\\statsmodels\\nonparametric\\kde.py:448: RuntimeWarning: invalid value encountered in less\n",
            "  X = X[np.logical_and(X > clip[0], X < clip[1])] # won't work for two columns.\n"
          ],
          "name": "stderr"
        },
        {
          "output_type": "display_data",
          "data": {
            "image/png": "[encoded data removed]",
            "text/plain": [
              "<Figure size 1728x720 with 1 Axes>"
            ]
          },
          "metadata": {
            "tags": []
          }
        }
      ]
    },
    {
      "cell_type": "code",
      "metadata": {
        "ExecuteTime": {
          "end_time": "2019-06-04T07:00:03.670878Z",
          "start_time": "2019-06-04T07:00:03.655920Z"
        },
        "colab_type": "code",
        "id": "Edfm7IsOwh6S",
        "outputId": "7cb915fd-7811-4151-b13c-d22c9a646dde",
        "colab": {
          "base_uri": "https://localhost:8080/",
          "height": 185
        }
      },
      "source": [
        "air_bnb_with_null.isnull().sum()"
      ],
      "execution_count": 0,
      "outputs": [
        {
          "output_type": "execute_result",
          "data": {
            "text/plain": [
              "log_price                   0\n",
              "accommodates                0\n",
              "bathrooms                   0\n",
              "host_response_rate      18299\n",
              "number_of_reviews           0\n",
              "review_scores_rating    16722\n",
              "bedrooms                    0\n",
              "beds                      131\n",
              "dtype: int64"
            ]
          },
          "metadata": {
            "tags": []
          },
          "execution_count": 107
        }
      ]
    },
    {
      "cell_type": "markdown",
      "metadata": {
        "colab_type": "text",
        "id": "a4K9bEm_lZi7"
      },
      "source": [
        "# imputing `bathrooms` column"
      ]
    },
    {
      "cell_type": "code",
      "metadata": {
        "ExecuteTime": {
          "end_time": "2019-06-04T07:01:57.207250Z",
          "start_time": "2019-06-04T07:01:57.193250Z"
        },
        "id": "cbpdLGGRbwud",
        "colab_type": "code",
        "outputId": "dbb98658-30a5-4eca-f3c5-ec4bf2a47fca",
        "colab": {}
      },
      "source": [
        "air_bnb_with_null.info()"
      ],
      "execution_count": 0,
      "outputs": [
        {
          "output_type": "stream",
          "text": [
            "<class 'pandas.core.frame.DataFrame'>\n",
            "Int64Index: 74111 entries, 6901257 to 3534845\n",
            "Data columns (total 8 columns):\n",
            "log_price               74111 non-null float64\n",
            "accommodates            74111 non-null float64\n",
            "bathrooms               73911 non-null float64\n",
            "host_response_rate      55812 non-null float64\n",
            "number_of_reviews       74111 non-null float64\n",
            "review_scores_rating    57389 non-null float64\n",
            "bedrooms                74111 non-null float64\n",
            "beds                    73980 non-null float64\n",
            "dtypes: float64(8)\n",
            "memory usage: 5.1 MB\n"
          ],
          "name": "stdout"
        }
      ]
    },
    {
      "cell_type": "code",
      "metadata": {
        "ExecuteTime": {
          "end_time": "2019-06-04T07:04:07.733287Z",
          "start_time": "2019-06-04T07:04:07.716298Z"
        },
        "id": "fF4jGchDbwue",
        "colab_type": "code",
        "outputId": "dbdc25e2-9573-4297-ea54-f9637092e19e",
        "colab": {}
      },
      "source": [
        "air_bnb_without_null.info()"
      ],
      "execution_count": 0,
      "outputs": [
        {
          "output_type": "stream",
          "text": [
            "<class 'pandas.core.frame.DataFrame'>\n",
            "Int64Index: 47787 entries, 6304928 to 3534845\n",
            "Data columns (total 8 columns):\n",
            "log_price               47787 non-null float64\n",
            "accommodates            47787 non-null float64\n",
            "bathrooms               47787 non-null float64\n",
            "host_response_rate      47787 non-null float64\n",
            "number_of_reviews       47787 non-null float64\n",
            "review_scores_rating    47787 non-null float64\n",
            "bedrooms                47787 non-null float64\n",
            "beds                    47787 non-null float64\n",
            "dtypes: float64(8)\n",
            "memory usage: 3.3 MB\n"
          ],
          "name": "stdout"
        }
      ]
    },
    {
      "cell_type": "code",
      "metadata": {
        "colab_type": "code",
        "id": "0GLe5gw97ie1",
        "colab": {}
      },
      "source": [
        "# let's now knn impute `bathrooms` based on `log_price`, `accomodates`, `number_of_reviews` and `bedrooms`"
      ],
      "execution_count": 0,
      "outputs": []
    },
    {
      "cell_type": "code",
      "metadata": {
        "ExecuteTime": {
          "end_time": "2019-06-04T07:03:13.540255Z",
          "start_time": "2019-06-04T07:03:13.528251Z"
        },
        "id": "S_gNdcTUbwui",
        "colab_type": "code",
        "colab": {}
      },
      "source": [
        "# from sklearn.model_selection import train_test_split\n",
        "bathroom_x_train, bathroom_x_test, bathroom_y_train, bathroom_y_test = train_test_split(air_bnb_without_null.loc[:,[\"log_price\", \"accommodates\", \"bedrooms\", \"number_of_reviews\"]],\n",
        "                                                                                        air_bnb_without_null.loc[:,\"bathrooms\"],\n",
        "                                                                                        test_size=0.2)"
      ],
      "execution_count": 0,
      "outputs": []
    },
    {
      "cell_type": "code",
      "metadata": {
        "ExecuteTime": {
          "end_time": "2019-06-04T07:05:35.415050Z",
          "start_time": "2019-06-04T07:05:35.411096Z"
        },
        "id": "EZxOrwMSbwuj",
        "colab_type": "code",
        "outputId": "184e3005-f04e-44a2-d437-b1c309ede026",
        "colab": {}
      },
      "source": [
        "print(bathroom_x_train.shape)\n",
        "print(bathroom_x_test.shape)"
      ],
      "execution_count": 0,
      "outputs": [
        {
          "output_type": "stream",
          "text": [
            "(38229, 4)\n",
            "(9558, 4)\n"
          ],
          "name": "stdout"
        }
      ]
    },
    {
      "cell_type": "code",
      "metadata": {
        "ExecuteTime": {
          "end_time": "2019-06-04T07:05:45.671927Z",
          "start_time": "2019-06-04T07:05:45.666911Z"
        },
        "id": "buW4gv5Obwul",
        "colab_type": "code",
        "outputId": "361fd6ad-e96c-45c4-8767-70626dc366cd",
        "colab": {}
      },
      "source": [
        "38229+9558"
      ],
      "execution_count": 0,
      "outputs": [
        {
          "output_type": "execute_result",
          "data": {
            "text/plain": [
              "47787"
            ]
          },
          "metadata": {
            "tags": []
          },
          "execution_count": 124
        }
      ]
    },
    {
      "cell_type": "code",
      "metadata": {
        "ExecuteTime": {
          "end_time": "2019-06-04T07:14:12.915345Z",
          "start_time": "2019-06-04T07:14:12.911328Z"
        },
        "id": "NogxDDnAbwun",
        "colab_type": "code",
        "outputId": "fe5bb55c-5cb6-4aaa-81eb-0716dfb46d92",
        "colab": {}
      },
      "source": [
        "# from math import sqrt\n",
        "sqrt(73911)"
      ],
      "execution_count": 0,
      "outputs": [
        {
          "output_type": "execute_result",
          "data": {
            "text/plain": [
              "271.86577570558603"
            ]
          },
          "metadata": {
            "tags": []
          },
          "execution_count": 136
        }
      ]
    },
    {
      "cell_type": "code",
      "metadata": {
        "ExecuteTime": {
          "end_time": "2019-06-04T07:09:20.368112Z",
          "start_time": "2019-06-04T07:06:02.198959Z"
        },
        "id": "gU5ykgrxbwuq",
        "colab_type": "code",
        "outputId": "41dffbf8-7cab-4a27-d901-7b168e41a986",
        "colab": {}
      },
      "source": [
        "appropriate_k(x_train=bathroom_x_train,x_test=bathroom_x_test,y_train=bathroom_y_train,y_test=bathroom_y_test,k_max=273)"
      ],
      "execution_count": 0,
      "outputs": [
        {
          "output_type": "execute_result",
          "data": {
            "text/plain": [
              "48"
            ]
          },
          "metadata": {
            "tags": []
          },
          "execution_count": 125
        }
      ]
    },
    {
      "cell_type": "code",
      "metadata": {
        "ExecuteTime": {
          "end_time": "2019-06-04T07:09:33.764912Z",
          "start_time": "2019-06-04T07:09:33.755958Z"
        },
        "colab_type": "code",
        "id": "eGUQ2vxb8a6N",
        "colab": {}
      },
      "source": [
        "# creating train & test dataframes for selecting K for KNN and also for filling null values\n",
        "\n",
        "bathrooms_train_x = air_bnb_without_null.loc[:,[\"log_price\", \"accommodates\", \"bedrooms\", \"number_of_reviews\"]]\n",
        "bathrooms_train_y = air_bnb_without_null.loc[:,\"bathrooms\"]\n",
        "\n",
        "bathrooms_test_x = air_bnb_with_null.loc[:,[\"log_price\", \"accommodates\", \"bedrooms\", \"number_of_reviews\"]]"
      ],
      "execution_count": 0,
      "outputs": []
    },
    {
      "cell_type": "code",
      "metadata": {
        "ExecuteTime": {
          "end_time": "2019-06-04T07:09:44.624086Z",
          "start_time": "2019-06-04T07:09:41.665563Z"
        },
        "id": "jrxkECi_bwut",
        "colab_type": "code",
        "colab": {}
      },
      "source": [
        "bathrooms_pred = get_knn_predictions(x_train=bathrooms_train_x,y_train=bathrooms_train_y,x_test=bathrooms_test_x,n_neigh=48)"
      ],
      "execution_count": 0,
      "outputs": []
    },
    {
      "cell_type": "code",
      "metadata": {
        "ExecuteTime": {
          "end_time": "2019-06-04T07:09:44.633366Z",
          "start_time": "2019-06-04T07:09:44.624086Z"
        },
        "id": "FiW1tHGabwuu",
        "colab_type": "code",
        "outputId": "8f0de546-d4de-4155-932a-50a29896f5d0",
        "colab": {}
      },
      "source": [
        "bathrooms_pred[:20]"
      ],
      "execution_count": 0,
      "outputs": [
        {
          "output_type": "execute_result",
          "data": {
            "text/plain": [
              "array([0.12890625, 0.22786458, 0.13541667, 0.24609375, 0.12369792,\n",
              "       0.13671875, 0.12760417, 0.13541667, 0.13151042, 0.13411458,\n",
              "       0.14322917, 0.14973958, 0.15885417, 0.19661458, 0.1484375 ,\n",
              "       0.14583333, 0.13802083, 0.13802083, 0.12760417, 0.18619792])"
            ]
          },
          "metadata": {
            "tags": []
          },
          "execution_count": 128
        }
      ]
    },
    {
      "cell_type": "code",
      "metadata": {
        "ExecuteTime": {
          "end_time": "2019-06-04T07:09:50.194154Z",
          "start_time": "2019-06-04T07:09:50.179257Z"
        },
        "colab_type": "code",
        "id": "jC_bRvrJIbdS",
        "outputId": "66c11cd5-57fb-4f31-ed2a-b12ba6976137",
        "colab": {
          "base_uri": "https://localhost:8080/",
          "height": 296
        }
      },
      "source": [
        "bathrooms_test_x.loc[:,\"bathrooms\"] = bathrooms_pred\n",
        "bathrooms_test_x.head()"
      ],
      "execution_count": 0,
      "outputs": [
        {
          "output_type": "execute_result",
          "data": {
            "text/html": [
              "<div>\n",
              "<style scoped>\n",
              "    .dataframe tbody tr th:only-of-type {\n",
              "        vertical-align: middle;\n",
              "    }\n",
              "\n",
              "    .dataframe tbody tr th {\n",
              "        vertical-align: top;\n",
              "    }\n",
              "\n",
              "    .dataframe thead th {\n",
              "        text-align: right;\n",
              "    }\n",
              "</style>\n",
              "<table border=\"1\" class=\"dataframe\">\n",
              "  <thead>\n",
              "    <tr style=\"text-align: right;\">\n",
              "      <th></th>\n",
              "      <th>log_price</th>\n",
              "      <th>accommodates</th>\n",
              "      <th>bedrooms</th>\n",
              "      <th>number_of_reviews</th>\n",
              "      <th>bathrooms</th>\n",
              "    </tr>\n",
              "    <tr>\n",
              "      <th>id</th>\n",
              "      <th></th>\n",
              "      <th></th>\n",
              "      <th></th>\n",
              "      <th></th>\n",
              "      <th></th>\n",
              "    </tr>\n",
              "  </thead>\n",
              "  <tbody>\n",
              "    <tr>\n",
              "      <th>6901257</th>\n",
              "      <td>0.659259</td>\n",
              "      <td>0.133333</td>\n",
              "      <td>0.1</td>\n",
              "      <td>0.003306</td>\n",
              "      <td>0.128906</td>\n",
              "    </tr>\n",
              "    <tr>\n",
              "      <th>6304928</th>\n",
              "      <td>0.674951</td>\n",
              "      <td>0.400000</td>\n",
              "      <td>0.3</td>\n",
              "      <td>0.009917</td>\n",
              "      <td>0.227865</td>\n",
              "    </tr>\n",
              "    <tr>\n",
              "      <th>7919400</th>\n",
              "      <td>0.654799</td>\n",
              "      <td>0.266667</td>\n",
              "      <td>0.1</td>\n",
              "      <td>0.016529</td>\n",
              "      <td>0.135417</td>\n",
              "    </tr>\n",
              "    <tr>\n",
              "      <th>13418779</th>\n",
              "      <td>0.871016</td>\n",
              "      <td>0.200000</td>\n",
              "      <td>0.2</td>\n",
              "      <td>0.000000</td>\n",
              "      <td>0.246094</td>\n",
              "    </tr>\n",
              "    <tr>\n",
              "      <th>3808709</th>\n",
              "      <td>0.624300</td>\n",
              "      <td>0.066667</td>\n",
              "      <td>0.0</td>\n",
              "      <td>0.006612</td>\n",
              "      <td>0.123698</td>\n",
              "    </tr>\n",
              "  </tbody>\n",
              "</table>\n",
              "</div>"
            ],
            "text/plain": [
              "          log_price  accommodates  bedrooms  number_of_reviews  bathrooms\n",
              "id                                                                       \n",
              "6901257    0.659259      0.133333       0.1           0.003306   0.128906\n",
              "6304928    0.674951      0.400000       0.3           0.009917   0.227865\n",
              "7919400    0.654799      0.266667       0.1           0.016529   0.135417\n",
              "13418779   0.871016      0.200000       0.2           0.000000   0.246094\n",
              "3808709    0.624300      0.066667       0.0           0.006612   0.123698"
            ]
          },
          "metadata": {
            "tags": []
          },
          "execution_count": 129
        }
      ]
    },
    {
      "cell_type": "code",
      "metadata": {
        "ExecuteTime": {
          "end_time": "2019-06-04T07:09:55.568050Z",
          "start_time": "2019-06-04T07:09:55.552057Z"
        },
        "id": "fDk2gWnSbwuy",
        "colab_type": "code",
        "outputId": "288436c2-85a2-42db-901c-640f9fc4fadf",
        "colab": {}
      },
      "source": [
        "air_bnb_with_null.info()"
      ],
      "execution_count": 0,
      "outputs": [
        {
          "output_type": "stream",
          "text": [
            "<class 'pandas.core.frame.DataFrame'>\n",
            "Int64Index: 74111 entries, 6901257 to 3534845\n",
            "Data columns (total 8 columns):\n",
            "log_price               74111 non-null float64\n",
            "accommodates            74111 non-null float64\n",
            "bathrooms               73911 non-null float64\n",
            "host_response_rate      55812 non-null float64\n",
            "number_of_reviews       74111 non-null float64\n",
            "review_scores_rating    57389 non-null float64\n",
            "bedrooms                74111 non-null float64\n",
            "beds                    73980 non-null float64\n",
            "dtypes: float64(8)\n",
            "memory usage: 5.1 MB\n"
          ],
          "name": "stdout"
        }
      ]
    },
    {
      "cell_type": "code",
      "metadata": {
        "ExecuteTime": {
          "end_time": "2019-06-04T07:10:53.955568Z",
          "start_time": "2019-06-04T07:10:53.936623Z"
        },
        "colab_type": "code",
        "id": "PbstTRP-JkRI",
        "outputId": "c9980ce2-eeb0-4095-e384-79adae35faa6",
        "colab": {}
      },
      "source": [
        "# now let's replace only the missing values \n",
        "air_bnb_with_null.loc[:,\"bathrooms\"].fillna(bathrooms_test_x.loc[:,\"bathrooms\"],inplace=True)\n",
        "air_bnb_with_null.info()"
      ],
      "execution_count": 0,
      "outputs": [
        {
          "output_type": "stream",
          "text": [
            "<class 'pandas.core.frame.DataFrame'>\n",
            "Int64Index: 74111 entries, 6901257 to 3534845\n",
            "Data columns (total 8 columns):\n",
            "log_price               74111 non-null float64\n",
            "accommodates            74111 non-null float64\n",
            "bathrooms               74111 non-null float64\n",
            "host_response_rate      55812 non-null float64\n",
            "number_of_reviews       74111 non-null float64\n",
            "review_scores_rating    57389 non-null float64\n",
            "bedrooms                74111 non-null float64\n",
            "beds                    73980 non-null float64\n",
            "dtypes: float64(8)\n",
            "memory usage: 5.1 MB\n"
          ],
          "name": "stdout"
        }
      ]
    },
    {
      "cell_type": "code",
      "metadata": {
        "ExecuteTime": {
          "end_time": "2019-06-04T07:11:04.423018Z",
          "start_time": "2019-06-04T07:11:04.182506Z"
        },
        "colab_type": "code",
        "id": "OxEtOrtzOJ71",
        "outputId": "8363980e-26a4-40bc-dc7c-4e23ba244216",
        "colab": {
          "base_uri": "https://localhost:8080/",
          "height": 687
        }
      },
      "source": [
        "# check the distributions now\n",
        "\n",
        "sns.set(rc={'figure.figsize':(24,10)})\n",
        "\n",
        "sns.kdeplot(air_bnb_with_null.loc[:,\"bathrooms\"], label=\"bathrooms standardised and imputed\")\n",
        "sns.kdeplot(air_bnb_scaled.loc[:,\"bathrooms\"], label=\"bedrooms scaled and non-imputed\")\n",
        "\n",
        "plt.legend()\n",
        "plt.show()"
      ],
      "execution_count": 0,
      "outputs": [
        {
          "output_type": "stream",
          "text": [
            "C:\\Users\\neevaN_Reddy\\Anaconda3\\lib\\site-packages\\statsmodels\\nonparametric\\kde.py:448: RuntimeWarning: invalid value encountered in greater\n",
            "  X = X[np.logical_and(X > clip[0], X < clip[1])] # won't work for two columns.\n",
            "C:\\Users\\neevaN_Reddy\\Anaconda3\\lib\\site-packages\\statsmodels\\nonparametric\\kde.py:448: RuntimeWarning: invalid value encountered in less\n",
            "  X = X[np.logical_and(X > clip[0], X < clip[1])] # won't work for two columns.\n"
          ],
          "name": "stderr"
        },
        {
          "output_type": "display_data",
          "data": {
            "image/png": "[encoded data removed]",
            "text/plain": [
              "<Figure size 1728x720 with 1 Axes>"
            ]
          },
          "metadata": {
            "tags": []
          }
        }
      ]
    },
    {
      "cell_type": "markdown",
      "metadata": {
        "colab_type": "text",
        "id": "Iy3Pbm5Ye_m6"
      },
      "source": [
        "# imputing `beds` column"
      ]
    },
    {
      "cell_type": "code",
      "metadata": {
        "ExecuteTime": {
          "end_time": "2019-06-04T07:11:14.655334Z",
          "start_time": "2019-06-04T07:11:14.639418Z"
        },
        "id": "sS-KUjflbwu3",
        "colab_type": "code",
        "outputId": "19930cf4-a5ca-4b8b-b7f5-1ed568349f7f",
        "colab": {}
      },
      "source": [
        "air_bnb_with_null.info()"
      ],
      "execution_count": 0,
      "outputs": [
        {
          "output_type": "stream",
          "text": [
            "<class 'pandas.core.frame.DataFrame'>\n",
            "Int64Index: 74111 entries, 6901257 to 3534845\n",
            "Data columns (total 8 columns):\n",
            "log_price               74111 non-null float64\n",
            "accommodates            74111 non-null float64\n",
            "bathrooms               74111 non-null float64\n",
            "host_response_rate      55812 non-null float64\n",
            "number_of_reviews       74111 non-null float64\n",
            "review_scores_rating    57389 non-null float64\n",
            "bedrooms                74111 non-null float64\n",
            "beds                    73980 non-null float64\n",
            "dtypes: float64(8)\n",
            "memory usage: 5.1 MB\n"
          ],
          "name": "stdout"
        }
      ]
    },
    {
      "cell_type": "code",
      "metadata": {
        "ExecuteTime": {
          "end_time": "2019-06-04T07:12:38.195220Z",
          "start_time": "2019-06-04T07:12:38.175312Z"
        },
        "id": "-CbFiaTxbwu6",
        "colab_type": "code",
        "colab": {}
      },
      "source": [
        "# from sklearn.model_selection import train_test_split\n",
        "beds_x_train, beds_x_test, beds_y_train, beds_y_test = train_test_split(air_bnb_without_null.loc[:,[\"log_price\", \"accommodates\", \"bedrooms\", \"bathrooms\",\"number_of_reviews\"]],air_bnb_without_null.loc[:,\"beds\"],\n",
        "                                                                                   test_size=0.2)"
      ],
      "execution_count": 0,
      "outputs": []
    },
    {
      "cell_type": "code",
      "metadata": {
        "ExecuteTime": {
          "end_time": "2019-06-04T07:13:37.581649Z",
          "start_time": "2019-06-04T07:13:37.577623Z"
        },
        "id": "ztPfZ41Gbwu7",
        "colab_type": "code",
        "outputId": "e2de8bd4-6bc9-4ae5-ef26-9ace84b7620d",
        "colab": {}
      },
      "source": [
        "sqrt(73980)"
      ],
      "execution_count": 0,
      "outputs": [
        {
          "output_type": "execute_result",
          "data": {
            "text/plain": [
              "271.99264695943526"
            ]
          },
          "metadata": {
            "tags": []
          },
          "execution_count": 135
        }
      ]
    },
    {
      "cell_type": "code",
      "metadata": {
        "ExecuteTime": {
          "end_time": "2019-06-04T07:24:17.889283Z",
          "start_time": "2019-06-04T07:14:56.590478Z"
        },
        "id": "b5WAsvZ1bwu-",
        "colab_type": "code",
        "outputId": "3ee6a327-6459-4ccd-d82f-efb78137e351",
        "colab": {}
      },
      "source": [
        "appropriate_k(x_train=beds_x_train,x_test=beds_x_test,y_train=beds_y_train,y_test=beds_y_test,k_max=273)"
      ],
      "execution_count": 0,
      "outputs": [
        {
          "output_type": "execute_result",
          "data": {
            "text/plain": [
              "20"
            ]
          },
          "metadata": {
            "tags": []
          },
          "execution_count": 137
        }
      ]
    },
    {
      "cell_type": "code",
      "metadata": {
        "ExecuteTime": {
          "end_time": "2019-06-04T07:37:18.861715Z",
          "start_time": "2019-06-04T07:37:18.841684Z"
        },
        "colab_type": "code",
        "id": "syffd2oZghWF",
        "colab": {}
      },
      "source": [
        "# let's create train and test sets\n",
        "beds_train_x = air_bnb_without_null.loc[:,[\"log_price\", \"accommodates\", \"bedrooms\", \"bathrooms\",\"number_of_reviews\"]]\n",
        "beds_train_y = air_bnb_without_null.loc[:,\"beds\"]\n",
        "\n",
        "beds_test = air_bnb_with_null.loc[:,[\"log_price\", \"accommodates\", \"bedrooms\", \"bathrooms\",\"number_of_reviews\"]]"
      ],
      "execution_count": 0,
      "outputs": []
    },
    {
      "cell_type": "code",
      "metadata": {
        "ExecuteTime": {
          "end_time": "2019-06-04T07:37:46.300050Z",
          "start_time": "2019-06-04T07:37:39.464206Z"
        },
        "id": "2TDN7IARbwvC",
        "colab_type": "code",
        "colab": {}
      },
      "source": [
        "beds_pred = get_knn_predictions(x_train=beds_train_x,y_train=beds_train_y,x_test=beds_test,n_neigh=20)"
      ],
      "execution_count": 0,
      "outputs": []
    },
    {
      "cell_type": "code",
      "metadata": {
        "ExecuteTime": {
          "end_time": "2019-06-04T07:37:46.337084Z",
          "start_time": "2019-06-04T07:37:46.304026Z"
        },
        "id": "Wblvfu5BbwvE",
        "colab_type": "code",
        "outputId": "00ecef0b-69cf-4e84-82d6-391d9a7a2164",
        "colab": {}
      },
      "source": [
        "beds_test.loc[:,\"beds\"] = beds_pred\n",
        "beds_test.head()"
      ],
      "execution_count": 0,
      "outputs": [
        {
          "output_type": "execute_result",
          "data": {
            "text/html": [
              "<div>\n",
              "<style scoped>\n",
              "    .dataframe tbody tr th:only-of-type {\n",
              "        vertical-align: middle;\n",
              "    }\n",
              "\n",
              "    .dataframe tbody tr th {\n",
              "        vertical-align: top;\n",
              "    }\n",
              "\n",
              "    .dataframe thead th {\n",
              "        text-align: right;\n",
              "    }\n",
              "</style>\n",
              "<table border=\"1\" class=\"dataframe\">\n",
              "  <thead>\n",
              "    <tr style=\"text-align: right;\">\n",
              "      <th></th>\n",
              "      <th>log_price</th>\n",
              "      <th>accommodates</th>\n",
              "      <th>bedrooms</th>\n",
              "      <th>bathrooms</th>\n",
              "      <th>number_of_reviews</th>\n",
              "      <th>beds</th>\n",
              "    </tr>\n",
              "    <tr>\n",
              "      <th>id</th>\n",
              "      <th></th>\n",
              "      <th></th>\n",
              "      <th></th>\n",
              "      <th></th>\n",
              "      <th></th>\n",
              "      <th></th>\n",
              "    </tr>\n",
              "  </thead>\n",
              "  <tbody>\n",
              "    <tr>\n",
              "      <th>6901257</th>\n",
              "      <td>0.659259</td>\n",
              "      <td>0.133333</td>\n",
              "      <td>0.1</td>\n",
              "      <td>0.125</td>\n",
              "      <td>0.003306</td>\n",
              "      <td>0.075000</td>\n",
              "    </tr>\n",
              "    <tr>\n",
              "      <th>6304928</th>\n",
              "      <td>0.674951</td>\n",
              "      <td>0.400000</td>\n",
              "      <td>0.3</td>\n",
              "      <td>0.125</td>\n",
              "      <td>0.009917</td>\n",
              "      <td>0.233333</td>\n",
              "    </tr>\n",
              "    <tr>\n",
              "      <th>7919400</th>\n",
              "      <td>0.654799</td>\n",
              "      <td>0.266667</td>\n",
              "      <td>0.1</td>\n",
              "      <td>0.125</td>\n",
              "      <td>0.016529</td>\n",
              "      <td>0.119444</td>\n",
              "    </tr>\n",
              "    <tr>\n",
              "      <th>13418779</th>\n",
              "      <td>0.871016</td>\n",
              "      <td>0.200000</td>\n",
              "      <td>0.2</td>\n",
              "      <td>0.125</td>\n",
              "      <td>0.000000</td>\n",
              "      <td>0.119444</td>\n",
              "    </tr>\n",
              "    <tr>\n",
              "      <th>3808709</th>\n",
              "      <td>0.624300</td>\n",
              "      <td>0.066667</td>\n",
              "      <td>0.0</td>\n",
              "      <td>0.125</td>\n",
              "      <td>0.006612</td>\n",
              "      <td>0.066667</td>\n",
              "    </tr>\n",
              "  </tbody>\n",
              "</table>\n",
              "</div>"
            ],
            "text/plain": [
              "          log_price  accommodates  bedrooms  bathrooms  number_of_reviews  \\\n",
              "id                                                                          \n",
              "6901257    0.659259      0.133333       0.1      0.125           0.003306   \n",
              "6304928    0.674951      0.400000       0.3      0.125           0.009917   \n",
              "7919400    0.654799      0.266667       0.1      0.125           0.016529   \n",
              "13418779   0.871016      0.200000       0.2      0.125           0.000000   \n",
              "3808709    0.624300      0.066667       0.0      0.125           0.006612   \n",
              "\n",
              "              beds  \n",
              "id                  \n",
              "6901257   0.075000  \n",
              "6304928   0.233333  \n",
              "7919400   0.119444  \n",
              "13418779  0.119444  \n",
              "3808709   0.066667  "
            ]
          },
          "metadata": {
            "tags": []
          },
          "execution_count": 140
        }
      ]
    },
    {
      "cell_type": "code",
      "metadata": {
        "ExecuteTime": {
          "end_time": "2019-06-04T07:38:08.873116Z",
          "start_time": "2019-06-04T07:38:08.852540Z"
        },
        "colab_type": "code",
        "id": "_PnkJJj4kvrQ",
        "outputId": "c4ac8d09-6e22-497d-c743-e2c53df46b96",
        "colab": {
          "base_uri": "https://localhost:8080/",
          "height": 252
        }
      },
      "source": [
        "air_bnb_with_null.info()"
      ],
      "execution_count": 0,
      "outputs": [
        {
          "output_type": "stream",
          "text": [
            "<class 'pandas.core.frame.DataFrame'>\n",
            "Int64Index: 74111 entries, 6901257 to 3534845\n",
            "Data columns (total 8 columns):\n",
            "log_price               74111 non-null float64\n",
            "accommodates            74111 non-null float64\n",
            "bathrooms               74111 non-null float64\n",
            "host_response_rate      55812 non-null float64\n",
            "number_of_reviews       74111 non-null float64\n",
            "review_scores_rating    57389 non-null float64\n",
            "bedrooms                74111 non-null float64\n",
            "beds                    73980 non-null float64\n",
            "dtypes: float64(8)\n",
            "memory usage: 5.1 MB\n"
          ],
          "name": "stdout"
        }
      ]
    },
    {
      "cell_type": "code",
      "metadata": {
        "ExecuteTime": {
          "end_time": "2019-06-04T07:38:11.354182Z",
          "start_time": "2019-06-04T07:38:11.321791Z"
        },
        "colab_type": "code",
        "id": "NGsa-8kki_b-",
        "outputId": "4cfdbd7f-1932-4967-8caa-d0a034ab2351",
        "colab": {}
      },
      "source": [
        "# now let's replace only the missing values \n",
        "air_bnb_with_null.loc[:,\"beds\"].fillna(beds_test.loc[:,\"beds\"],inplace=True)\n",
        "air_bnb_with_null.info()"
      ],
      "execution_count": 0,
      "outputs": [
        {
          "output_type": "stream",
          "text": [
            "<class 'pandas.core.frame.DataFrame'>\n",
            "Int64Index: 74111 entries, 6901257 to 3534845\n",
            "Data columns (total 8 columns):\n",
            "log_price               74111 non-null float64\n",
            "accommodates            74111 non-null float64\n",
            "bathrooms               74111 non-null float64\n",
            "host_response_rate      55812 non-null float64\n",
            "number_of_reviews       74111 non-null float64\n",
            "review_scores_rating    57389 non-null float64\n",
            "bedrooms                74111 non-null float64\n",
            "beds                    74111 non-null float64\n",
            "dtypes: float64(8)\n",
            "memory usage: 5.1 MB\n"
          ],
          "name": "stdout"
        }
      ]
    },
    {
      "cell_type": "markdown",
      "metadata": {
        "colab_type": "text",
        "id": "G7Tuy2sKlCWm"
      },
      "source": [
        "# imputing `review_scores_rating` column"
      ]
    },
    {
      "cell_type": "code",
      "metadata": {
        "ExecuteTime": {
          "end_time": "2019-06-04T07:38:25.131423Z",
          "start_time": "2019-06-04T07:38:25.094502Z"
        },
        "colab_type": "code",
        "id": "gmyT9Anlld7X",
        "outputId": "2ddb90fb-afca-4962-bd28-7b9af0f1124a",
        "colab": {
          "base_uri": "https://localhost:8080/",
          "height": 168
        }
      },
      "source": [
        "air_bnb_with_null.isna().sum()"
      ],
      "execution_count": 0,
      "outputs": [
        {
          "output_type": "execute_result",
          "data": {
            "text/plain": [
              "log_price                   0\n",
              "accommodates                0\n",
              "bathrooms                   0\n",
              "host_response_rate      18299\n",
              "number_of_reviews           0\n",
              "review_scores_rating    16722\n",
              "bedrooms                    0\n",
              "beds                        0\n",
              "dtype: int64"
            ]
          },
          "metadata": {
            "tags": []
          },
          "execution_count": 143
        }
      ]
    },
    {
      "cell_type": "code",
      "metadata": {
        "ExecuteTime": {
          "end_time": "2019-06-04T07:43:36.322104Z",
          "start_time": "2019-06-04T07:43:36.299262Z"
        },
        "id": "fLXEeuCabwvN",
        "colab_type": "code",
        "colab": {}
      },
      "source": [
        "# from sklearn.model_selection import train_test_split\n",
        "scores_x_train, scores_x_test, scores_y_train, scores_y_test = train_test_split(air_bnb_without_null.loc[:,[\"log_price\",\"accommodates\",\"bathrooms\",\"number_of_reviews\",\"bedrooms\",\"beds\"]],\n",
        "                                                                                air_bnb_without_null.loc[:,\"review_scores_rating\"],\n",
        "                                                                                test_size=0.2)"
      ],
      "execution_count": 0,
      "outputs": []
    },
    {
      "cell_type": "code",
      "metadata": {
        "ExecuteTime": {
          "end_time": "2019-06-04T08:01:28.866295Z",
          "start_time": "2019-06-04T07:43:38.606765Z"
        },
        "id": "T-BgyS0QbwvP",
        "colab_type": "code",
        "outputId": "b088fc17-58f5-4cb9-f2ed-2baa33814a3f",
        "colab": {}
      },
      "source": [
        "appropriate_k(x_train=scores_x_train,x_test=scores_x_test,y_train=scores_y_train,y_test=scores_y_test,k_max=273)"
      ],
      "execution_count": 0,
      "outputs": [
        {
          "output_type": "execute_result",
          "data": {
            "text/plain": [
              "248"
            ]
          },
          "metadata": {
            "tags": []
          },
          "execution_count": 147
        }
      ]
    },
    {
      "cell_type": "code",
      "metadata": {
        "ExecuteTime": {
          "end_time": "2019-06-04T08:01:28.882776Z",
          "start_time": "2019-06-04T08:01:28.869900Z"
        },
        "colab_type": "code",
        "id": "4DPhg2N5lBFn",
        "colab": {}
      },
      "source": [
        "# creating train and test sets\n",
        "\n",
        "scores_train_x = air_bnb_without_null.loc[:,[\"log_price\",\"accommodates\",\"bathrooms\",\n",
        "                                 \"number_of_reviews\",\"bedrooms\",\"beds\"]]\n",
        "scores_train_y = air_bnb_without_null.loc[:,\"review_scores_rating\"]\n",
        "\n",
        "scores_test = air_bnb_with_null.loc[:,[\"log_price\",\"accommodates\",\"bathrooms\",\n",
        "                                 \"number_of_reviews\",\"bedrooms\",\"beds\"]]"
      ],
      "execution_count": 0,
      "outputs": []
    },
    {
      "cell_type": "code",
      "metadata": {
        "ExecuteTime": {
          "end_time": "2019-06-04T08:07:22.689406Z",
          "start_time": "2019-06-04T08:06:53.942569Z"
        },
        "id": "oaolIwedbwvS",
        "colab_type": "code",
        "colab": {}
      },
      "source": [
        "scores_pred = get_knn_predictions(x_train=scores_train_x,y_train=scores_train_y,x_test=scores_test,n_neigh=248)"
      ],
      "execution_count": 0,
      "outputs": []
    },
    {
      "cell_type": "code",
      "metadata": {
        "ExecuteTime": {
          "end_time": "2019-06-04T08:13:01.645286Z",
          "start_time": "2019-06-04T08:13:01.607965Z"
        },
        "id": "uVBE4iKdbwvT",
        "colab_type": "code",
        "outputId": "23d0f2c3-bcc2-4dcc-add7-cc47f191a440",
        "colab": {}
      },
      "source": [
        "scores_test.loc[:,\"review_scores_rating\"] = scores_pred\n",
        "scores_test.head()"
      ],
      "execution_count": 0,
      "outputs": [
        {
          "output_type": "execute_result",
          "data": {
            "text/html": [
              "<div>\n",
              "<style scoped>\n",
              "    .dataframe tbody tr th:only-of-type {\n",
              "        vertical-align: middle;\n",
              "    }\n",
              "\n",
              "    .dataframe tbody tr th {\n",
              "        vertical-align: top;\n",
              "    }\n",
              "\n",
              "    .dataframe thead th {\n",
              "        text-align: right;\n",
              "    }\n",
              "</style>\n",
              "<table border=\"1\" class=\"dataframe\">\n",
              "  <thead>\n",
              "    <tr style=\"text-align: right;\">\n",
              "      <th></th>\n",
              "      <th>log_price</th>\n",
              "      <th>accommodates</th>\n",
              "      <th>bathrooms</th>\n",
              "      <th>number_of_reviews</th>\n",
              "      <th>bedrooms</th>\n",
              "      <th>beds</th>\n",
              "      <th>review_scores_rating</th>\n",
              "    </tr>\n",
              "    <tr>\n",
              "      <th>id</th>\n",
              "      <th></th>\n",
              "      <th></th>\n",
              "      <th></th>\n",
              "      <th></th>\n",
              "      <th></th>\n",
              "      <th></th>\n",
              "      <th></th>\n",
              "    </tr>\n",
              "  </thead>\n",
              "  <tbody>\n",
              "    <tr>\n",
              "      <th>6901257</th>\n",
              "      <td>0.659259</td>\n",
              "      <td>0.133333</td>\n",
              "      <td>0.125</td>\n",
              "      <td>0.003306</td>\n",
              "      <td>0.1</td>\n",
              "      <td>0.055556</td>\n",
              "      <td>0.939919</td>\n",
              "    </tr>\n",
              "    <tr>\n",
              "      <th>6304928</th>\n",
              "      <td>0.674951</td>\n",
              "      <td>0.400000</td>\n",
              "      <td>0.125</td>\n",
              "      <td>0.009917</td>\n",
              "      <td>0.3</td>\n",
              "      <td>0.166667</td>\n",
              "      <td>0.914062</td>\n",
              "    </tr>\n",
              "    <tr>\n",
              "      <th>7919400</th>\n",
              "      <td>0.654799</td>\n",
              "      <td>0.266667</td>\n",
              "      <td>0.125</td>\n",
              "      <td>0.016529</td>\n",
              "      <td>0.1</td>\n",
              "      <td>0.166667</td>\n",
              "      <td>0.925151</td>\n",
              "    </tr>\n",
              "    <tr>\n",
              "      <th>13418779</th>\n",
              "      <td>0.871016</td>\n",
              "      <td>0.200000</td>\n",
              "      <td>0.125</td>\n",
              "      <td>0.000000</td>\n",
              "      <td>0.2</td>\n",
              "      <td>0.111111</td>\n",
              "      <td>0.933417</td>\n",
              "    </tr>\n",
              "    <tr>\n",
              "      <th>3808709</th>\n",
              "      <td>0.624300</td>\n",
              "      <td>0.066667</td>\n",
              "      <td>0.125</td>\n",
              "      <td>0.006612</td>\n",
              "      <td>0.0</td>\n",
              "      <td>0.055556</td>\n",
              "      <td>0.940121</td>\n",
              "    </tr>\n",
              "  </tbody>\n",
              "</table>\n",
              "</div>"
            ],
            "text/plain": [
              "          log_price  accommodates  bathrooms  number_of_reviews  bedrooms  \\\n",
              "id                                                                          \n",
              "6901257    0.659259      0.133333      0.125           0.003306       0.1   \n",
              "6304928    0.674951      0.400000      0.125           0.009917       0.3   \n",
              "7919400    0.654799      0.266667      0.125           0.016529       0.1   \n",
              "13418779   0.871016      0.200000      0.125           0.000000       0.2   \n",
              "3808709    0.624300      0.066667      0.125           0.006612       0.0   \n",
              "\n",
              "              beds  review_scores_rating  \n",
              "id                                        \n",
              "6901257   0.055556              0.939919  \n",
              "6304928   0.166667              0.914062  \n",
              "7919400   0.166667              0.925151  \n",
              "13418779  0.111111              0.933417  \n",
              "3808709   0.055556              0.940121  "
            ]
          },
          "metadata": {
            "tags": []
          },
          "execution_count": 151
        }
      ]
    },
    {
      "cell_type": "code",
      "metadata": {
        "ExecuteTime": {
          "end_time": "2019-06-04T08:15:02.103624Z",
          "start_time": "2019-06-04T08:15:02.075367Z"
        },
        "id": "v3x0ibTVbwvU",
        "colab_type": "code",
        "outputId": "3275fe1b-ca3c-4b18-daed-d0196f945123",
        "colab": {}
      },
      "source": [
        "air_bnb_with_null.info()"
      ],
      "execution_count": 0,
      "outputs": [
        {
          "output_type": "stream",
          "text": [
            "<class 'pandas.core.frame.DataFrame'>\n",
            "Int64Index: 74111 entries, 6901257 to 3534845\n",
            "Data columns (total 8 columns):\n",
            "log_price               74111 non-null float64\n",
            "accommodates            74111 non-null float64\n",
            "bathrooms               74111 non-null float64\n",
            "host_response_rate      55812 non-null float64\n",
            "number_of_reviews       74111 non-null float64\n",
            "review_scores_rating    57389 non-null float64\n",
            "bedrooms                74111 non-null float64\n",
            "beds                    74111 non-null float64\n",
            "dtypes: float64(8)\n",
            "memory usage: 5.1 MB\n"
          ],
          "name": "stdout"
        }
      ]
    },
    {
      "cell_type": "code",
      "metadata": {
        "ExecuteTime": {
          "end_time": "2019-06-04T08:16:01.384424Z",
          "start_time": "2019-06-04T08:16:01.362349Z"
        },
        "id": "8fsIXQ8vbwvW",
        "colab_type": "code",
        "outputId": "24035b07-d0e5-4390-cdc5-dcbaa7fec537",
        "colab": {}
      },
      "source": [
        "# fill nas now\n",
        "air_bnb_with_null.loc[:,\"review_scores_rating\"].fillna(scores_test.loc[:,\"review_scores_rating\"], inplace=True)\n",
        "air_bnb_with_null.head()"
      ],
      "execution_count": 0,
      "outputs": [
        {
          "output_type": "execute_result",
          "data": {
            "text/html": [
              "<div>\n",
              "<style scoped>\n",
              "    .dataframe tbody tr th:only-of-type {\n",
              "        vertical-align: middle;\n",
              "    }\n",
              "\n",
              "    .dataframe tbody tr th {\n",
              "        vertical-align: top;\n",
              "    }\n",
              "\n",
              "    .dataframe thead th {\n",
              "        text-align: right;\n",
              "    }\n",
              "</style>\n",
              "<table border=\"1\" class=\"dataframe\">\n",
              "  <thead>\n",
              "    <tr style=\"text-align: right;\">\n",
              "      <th></th>\n",
              "      <th>log_price</th>\n",
              "      <th>accommodates</th>\n",
              "      <th>bathrooms</th>\n",
              "      <th>host_response_rate</th>\n",
              "      <th>number_of_reviews</th>\n",
              "      <th>review_scores_rating</th>\n",
              "      <th>bedrooms</th>\n",
              "      <th>beds</th>\n",
              "    </tr>\n",
              "    <tr>\n",
              "      <th>id</th>\n",
              "      <th></th>\n",
              "      <th></th>\n",
              "      <th></th>\n",
              "      <th></th>\n",
              "      <th></th>\n",
              "      <th></th>\n",
              "      <th></th>\n",
              "      <th></th>\n",
              "    </tr>\n",
              "  </thead>\n",
              "  <tbody>\n",
              "    <tr>\n",
              "      <th>6901257</th>\n",
              "      <td>0.659259</td>\n",
              "      <td>0.133333</td>\n",
              "      <td>0.125</td>\n",
              "      <td>NaN</td>\n",
              "      <td>0.003306</td>\n",
              "      <td>1.000000</td>\n",
              "      <td>0.1</td>\n",
              "      <td>0.055556</td>\n",
              "    </tr>\n",
              "    <tr>\n",
              "      <th>6304928</th>\n",
              "      <td>0.674951</td>\n",
              "      <td>0.400000</td>\n",
              "      <td>0.125</td>\n",
              "      <td>1.0</td>\n",
              "      <td>0.009917</td>\n",
              "      <td>0.912500</td>\n",
              "      <td>0.3</td>\n",
              "      <td>0.166667</td>\n",
              "    </tr>\n",
              "    <tr>\n",
              "      <th>7919400</th>\n",
              "      <td>0.654799</td>\n",
              "      <td>0.266667</td>\n",
              "      <td>0.125</td>\n",
              "      <td>1.0</td>\n",
              "      <td>0.016529</td>\n",
              "      <td>0.900000</td>\n",
              "      <td>0.1</td>\n",
              "      <td>0.166667</td>\n",
              "    </tr>\n",
              "    <tr>\n",
              "      <th>13418779</th>\n",
              "      <td>0.871016</td>\n",
              "      <td>0.200000</td>\n",
              "      <td>0.125</td>\n",
              "      <td>NaN</td>\n",
              "      <td>0.000000</td>\n",
              "      <td>0.933417</td>\n",
              "      <td>0.2</td>\n",
              "      <td>0.111111</td>\n",
              "    </tr>\n",
              "    <tr>\n",
              "      <th>3808709</th>\n",
              "      <td>0.624300</td>\n",
              "      <td>0.066667</td>\n",
              "      <td>0.125</td>\n",
              "      <td>1.0</td>\n",
              "      <td>0.006612</td>\n",
              "      <td>0.250000</td>\n",
              "      <td>0.0</td>\n",
              "      <td>0.055556</td>\n",
              "    </tr>\n",
              "  </tbody>\n",
              "</table>\n",
              "</div>"
            ],
            "text/plain": [
              "          log_price  accommodates  bathrooms  host_response_rate  \\\n",
              "id                                                                 \n",
              "6901257    0.659259      0.133333      0.125                 NaN   \n",
              "6304928    0.674951      0.400000      0.125                 1.0   \n",
              "7919400    0.654799      0.266667      0.125                 1.0   \n",
              "13418779   0.871016      0.200000      0.125                 NaN   \n",
              "3808709    0.624300      0.066667      0.125                 1.0   \n",
              "\n",
              "          number_of_reviews  review_scores_rating  bedrooms      beds  \n",
              "id                                                                     \n",
              "6901257            0.003306              1.000000       0.1  0.055556  \n",
              "6304928            0.009917              0.912500       0.3  0.166667  \n",
              "7919400            0.016529              0.900000       0.1  0.166667  \n",
              "13418779           0.000000              0.933417       0.2  0.111111  \n",
              "3808709            0.006612              0.250000       0.0  0.055556  "
            ]
          },
          "metadata": {
            "tags": []
          },
          "execution_count": 155
        }
      ]
    },
    {
      "cell_type": "code",
      "metadata": {
        "ExecuteTime": {
          "end_time": "2019-06-04T08:15:10.344826Z",
          "start_time": "2019-06-04T08:15:10.317348Z"
        },
        "colab_type": "code",
        "id": "G84OW_a8qEe3",
        "outputId": "8ee091e9-7c6e-4a73-81b0-f268157ac2b6",
        "colab": {}
      },
      "source": [
        "air_bnb_with_null.info()"
      ],
      "execution_count": 0,
      "outputs": [
        {
          "output_type": "stream",
          "text": [
            "<class 'pandas.core.frame.DataFrame'>\n",
            "Int64Index: 74111 entries, 6901257 to 3534845\n",
            "Data columns (total 8 columns):\n",
            "log_price               74111 non-null float64\n",
            "accommodates            74111 non-null float64\n",
            "bathrooms               74111 non-null float64\n",
            "host_response_rate      55812 non-null float64\n",
            "number_of_reviews       74111 non-null float64\n",
            "review_scores_rating    74111 non-null float64\n",
            "bedrooms                74111 non-null float64\n",
            "beds                    74111 non-null float64\n",
            "dtypes: float64(8)\n",
            "memory usage: 5.1 MB\n"
          ],
          "name": "stdout"
        }
      ]
    },
    {
      "cell_type": "code",
      "metadata": {
        "ExecuteTime": {
          "end_time": "2019-06-04T08:16:20.014921Z",
          "start_time": "2019-06-04T08:16:19.985850Z"
        },
        "colab_type": "code",
        "id": "nzclXeSxrkOd",
        "outputId": "b2343c23-27e9-4201-dbf7-29f3ca1bbad2",
        "colab": {
          "base_uri": "https://localhost:8080/",
          "height": 185
        }
      },
      "source": [
        "air_bnb_with_null.isna().sum()"
      ],
      "execution_count": 0,
      "outputs": [
        {
          "output_type": "execute_result",
          "data": {
            "text/plain": [
              "log_price                   0\n",
              "accommodates                0\n",
              "bathrooms                   0\n",
              "host_response_rate      18299\n",
              "number_of_reviews           0\n",
              "review_scores_rating        0\n",
              "bedrooms                    0\n",
              "beds                        0\n",
              "dtype: int64"
            ]
          },
          "metadata": {
            "tags": []
          },
          "execution_count": 156
        }
      ]
    },
    {
      "cell_type": "code",
      "metadata": {
        "ExecuteTime": {
          "end_time": "2019-06-04T08:17:12.279545Z",
          "start_time": "2019-06-04T08:17:11.794792Z"
        },
        "id": "SFYQmMp5bwvb",
        "colab_type": "code",
        "outputId": "ec6c113c-4bf4-4664-a869-0f8c8befb5cc",
        "colab": {}
      },
      "source": [
        "# check the distributions now\n",
        "\n",
        "sns.set(rc={'figure.figsize':(24,10)})\n",
        "\n",
        "sns.kdeplot(air_bnb_with_null.loc[:,\"review_scores_rating\"], label=\"bathrooms standardised and imputed\")\n",
        "sns.kdeplot(air_bnb_scaled.loc[:,\"review_scores_rating\"], label=\"bedrooms scaled and non-imputed\")\n",
        "\n",
        "plt.legend()\n",
        "plt.show()"
      ],
      "execution_count": 0,
      "outputs": [
        {
          "output_type": "stream",
          "text": [
            "C:\\Users\\neevaN_Reddy\\Anaconda3\\lib\\site-packages\\statsmodels\\nonparametric\\kde.py:448: RuntimeWarning: invalid value encountered in greater\n",
            "  X = X[np.logical_and(X > clip[0], X < clip[1])] # won't work for two columns.\n",
            "C:\\Users\\neevaN_Reddy\\Anaconda3\\lib\\site-packages\\statsmodels\\nonparametric\\kde.py:448: RuntimeWarning: invalid value encountered in less\n",
            "  X = X[np.logical_and(X > clip[0], X < clip[1])] # won't work for two columns.\n"
          ],
          "name": "stderr"
        },
        {
          "output_type": "display_data",
          "data": {
            "image/png": "[encoded data removed]",
            "text/plain": [
              "<Figure size 1728x720 with 1 Axes>"
            ]
          },
          "metadata": {
            "tags": []
          }
        }
      ]
    },
    {
      "cell_type": "markdown",
      "metadata": {
        "colab_type": "text",
        "id": "bRn5lDcQsCI0"
      },
      "source": [
        "# imputing `host_response_rate` column"
      ]
    },
    {
      "cell_type": "code",
      "metadata": {
        "ExecuteTime": {
          "end_time": "2019-06-04T09:07:42.136056Z",
          "start_time": "2019-06-04T09:07:42.114959Z"
        },
        "id": "faZqfgjUbwvd",
        "colab_type": "code",
        "outputId": "116cead3-ea42-4c5b-828b-1d1c385d0ff8",
        "colab": {}
      },
      "source": [
        "air_bnb_with_null.info()"
      ],
      "execution_count": 0,
      "outputs": [
        {
          "output_type": "stream",
          "text": [
            "<class 'pandas.core.frame.DataFrame'>\n",
            "Int64Index: 74111 entries, 6901257 to 3534845\n",
            "Data columns (total 8 columns):\n",
            "log_price               74111 non-null float64\n",
            "accommodates            74111 non-null float64\n",
            "bathrooms               74111 non-null float64\n",
            "host_response_rate      55812 non-null float64\n",
            "number_of_reviews       74111 non-null float64\n",
            "review_scores_rating    74111 non-null float64\n",
            "bedrooms                74111 non-null float64\n",
            "beds                    74111 non-null float64\n",
            "dtypes: float64(8)\n",
            "memory usage: 5.1 MB\n"
          ],
          "name": "stdout"
        }
      ]
    },
    {
      "cell_type": "code",
      "metadata": {
        "ExecuteTime": {
          "end_time": "2019-06-04T09:51:11.630033Z",
          "start_time": "2019-06-04T09:51:11.598617Z"
        },
        "id": "hnSMqreAbwvf",
        "colab_type": "code",
        "colab": {}
      },
      "source": [
        "# from sklearn.model_selection import train_test_split\n",
        "host_x_train, host_x_test, host_y_train, host_y_test = train_test_split(air_bnb_without_null.loc[:,[\"log_price\",\"accommodates\",\"bathrooms\",\"number_of_reviews\",\"bedrooms\",\"beds\",\"review_scores_rating\"]],\n",
        "                                                                        air_bnb_without_null.loc[:,\"host_response_rate\"],\n",
        "                                                                        test_size=0.2)"
      ],
      "execution_count": 0,
      "outputs": []
    },
    {
      "cell_type": "code",
      "metadata": {
        "ExecuteTime": {
          "end_time": "2019-06-04T10:07:20.378869Z",
          "start_time": "2019-06-04T09:51:14.861635Z"
        },
        "id": "Q3_yYoPNbwvg",
        "colab_type": "code",
        "outputId": "6dde843d-14d9-44f6-c1e2-0ebab629ae4c",
        "colab": {}
      },
      "source": [
        "appropriate_k(x_train=host_x_train,x_test=host_x_test,y_train=host_y_train,y_test=host_y_test,k_max=273)"
      ],
      "execution_count": 0,
      "outputs": [
        {
          "output_type": "execute_result",
          "data": {
            "text/plain": [
              "200"
            ]
          },
          "metadata": {
            "tags": []
          },
          "execution_count": 168
        }
      ]
    },
    {
      "cell_type": "code",
      "metadata": {
        "ExecuteTime": {
          "end_time": "2019-06-04T10:16:06.649145Z",
          "start_time": "2019-06-04T10:16:06.627764Z"
        },
        "colab_type": "code",
        "id": "KwpS07YSrrCi",
        "colab": {}
      },
      "source": [
        "# creating train and test sets\n",
        "\n",
        "\n",
        "host_train_x = air_bnb_without_null.loc[:,[\"log_price\",\"accommodates\",\"bathrooms\",\n",
        "                                           \"number_of_reviews\",\"bedrooms\",\"beds\",\"review_scores_rating\"]]\n",
        "host_train_y = air_bnb_without_null.loc[:,\"host_response_rate\"]\n",
        "\n",
        "\n",
        "host_test = air_bnb_with_null.loc[:,[\"log_price\",\"accommodates\",\"bathrooms\",\n",
        "                                     \"number_of_reviews\",\"bedrooms\",\"beds\",\"review_scores_rating\"]]"
      ],
      "execution_count": 0,
      "outputs": []
    },
    {
      "cell_type": "code",
      "metadata": {
        "ExecuteTime": {
          "end_time": "2019-06-04T10:16:09.175931Z",
          "start_time": "2019-06-04T10:16:09.167696Z"
        },
        "id": "K4L_rbtxbwvj",
        "colab_type": "code",
        "outputId": "952fb4a1-0f3b-47a3-8c44-ad4f036efb07",
        "colab": {}
      },
      "source": [
        "print(host_train_x.shape)\n",
        "print(host_train_y.shape)\n",
        "print(host_test.shape)"
      ],
      "execution_count": 0,
      "outputs": [
        {
          "output_type": "stream",
          "text": [
            "(47787, 7)\n",
            "(47787,)\n",
            "(74111, 7)\n"
          ],
          "name": "stdout"
        }
      ]
    },
    {
      "cell_type": "code",
      "metadata": {
        "ExecuteTime": {
          "end_time": "2019-06-04T10:20:04.969639Z",
          "start_time": "2019-06-04T10:19:31.693635Z"
        },
        "id": "RoTgAFaZbwvk",
        "colab_type": "code",
        "colab": {}
      },
      "source": [
        "host_pred = get_knn_predictions(x_train=host_train_x,y_train=host_train_y,x_test=host_test,n_neigh=200)"
      ],
      "execution_count": 0,
      "outputs": []
    },
    {
      "cell_type": "code",
      "metadata": {
        "ExecuteTime": {
          "end_time": "2019-06-04T10:20:40.156242Z",
          "start_time": "2019-06-04T10:20:40.140396Z"
        },
        "id": "jsx412uibwvl",
        "colab_type": "code",
        "colab": {}
      },
      "source": [
        "host_test.loc[:,\"host_response_rate\"] = host_pred"
      ],
      "execution_count": 0,
      "outputs": []
    },
    {
      "cell_type": "code",
      "metadata": {
        "ExecuteTime": {
          "end_time": "2019-06-04T10:20:53.195222Z",
          "start_time": "2019-06-04T10:20:53.178101Z"
        },
        "colab_type": "code",
        "id": "2glC-6tmuJUU",
        "colab": {}
      },
      "source": [
        "air_bnb_with_null.loc[:,\"host_response_rate\"].fillna(host_test.loc[:,\"host_response_rate\"], inplace=True)"
      ],
      "execution_count": 0,
      "outputs": []
    },
    {
      "cell_type": "code",
      "metadata": {
        "ExecuteTime": {
          "end_time": "2019-06-04T10:20:54.813584Z",
          "start_time": "2019-06-04T10:20:54.790132Z"
        },
        "colab_type": "code",
        "id": "lhxS9NYEuvam",
        "outputId": "b2c49823-7ae2-4eec-c701-da1424103c03",
        "colab": {
          "base_uri": "https://localhost:8080/",
          "height": 185
        }
      },
      "source": [
        "air_bnb_with_null.isnull().sum()"
      ],
      "execution_count": 0,
      "outputs": [
        {
          "output_type": "execute_result",
          "data": {
            "text/plain": [
              "log_price               0\n",
              "accommodates            0\n",
              "bathrooms               0\n",
              "host_response_rate      0\n",
              "number_of_reviews       0\n",
              "review_scores_rating    0\n",
              "bedrooms                0\n",
              "beds                    0\n",
              "dtype: int64"
            ]
          },
          "metadata": {
            "tags": []
          },
          "execution_count": 183
        }
      ]
    },
    {
      "cell_type": "markdown",
      "metadata": {
        "colab_type": "text",
        "id": "FrDrxQCEu--8"
      },
      "source": [
        "# rescaling to original and saving the dataframe"
      ]
    },
    {
      "cell_type": "code",
      "metadata": {
        "ExecuteTime": {
          "end_time": "2019-06-04T10:21:03.336373Z",
          "start_time": "2019-06-04T10:21:03.328040Z"
        },
        "colab_type": "code",
        "id": "iMY8X98a1okb",
        "outputId": "36974126-e7ac-4a61-8deb-da9077aac6df",
        "colab": {
          "base_uri": "https://localhost:8080/",
          "height": 151
        }
      },
      "source": [
        "air_bnb_columns = list(air_bnb_num.columns.values)\n",
        "air_bnb_columns.remove(\"id\")\n",
        "air_bnb_columns"
      ],
      "execution_count": 0,
      "outputs": [
        {
          "output_type": "execute_result",
          "data": {
            "text/plain": [
              "['log_price',\n",
              " 'accommodates',\n",
              " 'bathrooms',\n",
              " 'host_response_rate',\n",
              " 'number_of_reviews',\n",
              " 'review_scores_rating',\n",
              " 'bedrooms',\n",
              " 'beds']"
            ]
          },
          "metadata": {
            "tags": []
          },
          "execution_count": 184
        }
      ]
    },
    {
      "cell_type": "code",
      "metadata": {
        "ExecuteTime": {
          "end_time": "2019-06-04T10:21:47.924240Z",
          "start_time": "2019-06-04T10:21:47.903232Z"
        },
        "colab_type": "code",
        "id": "e-9blk5217r3",
        "outputId": "71629c60-b562-4481-c781-cac0096ff68b",
        "colab": {
          "base_uri": "https://localhost:8080/",
          "height": 195
        }
      },
      "source": [
        "# air_bnb_with_null.drop(\"id\", axis=1, inplace=True)\n",
        "air_bnb_with_null.head()"
      ],
      "execution_count": 0,
      "outputs": [
        {
          "output_type": "execute_result",
          "data": {
            "text/html": [
              "<div>\n",
              "<style scoped>\n",
              "    .dataframe tbody tr th:only-of-type {\n",
              "        vertical-align: middle;\n",
              "    }\n",
              "\n",
              "    .dataframe tbody tr th {\n",
              "        vertical-align: top;\n",
              "    }\n",
              "\n",
              "    .dataframe thead th {\n",
              "        text-align: right;\n",
              "    }\n",
              "</style>\n",
              "<table border=\"1\" class=\"dataframe\">\n",
              "  <thead>\n",
              "    <tr style=\"text-align: right;\">\n",
              "      <th></th>\n",
              "      <th>log_price</th>\n",
              "      <th>accommodates</th>\n",
              "      <th>bathrooms</th>\n",
              "      <th>host_response_rate</th>\n",
              "      <th>number_of_reviews</th>\n",
              "      <th>review_scores_rating</th>\n",
              "      <th>bedrooms</th>\n",
              "      <th>beds</th>\n",
              "    </tr>\n",
              "    <tr>\n",
              "      <th>id</th>\n",
              "      <th></th>\n",
              "      <th></th>\n",
              "      <th></th>\n",
              "      <th></th>\n",
              "      <th></th>\n",
              "      <th></th>\n",
              "      <th></th>\n",
              "      <th></th>\n",
              "    </tr>\n",
              "  </thead>\n",
              "  <tbody>\n",
              "    <tr>\n",
              "      <th>6901257</th>\n",
              "      <td>0.659259</td>\n",
              "      <td>0.133333</td>\n",
              "      <td>0.125</td>\n",
              "      <td>0.9395</td>\n",
              "      <td>0.003306</td>\n",
              "      <td>1.000000</td>\n",
              "      <td>0.1</td>\n",
              "      <td>0.055556</td>\n",
              "    </tr>\n",
              "    <tr>\n",
              "      <th>6304928</th>\n",
              "      <td>0.674951</td>\n",
              "      <td>0.400000</td>\n",
              "      <td>0.125</td>\n",
              "      <td>1.0000</td>\n",
              "      <td>0.009917</td>\n",
              "      <td>0.912500</td>\n",
              "      <td>0.3</td>\n",
              "      <td>0.166667</td>\n",
              "    </tr>\n",
              "    <tr>\n",
              "      <th>7919400</th>\n",
              "      <td>0.654799</td>\n",
              "      <td>0.266667</td>\n",
              "      <td>0.125</td>\n",
              "      <td>1.0000</td>\n",
              "      <td>0.016529</td>\n",
              "      <td>0.900000</td>\n",
              "      <td>0.1</td>\n",
              "      <td>0.166667</td>\n",
              "    </tr>\n",
              "    <tr>\n",
              "      <th>13418779</th>\n",
              "      <td>0.871016</td>\n",
              "      <td>0.200000</td>\n",
              "      <td>0.125</td>\n",
              "      <td>0.9463</td>\n",
              "      <td>0.000000</td>\n",
              "      <td>0.933417</td>\n",
              "      <td>0.2</td>\n",
              "      <td>0.111111</td>\n",
              "    </tr>\n",
              "    <tr>\n",
              "      <th>3808709</th>\n",
              "      <td>0.624300</td>\n",
              "      <td>0.066667</td>\n",
              "      <td>0.125</td>\n",
              "      <td>1.0000</td>\n",
              "      <td>0.006612</td>\n",
              "      <td>0.250000</td>\n",
              "      <td>0.0</td>\n",
              "      <td>0.055556</td>\n",
              "    </tr>\n",
              "  </tbody>\n",
              "</table>\n",
              "</div>"
            ],
            "text/plain": [
              "          log_price  accommodates  bathrooms  host_response_rate  \\\n",
              "id                                                                 \n",
              "6901257    0.659259      0.133333      0.125              0.9395   \n",
              "6304928    0.674951      0.400000      0.125              1.0000   \n",
              "7919400    0.654799      0.266667      0.125              1.0000   \n",
              "13418779   0.871016      0.200000      0.125              0.9463   \n",
              "3808709    0.624300      0.066667      0.125              1.0000   \n",
              "\n",
              "          number_of_reviews  review_scores_rating  bedrooms      beds  \n",
              "id                                                                     \n",
              "6901257            0.003306              1.000000       0.1  0.055556  \n",
              "6304928            0.009917              0.912500       0.3  0.166667  \n",
              "7919400            0.016529              0.900000       0.1  0.166667  \n",
              "13418779           0.000000              0.933417       0.2  0.111111  \n",
              "3808709            0.006612              0.250000       0.0  0.055556  "
            ]
          },
          "metadata": {
            "tags": []
          },
          "execution_count": 186
        }
      ]
    },
    {
      "cell_type": "code",
      "metadata": {
        "ExecuteTime": {
          "end_time": "2019-06-04T10:22:09.257786Z",
          "start_time": "2019-06-04T10:22:09.217663Z"
        },
        "colab_type": "code",
        "id": "hI3Etgrpu9ws",
        "outputId": "e5fd6e6b-e00b-4d92-9aad-11e7b6b41809",
        "colab": {}
      },
      "source": [
        "air_bnb_num_imputed = pd.DataFrame(data=normalizer_max.inverse_transform(air_bnb_with_null),\n",
        "                              columns=air_bnb_columns,\n",
        "                              index=air_bnb_num[\"id\"])\n",
        "air_bnb_num_imputed.head()"
      ],
      "execution_count": 0,
      "outputs": [
        {
          "output_type": "execute_result",
          "data": {
            "text/html": [
              "<div>\n",
              "<style scoped>\n",
              "    .dataframe tbody tr th:only-of-type {\n",
              "        vertical-align: middle;\n",
              "    }\n",
              "\n",
              "    .dataframe tbody tr th {\n",
              "        vertical-align: top;\n",
              "    }\n",
              "\n",
              "    .dataframe thead th {\n",
              "        text-align: right;\n",
              "    }\n",
              "</style>\n",
              "<table border=\"1\" class=\"dataframe\">\n",
              "  <thead>\n",
              "    <tr style=\"text-align: right;\">\n",
              "      <th></th>\n",
              "      <th>log_price</th>\n",
              "      <th>accommodates</th>\n",
              "      <th>bathrooms</th>\n",
              "      <th>host_response_rate</th>\n",
              "      <th>number_of_reviews</th>\n",
              "      <th>review_scores_rating</th>\n",
              "      <th>bedrooms</th>\n",
              "      <th>beds</th>\n",
              "    </tr>\n",
              "    <tr>\n",
              "      <th>id</th>\n",
              "      <th></th>\n",
              "      <th></th>\n",
              "      <th></th>\n",
              "      <th></th>\n",
              "      <th></th>\n",
              "      <th></th>\n",
              "      <th></th>\n",
              "      <th></th>\n",
              "    </tr>\n",
              "  </thead>\n",
              "  <tbody>\n",
              "    <tr>\n",
              "      <th>6901257</th>\n",
              "      <td>5.010635</td>\n",
              "      <td>3.0</td>\n",
              "      <td>1.0</td>\n",
              "      <td>0.9395</td>\n",
              "      <td>2.0</td>\n",
              "      <td>100.000000</td>\n",
              "      <td>1.0</td>\n",
              "      <td>1.0</td>\n",
              "    </tr>\n",
              "    <tr>\n",
              "      <th>6304928</th>\n",
              "      <td>5.129899</td>\n",
              "      <td>7.0</td>\n",
              "      <td>1.0</td>\n",
              "      <td>1.0000</td>\n",
              "      <td>6.0</td>\n",
              "      <td>93.000000</td>\n",
              "      <td>3.0</td>\n",
              "      <td>3.0</td>\n",
              "    </tr>\n",
              "    <tr>\n",
              "      <th>7919400</th>\n",
              "      <td>4.976734</td>\n",
              "      <td>5.0</td>\n",
              "      <td>1.0</td>\n",
              "      <td>1.0000</td>\n",
              "      <td>10.0</td>\n",
              "      <td>92.000000</td>\n",
              "      <td>1.0</td>\n",
              "      <td>3.0</td>\n",
              "    </tr>\n",
              "    <tr>\n",
              "      <th>13418779</th>\n",
              "      <td>6.620073</td>\n",
              "      <td>4.0</td>\n",
              "      <td>1.0</td>\n",
              "      <td>0.9463</td>\n",
              "      <td>0.0</td>\n",
              "      <td>94.673387</td>\n",
              "      <td>2.0</td>\n",
              "      <td>2.0</td>\n",
              "    </tr>\n",
              "    <tr>\n",
              "      <th>3808709</th>\n",
              "      <td>4.744932</td>\n",
              "      <td>2.0</td>\n",
              "      <td>1.0</td>\n",
              "      <td>1.0000</td>\n",
              "      <td>4.0</td>\n",
              "      <td>40.000000</td>\n",
              "      <td>0.0</td>\n",
              "      <td>1.0</td>\n",
              "    </tr>\n",
              "  </tbody>\n",
              "</table>\n",
              "</div>"
            ],
            "text/plain": [
              "          log_price  accommodates  bathrooms  host_response_rate  \\\n",
              "id                                                                 \n",
              "6901257    5.010635           3.0        1.0              0.9395   \n",
              "6304928    5.129899           7.0        1.0              1.0000   \n",
              "7919400    4.976734           5.0        1.0              1.0000   \n",
              "13418779   6.620073           4.0        1.0              0.9463   \n",
              "3808709    4.744932           2.0        1.0              1.0000   \n",
              "\n",
              "          number_of_reviews  review_scores_rating  bedrooms  beds  \n",
              "id                                                                 \n",
              "6901257                 2.0            100.000000       1.0   1.0  \n",
              "6304928                 6.0             93.000000       3.0   3.0  \n",
              "7919400                10.0             92.000000       1.0   3.0  \n",
              "13418779                0.0             94.673387       2.0   2.0  \n",
              "3808709                 4.0             40.000000       0.0   1.0  "
            ]
          },
          "metadata": {
            "tags": []
          },
          "execution_count": 187
        }
      ]
    },
    {
      "cell_type": "code",
      "metadata": {
        "ExecuteTime": {
          "end_time": "2019-06-04T10:22:22.518219Z",
          "start_time": "2019-06-04T10:22:22.485706Z"
        },
        "id": "lTgqzdtNbwvw",
        "colab_type": "code",
        "outputId": "a3876a55-90d2-443d-9f2c-949d6ab83be1",
        "colab": {}
      },
      "source": [
        "air_bnb_num.head()"
      ],
      "execution_count": 0,
      "outputs": [
        {
          "output_type": "execute_result",
          "data": {
            "text/html": [
              "<div>\n",
              "<style scoped>\n",
              "    .dataframe tbody tr th:only-of-type {\n",
              "        vertical-align: middle;\n",
              "    }\n",
              "\n",
              "    .dataframe tbody tr th {\n",
              "        vertical-align: top;\n",
              "    }\n",
              "\n",
              "    .dataframe thead th {\n",
              "        text-align: right;\n",
              "    }\n",
              "</style>\n",
              "<table border=\"1\" class=\"dataframe\">\n",
              "  <thead>\n",
              "    <tr style=\"text-align: right;\">\n",
              "      <th></th>\n",
              "      <th>id</th>\n",
              "      <th>log_price</th>\n",
              "      <th>accommodates</th>\n",
              "      <th>bathrooms</th>\n",
              "      <th>host_response_rate</th>\n",
              "      <th>number_of_reviews</th>\n",
              "      <th>review_scores_rating</th>\n",
              "      <th>bedrooms</th>\n",
              "      <th>beds</th>\n",
              "    </tr>\n",
              "  </thead>\n",
              "  <tbody>\n",
              "    <tr>\n",
              "      <th>0</th>\n",
              "      <td>6901257</td>\n",
              "      <td>5.010635</td>\n",
              "      <td>3</td>\n",
              "      <td>1.0</td>\n",
              "      <td>NaN</td>\n",
              "      <td>2</td>\n",
              "      <td>100.0</td>\n",
              "      <td>1.0</td>\n",
              "      <td>1.0</td>\n",
              "    </tr>\n",
              "    <tr>\n",
              "      <th>1</th>\n",
              "      <td>6304928</td>\n",
              "      <td>5.129899</td>\n",
              "      <td>7</td>\n",
              "      <td>1.0</td>\n",
              "      <td>1.0</td>\n",
              "      <td>6</td>\n",
              "      <td>93.0</td>\n",
              "      <td>3.0</td>\n",
              "      <td>3.0</td>\n",
              "    </tr>\n",
              "    <tr>\n",
              "      <th>2</th>\n",
              "      <td>7919400</td>\n",
              "      <td>4.976734</td>\n",
              "      <td>5</td>\n",
              "      <td>1.0</td>\n",
              "      <td>1.0</td>\n",
              "      <td>10</td>\n",
              "      <td>92.0</td>\n",
              "      <td>1.0</td>\n",
              "      <td>3.0</td>\n",
              "    </tr>\n",
              "    <tr>\n",
              "      <th>3</th>\n",
              "      <td>13418779</td>\n",
              "      <td>6.620073</td>\n",
              "      <td>4</td>\n",
              "      <td>1.0</td>\n",
              "      <td>NaN</td>\n",
              "      <td>0</td>\n",
              "      <td>NaN</td>\n",
              "      <td>2.0</td>\n",
              "      <td>2.0</td>\n",
              "    </tr>\n",
              "    <tr>\n",
              "      <th>4</th>\n",
              "      <td>3808709</td>\n",
              "      <td>4.744932</td>\n",
              "      <td>2</td>\n",
              "      <td>1.0</td>\n",
              "      <td>1.0</td>\n",
              "      <td>4</td>\n",
              "      <td>40.0</td>\n",
              "      <td>0.0</td>\n",
              "      <td>1.0</td>\n",
              "    </tr>\n",
              "  </tbody>\n",
              "</table>\n",
              "</div>"
            ],
            "text/plain": [
              "         id  log_price  accommodates  bathrooms  host_response_rate  \\\n",
              "0   6901257   5.010635             3        1.0                 NaN   \n",
              "1   6304928   5.129899             7        1.0                 1.0   \n",
              "2   7919400   4.976734             5        1.0                 1.0   \n",
              "3  13418779   6.620073             4        1.0                 NaN   \n",
              "4   3808709   4.744932             2        1.0                 1.0   \n",
              "\n",
              "   number_of_reviews  review_scores_rating  bedrooms  beds  \n",
              "0                  2                 100.0       1.0   1.0  \n",
              "1                  6                  93.0       3.0   3.0  \n",
              "2                 10                  92.0       1.0   3.0  \n",
              "3                  0                   NaN       2.0   2.0  \n",
              "4                  4                  40.0       0.0   1.0  "
            ]
          },
          "metadata": {
            "tags": []
          },
          "execution_count": 188
        }
      ]
    },
    {
      "cell_type": "code",
      "metadata": {
        "colab_type": "code",
        "id": "B1nmt9L3vwEq",
        "outputId": "a5253c7b-4b25-4b63-9088-360b674cc001",
        "colab": {
          "base_uri": "https://localhost:8080/",
          "height": 235
        }
      },
      "source": [
        "air_bnb_num_imputed.info()"
      ],
      "execution_count": 0,
      "outputs": [
        {
          "output_type": "stream",
          "text": [
            "<class 'pandas.core.frame.DataFrame'>\n",
            "Int64Index: 74111 entries, 6901257 to 3534845\n",
            "Data columns (total 8 columns):\n",
            "log_price               74111 non-null float64\n",
            "accommodates            74111 non-null float64\n",
            "bathrooms               74111 non-null float64\n",
            "host_response_rate      74111 non-null float64\n",
            "number_of_reviews       74111 non-null float64\n",
            "review_scores_rating    74111 non-null float64\n",
            "bedrooms                74111 non-null float64\n",
            "beds                    74111 non-null float64\n",
            "dtypes: float64(8)\n",
            "memory usage: 5.1 MB\n"
          ],
          "name": "stdout"
        }
      ]
    },
    {
      "cell_type": "code",
      "metadata": {
        "colab_type": "code",
        "id": "-iYcy1gbv1ou",
        "outputId": "0dd36663-a1ce-45e9-9b00-679f0cb17188",
        "colab": {
          "base_uri": "https://localhost:8080/",
          "height": 373
        }
      },
      "source": [
        "air_bnb_num_imputed.head(n=10)"
      ],
      "execution_count": 0,
      "outputs": [
        {
          "output_type": "execute_result",
          "data": {
            "text/html": [
              "<div>\n",
              "<style scoped>\n",
              "    .dataframe tbody tr th:only-of-type {\n",
              "        vertical-align: middle;\n",
              "    }\n",
              "\n",
              "    .dataframe tbody tr th {\n",
              "        vertical-align: top;\n",
              "    }\n",
              "\n",
              "    .dataframe thead th {\n",
              "        text-align: right;\n",
              "    }\n",
              "</style>\n",
              "<table border=\"1\" class=\"dataframe\">\n",
              "  <thead>\n",
              "    <tr style=\"text-align: right;\">\n",
              "      <th></th>\n",
              "      <th>log_price</th>\n",
              "      <th>accommodates</th>\n",
              "      <th>bathrooms</th>\n",
              "      <th>host_response_rate</th>\n",
              "      <th>number_of_reviews</th>\n",
              "      <th>review_scores_rating</th>\n",
              "      <th>bedrooms</th>\n",
              "      <th>beds</th>\n",
              "    </tr>\n",
              "    <tr>\n",
              "      <th>id</th>\n",
              "      <th></th>\n",
              "      <th></th>\n",
              "      <th></th>\n",
              "      <th></th>\n",
              "      <th></th>\n",
              "      <th></th>\n",
              "      <th></th>\n",
              "      <th></th>\n",
              "    </tr>\n",
              "  </thead>\n",
              "  <tbody>\n",
              "    <tr>\n",
              "      <th>6901257</th>\n",
              "      <td>5.010635</td>\n",
              "      <td>3.0</td>\n",
              "      <td>1.0</td>\n",
              "      <td>0.880</td>\n",
              "      <td>2.0</td>\n",
              "      <td>100.0</td>\n",
              "      <td>1.0</td>\n",
              "      <td>1.0</td>\n",
              "    </tr>\n",
              "    <tr>\n",
              "      <th>6304928</th>\n",
              "      <td>5.129899</td>\n",
              "      <td>7.0</td>\n",
              "      <td>1.0</td>\n",
              "      <td>1.000</td>\n",
              "      <td>6.0</td>\n",
              "      <td>93.0</td>\n",
              "      <td>3.0</td>\n",
              "      <td>3.0</td>\n",
              "    </tr>\n",
              "    <tr>\n",
              "      <th>7919400</th>\n",
              "      <td>4.976734</td>\n",
              "      <td>5.0</td>\n",
              "      <td>1.0</td>\n",
              "      <td>1.000</td>\n",
              "      <td>10.0</td>\n",
              "      <td>92.0</td>\n",
              "      <td>1.0</td>\n",
              "      <td>3.0</td>\n",
              "    </tr>\n",
              "    <tr>\n",
              "      <th>13418779</th>\n",
              "      <td>6.620073</td>\n",
              "      <td>4.0</td>\n",
              "      <td>1.0</td>\n",
              "      <td>0.739</td>\n",
              "      <td>0.0</td>\n",
              "      <td>93.2</td>\n",
              "      <td>2.0</td>\n",
              "      <td>2.0</td>\n",
              "    </tr>\n",
              "    <tr>\n",
              "      <th>3808709</th>\n",
              "      <td>4.744932</td>\n",
              "      <td>2.0</td>\n",
              "      <td>1.0</td>\n",
              "      <td>1.000</td>\n",
              "      <td>4.0</td>\n",
              "      <td>40.0</td>\n",
              "      <td>0.0</td>\n",
              "      <td>1.0</td>\n",
              "    </tr>\n",
              "    <tr>\n",
              "      <th>12422935</th>\n",
              "      <td>4.442651</td>\n",
              "      <td>2.0</td>\n",
              "      <td>1.0</td>\n",
              "      <td>1.000</td>\n",
              "      <td>3.0</td>\n",
              "      <td>100.0</td>\n",
              "      <td>1.0</td>\n",
              "      <td>1.0</td>\n",
              "    </tr>\n",
              "    <tr>\n",
              "      <th>11825529</th>\n",
              "      <td>4.418841</td>\n",
              "      <td>3.0</td>\n",
              "      <td>1.0</td>\n",
              "      <td>1.000</td>\n",
              "      <td>15.0</td>\n",
              "      <td>97.0</td>\n",
              "      <td>1.0</td>\n",
              "      <td>1.0</td>\n",
              "    </tr>\n",
              "    <tr>\n",
              "      <th>13971273</th>\n",
              "      <td>4.787492</td>\n",
              "      <td>2.0</td>\n",
              "      <td>1.0</td>\n",
              "      <td>1.000</td>\n",
              "      <td>9.0</td>\n",
              "      <td>93.0</td>\n",
              "      <td>1.0</td>\n",
              "      <td>1.0</td>\n",
              "    </tr>\n",
              "    <tr>\n",
              "      <th>180792</th>\n",
              "      <td>4.787492</td>\n",
              "      <td>2.0</td>\n",
              "      <td>1.0</td>\n",
              "      <td>1.000</td>\n",
              "      <td>159.0</td>\n",
              "      <td>99.0</td>\n",
              "      <td>1.0</td>\n",
              "      <td>1.0</td>\n",
              "    </tr>\n",
              "    <tr>\n",
              "      <th>5385260</th>\n",
              "      <td>3.583519</td>\n",
              "      <td>2.0</td>\n",
              "      <td>1.0</td>\n",
              "      <td>1.000</td>\n",
              "      <td>2.0</td>\n",
              "      <td>90.0</td>\n",
              "      <td>1.0</td>\n",
              "      <td>1.0</td>\n",
              "    </tr>\n",
              "  </tbody>\n",
              "</table>\n",
              "</div>"
            ],
            "text/plain": [
              "          log_price  accommodates  bathrooms  host_response_rate  \\\n",
              "id                                                                 \n",
              "6901257    5.010635           3.0        1.0               0.880   \n",
              "6304928    5.129899           7.0        1.0               1.000   \n",
              "7919400    4.976734           5.0        1.0               1.000   \n",
              "13418779   6.620073           4.0        1.0               0.739   \n",
              "3808709    4.744932           2.0        1.0               1.000   \n",
              "12422935   4.442651           2.0        1.0               1.000   \n",
              "11825529   4.418841           3.0        1.0               1.000   \n",
              "13971273   4.787492           2.0        1.0               1.000   \n",
              "180792     4.787492           2.0        1.0               1.000   \n",
              "5385260    3.583519           2.0        1.0               1.000   \n",
              "\n",
              "          number_of_reviews  review_scores_rating  bedrooms  beds  \n",
              "id                                                                 \n",
              "6901257                 2.0                 100.0       1.0   1.0  \n",
              "6304928                 6.0                  93.0       3.0   3.0  \n",
              "7919400                10.0                  92.0       1.0   3.0  \n",
              "13418779                0.0                  93.2       2.0   2.0  \n",
              "3808709                 4.0                  40.0       0.0   1.0  \n",
              "12422935                3.0                 100.0       1.0   1.0  \n",
              "11825529               15.0                  97.0       1.0   1.0  \n",
              "13971273                9.0                  93.0       1.0   1.0  \n",
              "180792                159.0                  99.0       1.0   1.0  \n",
              "5385260                 2.0                  90.0       1.0   1.0  "
            ]
          },
          "metadata": {
            "tags": []
          },
          "execution_count": 90
        }
      ]
    },
    {
      "cell_type": "code",
      "metadata": {
        "colab_type": "code",
        "id": "SVZZahdg4Vi4",
        "outputId": "14847665-ed62-407b-a94e-590b1c7977b0",
        "scrolled": true,
        "colab": {
          "base_uri": "https://localhost:8080/",
          "height": 343
        }
      },
      "source": [
        "air_bnb_num.head(n=10)"
      ],
      "execution_count": 0,
      "outputs": [
        {
          "output_type": "execute_result",
          "data": {
            "text/html": [
              "<div>\n",
              "<style scoped>\n",
              "    .dataframe tbody tr th:only-of-type {\n",
              "        vertical-align: middle;\n",
              "    }\n",
              "\n",
              "    .dataframe tbody tr th {\n",
              "        vertical-align: top;\n",
              "    }\n",
              "\n",
              "    .dataframe thead th {\n",
              "        text-align: right;\n",
              "    }\n",
              "</style>\n",
              "<table border=\"1\" class=\"dataframe\">\n",
              "  <thead>\n",
              "    <tr style=\"text-align: right;\">\n",
              "      <th></th>\n",
              "      <th>id</th>\n",
              "      <th>log_price</th>\n",
              "      <th>accommodates</th>\n",
              "      <th>bathrooms</th>\n",
              "      <th>host_response_rate</th>\n",
              "      <th>number_of_reviews</th>\n",
              "      <th>review_scores_rating</th>\n",
              "      <th>bedrooms</th>\n",
              "      <th>beds</th>\n",
              "    </tr>\n",
              "  </thead>\n",
              "  <tbody>\n",
              "    <tr>\n",
              "      <th>0</th>\n",
              "      <td>6901257</td>\n",
              "      <td>5.010635</td>\n",
              "      <td>3</td>\n",
              "      <td>1.0</td>\n",
              "      <td>NaN</td>\n",
              "      <td>2</td>\n",
              "      <td>100.0</td>\n",
              "      <td>1.0</td>\n",
              "      <td>1.0</td>\n",
              "    </tr>\n",
              "    <tr>\n",
              "      <th>1</th>\n",
              "      <td>6304928</td>\n",
              "      <td>5.129899</td>\n",
              "      <td>7</td>\n",
              "      <td>1.0</td>\n",
              "      <td>1.0</td>\n",
              "      <td>6</td>\n",
              "      <td>93.0</td>\n",
              "      <td>3.0</td>\n",
              "      <td>3.0</td>\n",
              "    </tr>\n",
              "    <tr>\n",
              "      <th>2</th>\n",
              "      <td>7919400</td>\n",
              "      <td>4.976734</td>\n",
              "      <td>5</td>\n",
              "      <td>1.0</td>\n",
              "      <td>1.0</td>\n",
              "      <td>10</td>\n",
              "      <td>92.0</td>\n",
              "      <td>1.0</td>\n",
              "      <td>3.0</td>\n",
              "    </tr>\n",
              "    <tr>\n",
              "      <th>3</th>\n",
              "      <td>13418779</td>\n",
              "      <td>6.620073</td>\n",
              "      <td>4</td>\n",
              "      <td>1.0</td>\n",
              "      <td>NaN</td>\n",
              "      <td>0</td>\n",
              "      <td>NaN</td>\n",
              "      <td>2.0</td>\n",
              "      <td>2.0</td>\n",
              "    </tr>\n",
              "    <tr>\n",
              "      <th>4</th>\n",
              "      <td>3808709</td>\n",
              "      <td>4.744932</td>\n",
              "      <td>2</td>\n",
              "      <td>1.0</td>\n",
              "      <td>1.0</td>\n",
              "      <td>4</td>\n",
              "      <td>40.0</td>\n",
              "      <td>0.0</td>\n",
              "      <td>1.0</td>\n",
              "    </tr>\n",
              "    <tr>\n",
              "      <th>5</th>\n",
              "      <td>12422935</td>\n",
              "      <td>4.442651</td>\n",
              "      <td>2</td>\n",
              "      <td>1.0</td>\n",
              "      <td>1.0</td>\n",
              "      <td>3</td>\n",
              "      <td>100.0</td>\n",
              "      <td>1.0</td>\n",
              "      <td>1.0</td>\n",
              "    </tr>\n",
              "    <tr>\n",
              "      <th>6</th>\n",
              "      <td>11825529</td>\n",
              "      <td>4.418841</td>\n",
              "      <td>3</td>\n",
              "      <td>1.0</td>\n",
              "      <td>1.0</td>\n",
              "      <td>15</td>\n",
              "      <td>97.0</td>\n",
              "      <td>1.0</td>\n",
              "      <td>1.0</td>\n",
              "    </tr>\n",
              "    <tr>\n",
              "      <th>7</th>\n",
              "      <td>13971273</td>\n",
              "      <td>4.787492</td>\n",
              "      <td>2</td>\n",
              "      <td>1.0</td>\n",
              "      <td>1.0</td>\n",
              "      <td>9</td>\n",
              "      <td>93.0</td>\n",
              "      <td>1.0</td>\n",
              "      <td>1.0</td>\n",
              "    </tr>\n",
              "    <tr>\n",
              "      <th>8</th>\n",
              "      <td>180792</td>\n",
              "      <td>4.787492</td>\n",
              "      <td>2</td>\n",
              "      <td>1.0</td>\n",
              "      <td>1.0</td>\n",
              "      <td>159</td>\n",
              "      <td>99.0</td>\n",
              "      <td>1.0</td>\n",
              "      <td>1.0</td>\n",
              "    </tr>\n",
              "    <tr>\n",
              "      <th>9</th>\n",
              "      <td>5385260</td>\n",
              "      <td>3.583519</td>\n",
              "      <td>2</td>\n",
              "      <td>1.0</td>\n",
              "      <td>1.0</td>\n",
              "      <td>2</td>\n",
              "      <td>90.0</td>\n",
              "      <td>1.0</td>\n",
              "      <td>1.0</td>\n",
              "    </tr>\n",
              "  </tbody>\n",
              "</table>\n",
              "</div>"
            ],
            "text/plain": [
              "         id  log_price  accommodates  bathrooms  host_response_rate  \\\n",
              "0   6901257   5.010635             3        1.0                 NaN   \n",
              "1   6304928   5.129899             7        1.0                 1.0   \n",
              "2   7919400   4.976734             5        1.0                 1.0   \n",
              "3  13418779   6.620073             4        1.0                 NaN   \n",
              "4   3808709   4.744932             2        1.0                 1.0   \n",
              "5  12422935   4.442651             2        1.0                 1.0   \n",
              "6  11825529   4.418841             3        1.0                 1.0   \n",
              "7  13971273   4.787492             2        1.0                 1.0   \n",
              "8    180792   4.787492             2        1.0                 1.0   \n",
              "9   5385260   3.583519             2        1.0                 1.0   \n",
              "\n",
              "   number_of_reviews  review_scores_rating  bedrooms  beds  \n",
              "0                  2                 100.0       1.0   1.0  \n",
              "1                  6                  93.0       3.0   3.0  \n",
              "2                 10                  92.0       1.0   3.0  \n",
              "3                  0                   NaN       2.0   2.0  \n",
              "4                  4                  40.0       0.0   1.0  \n",
              "5                  3                 100.0       1.0   1.0  \n",
              "6                 15                  97.0       1.0   1.0  \n",
              "7                  9                  93.0       1.0   1.0  \n",
              "8                159                  99.0       1.0   1.0  \n",
              "9                  2                  90.0       1.0   1.0  "
            ]
          },
          "metadata": {
            "tags": []
          },
          "execution_count": 91
        }
      ]
    },
    {
      "cell_type": "code",
      "metadata": {
        "id": "7tmq2h4iKN4z",
        "colab_type": "code",
        "colab": {
          "base_uri": "https://localhost:8080/",
          "height": 195
        },
        "outputId": "26a988c8-f4f7-4c1f-e020-1dc85c67adc7"
      },
      "source": [
        "air_bnb_num_imputed.loc[:,\"actual_price\"] = np.exp(air_bnb_num_imputed.loc[:,\"log_price\"])\n",
        "air_bnb_num_imputed.head()"
      ],
      "execution_count": 4,
      "outputs": [
        {
          "output_type": "execute_result",
          "data": {
            "text/html": [
              "<div>\n",
              "<style scoped>\n",
              "    .dataframe tbody tr th:only-of-type {\n",
              "        vertical-align: middle;\n",
              "    }\n",
              "\n",
              "    .dataframe tbody tr th {\n",
              "        vertical-align: top;\n",
              "    }\n",
              "\n",
              "    .dataframe thead th {\n",
              "        text-align: right;\n",
              "    }\n",
              "</style>\n",
              "<table border=\"1\" class=\"dataframe\">\n",
              "  <thead>\n",
              "    <tr style=\"text-align: right;\">\n",
              "      <th></th>\n",
              "      <th>id</th>\n",
              "      <th>log_price</th>\n",
              "      <th>accommodates</th>\n",
              "      <th>bathrooms</th>\n",
              "      <th>host_response_rate</th>\n",
              "      <th>number_of_reviews</th>\n",
              "      <th>review_scores_rating</th>\n",
              "      <th>bedrooms</th>\n",
              "      <th>beds</th>\n",
              "      <th>actual_price</th>\n",
              "    </tr>\n",
              "  </thead>\n",
              "  <tbody>\n",
              "    <tr>\n",
              "      <th>0</th>\n",
              "      <td>6901257</td>\n",
              "      <td>5.010635</td>\n",
              "      <td>3.0</td>\n",
              "      <td>1.0</td>\n",
              "      <td>0.9395</td>\n",
              "      <td>2.0</td>\n",
              "      <td>100.000000</td>\n",
              "      <td>1.0</td>\n",
              "      <td>1.0</td>\n",
              "      <td>150.0</td>\n",
              "    </tr>\n",
              "    <tr>\n",
              "      <th>1</th>\n",
              "      <td>6304928</td>\n",
              "      <td>5.129899</td>\n",
              "      <td>7.0</td>\n",
              "      <td>1.0</td>\n",
              "      <td>1.0000</td>\n",
              "      <td>6.0</td>\n",
              "      <td>93.000000</td>\n",
              "      <td>3.0</td>\n",
              "      <td>3.0</td>\n",
              "      <td>169.0</td>\n",
              "    </tr>\n",
              "    <tr>\n",
              "      <th>2</th>\n",
              "      <td>7919400</td>\n",
              "      <td>4.976734</td>\n",
              "      <td>5.0</td>\n",
              "      <td>1.0</td>\n",
              "      <td>1.0000</td>\n",
              "      <td>10.0</td>\n",
              "      <td>92.000000</td>\n",
              "      <td>1.0</td>\n",
              "      <td>3.0</td>\n",
              "      <td>145.0</td>\n",
              "    </tr>\n",
              "    <tr>\n",
              "      <th>3</th>\n",
              "      <td>13418779</td>\n",
              "      <td>6.620073</td>\n",
              "      <td>4.0</td>\n",
              "      <td>1.0</td>\n",
              "      <td>0.9463</td>\n",
              "      <td>0.0</td>\n",
              "      <td>94.673387</td>\n",
              "      <td>2.0</td>\n",
              "      <td>2.0</td>\n",
              "      <td>750.0</td>\n",
              "    </tr>\n",
              "    <tr>\n",
              "      <th>4</th>\n",
              "      <td>3808709</td>\n",
              "      <td>4.744932</td>\n",
              "      <td>2.0</td>\n",
              "      <td>1.0</td>\n",
              "      <td>1.0000</td>\n",
              "      <td>4.0</td>\n",
              "      <td>40.000000</td>\n",
              "      <td>0.0</td>\n",
              "      <td>1.0</td>\n",
              "      <td>115.0</td>\n",
              "    </tr>\n",
              "  </tbody>\n",
              "</table>\n",
              "</div>"
            ],
            "text/plain": [
              "         id  log_price  accommodates  bathrooms  host_response_rate  \\\n",
              "0   6901257   5.010635           3.0        1.0              0.9395   \n",
              "1   6304928   5.129899           7.0        1.0              1.0000   \n",
              "2   7919400   4.976734           5.0        1.0              1.0000   \n",
              "3  13418779   6.620073           4.0        1.0              0.9463   \n",
              "4   3808709   4.744932           2.0        1.0              1.0000   \n",
              "\n",
              "   number_of_reviews  review_scores_rating  bedrooms  beds  actual_price  \n",
              "0                2.0            100.000000       1.0   1.0         150.0  \n",
              "1                6.0             93.000000       3.0   3.0         169.0  \n",
              "2               10.0             92.000000       1.0   3.0         145.0  \n",
              "3                0.0             94.673387       2.0   2.0         750.0  \n",
              "4                4.0             40.000000       0.0   1.0         115.0  "
            ]
          },
          "metadata": {
            "tags": []
          },
          "execution_count": 4
        }
      ]
    },
    {
      "cell_type": "code",
      "metadata": {
        "ExecuteTime": {
          "end_time": "2019-06-04T10:23:01.534769Z",
          "start_time": "2019-06-04T10:23:00.256713Z"
        },
        "colab_type": "code",
        "id": "o-DOauxXvzk6",
        "colab": {}
      },
      "source": [
        "air_bnb_num_imputed.to_csv(\"drive/My Drive/Colab Notebooks/air_bnb_price_prediction(Kaggle)/Data/air_bnb_num_imputed_engineered.csv\")"
      ],
      "execution_count": 0,
      "outputs": []
    }
  ]
}