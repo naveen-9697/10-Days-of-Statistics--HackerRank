{
  "nbformat": 4,
  "nbformat_minor": 0,
  "metadata": {
    "colab": {
      "name": "bool encoding and imputing.ipynb",
      "version": "0.3.2",
      "provenance": [],
      "collapsed_sections": [
        "LZznzmymlW-J",
        "FO8bGTaTlW-Y",
        "svgBzezDlW_G",
        "Tfuq7AwnlW_r",
        "1VkXW__ZlW_0",
        "X3K5fIKSuQv3"
      ],
      "include_colab_link": true
    },
    "language_info": {
      "codemirror_mode": {
        "name": "ipython",
        "version": 3
      },
      "file_extension": ".py",
      "mimetype": "text/x-python",
      "name": "python",
      "nbconvert_exporter": "python",
      "pygments_lexer": "ipython3",
      "version": "3.6.7"
    },
    "kernelspec": {
      "display_name": "Python 3",
      "language": "python",
      "name": "python3"
    }
  },
  "cells": [
    {
      "cell_type": "markdown",
      "metadata": {
        "id": "view-in-github",
        "colab_type": "text"
      },
      "source": [
        "<a href=\"https://colab.research.google.com/github/naveen-kumar-123/10-Days-of-Statistics--HackerRank/blob/master/pre_processing_of_boolean_variables_(KNN_imputed).ipynb\" target=\"_parent\"><img src=\"https://colab.research.google.com/assets/colab-badge.svg\" alt=\"Open In Colab\"/></a>"
      ]
    },
    {
      "cell_type": "markdown",
      "metadata": {
        "heading_collapsed": true,
        "id": "LZznzmymlW-J",
        "colab_type": "text"
      },
      "source": [
        "# getting the data & required libraries"
      ]
    },
    {
      "cell_type": "code",
      "metadata": {
        "id": "SMPcjzRElcbf",
        "colab_type": "code",
        "outputId": "e5b04491-3280-450c-d844-edffe31bb4a1",
        "colab": {
          "base_uri": "https://localhost:8080/",
          "height": 121
        }
      },
      "source": [
        "from google.colab import drive\n",
        "drive.mount(\"/content/drive\")"
      ],
      "execution_count": 1,
      "outputs": [
        {
          "output_type": "stream",
          "text": [
            "Go to this URL in a browser: https://accounts.google.com/o/oauth2/auth?client_id=947318989803-6bn6qk8qdgf4n4g3pfee6491hc0brc4i.apps.googleusercontent.com&redirect_uri=urn%3Aietf%3Awg%3Aoauth%3A2.0%3Aoob&scope=email%20https%3A%2F%2Fwww.googleapis.com%2Fauth%2Fdocs.test%20https%3A%2F%2Fwww.googleapis.com%2Fauth%2Fdrive%20https%3A%2F%2Fwww.googleapis.com%2Fauth%2Fdrive.photos.readonly%20https%3A%2F%2Fwww.googleapis.com%2Fauth%2Fpeopleapi.readonly&response_type=code\n",
            "\n",
            "Enter your authorization code:\n",
            "··········\n",
            "Mounted at /content/drive\n"
          ],
          "name": "stdout"
        }
      ]
    },
    {
      "cell_type": "code",
      "metadata": {
        "ExecuteTime": {
          "end_time": "2019-06-04T14:04:02.142098Z",
          "start_time": "2019-06-04T14:04:01.358160Z"
        },
        "hidden": true,
        "id": "3MStdALqlW-N",
        "colab_type": "code",
        "colab": {}
      },
      "source": [
        "import numpy as np\n",
        "\n",
        "import pandas as pd\n",
        "pd.set_option(\"display.max_rows\",20)\n",
        "pd.set_option(\"display.max_columns\",100)"
      ],
      "execution_count": 0,
      "outputs": []
    },
    {
      "cell_type": "code",
      "metadata": {
        "id": "bmP__ZlhjA_6",
        "colab_type": "code",
        "colab": {}
      },
      "source": [
        "import matplotlib.pyplot as plt\n",
        "\n",
        "%matplotlib notebook\n",
        "import seaborn as sns"
      ],
      "execution_count": 0,
      "outputs": []
    },
    {
      "cell_type": "code",
      "metadata": {
        "ExecuteTime": {
          "end_time": "2019-06-02T09:30:54.425542Z",
          "start_time": "2019-06-02T09:30:54.174263Z"
        },
        "hidden": true,
        "id": "w8cY5ll6lW-T",
        "colab_type": "code",
        "outputId": "49656c8e-f8ea-4abf-c763-a62658bb3bab",
        "colab": {
          "base_uri": "https://localhost:8080/",
          "height": 195
        }
      },
      "source": [
        "air_bnb_bool = pd.read_csv(\"drive/My Drive/Colab Notebooks/air_bnb_price_prediction(Kaggle)/Data/air_bnb_bool.csv\")\n",
        "air_bnb_bool.head()"
      ],
      "execution_count": 0,
      "outputs": [
        {
          "output_type": "execute_result",
          "data": {
            "text/html": [
              "<div>\n",
              "<style scoped>\n",
              "    .dataframe tbody tr th:only-of-type {\n",
              "        vertical-align: middle;\n",
              "    }\n",
              "\n",
              "    .dataframe tbody tr th {\n",
              "        vertical-align: top;\n",
              "    }\n",
              "\n",
              "    .dataframe thead th {\n",
              "        text-align: right;\n",
              "    }\n",
              "</style>\n",
              "<table border=\"1\" class=\"dataframe\">\n",
              "  <thead>\n",
              "    <tr style=\"text-align: right;\">\n",
              "      <th></th>\n",
              "      <th>id</th>\n",
              "      <th>cleaning_fee</th>\n",
              "      <th>host_has_profile_pic</th>\n",
              "      <th>host_identity_verified</th>\n",
              "      <th>instant_bookable</th>\n",
              "    </tr>\n",
              "  </thead>\n",
              "  <tbody>\n",
              "    <tr>\n",
              "      <th>0</th>\n",
              "      <td>6901257</td>\n",
              "      <td>True</td>\n",
              "      <td>t</td>\n",
              "      <td>t</td>\n",
              "      <td>f</td>\n",
              "    </tr>\n",
              "    <tr>\n",
              "      <th>1</th>\n",
              "      <td>6304928</td>\n",
              "      <td>True</td>\n",
              "      <td>t</td>\n",
              "      <td>f</td>\n",
              "      <td>t</td>\n",
              "    </tr>\n",
              "    <tr>\n",
              "      <th>2</th>\n",
              "      <td>7919400</td>\n",
              "      <td>True</td>\n",
              "      <td>t</td>\n",
              "      <td>t</td>\n",
              "      <td>t</td>\n",
              "    </tr>\n",
              "    <tr>\n",
              "      <th>3</th>\n",
              "      <td>13418779</td>\n",
              "      <td>True</td>\n",
              "      <td>t</td>\n",
              "      <td>t</td>\n",
              "      <td>f</td>\n",
              "    </tr>\n",
              "    <tr>\n",
              "      <th>4</th>\n",
              "      <td>3808709</td>\n",
              "      <td>True</td>\n",
              "      <td>t</td>\n",
              "      <td>t</td>\n",
              "      <td>t</td>\n",
              "    </tr>\n",
              "  </tbody>\n",
              "</table>\n",
              "</div>"
            ],
            "text/plain": [
              "         id  cleaning_fee host_has_profile_pic host_identity_verified  \\\n",
              "0   6901257          True                    t                      t   \n",
              "1   6304928          True                    t                      f   \n",
              "2   7919400          True                    t                      t   \n",
              "3  13418779          True                    t                      t   \n",
              "4   3808709          True                    t                      t   \n",
              "\n",
              "  instant_bookable  \n",
              "0                f  \n",
              "1                t  \n",
              "2                t  \n",
              "3                f  \n",
              "4                t  "
            ]
          },
          "metadata": {
            "tags": []
          },
          "execution_count": 4
        }
      ]
    },
    {
      "cell_type": "markdown",
      "metadata": {
        "heading_collapsed": true,
        "id": "FO8bGTaTlW-Y",
        "colab_type": "text"
      },
      "source": [
        "# let's build a function to take a column and return the label-encoded column"
      ]
    },
    {
      "cell_type": "code",
      "metadata": {
        "ExecuteTime": {
          "end_time": "2019-05-30T04:19:50.726171Z",
          "start_time": "2019-05-30T04:19:50.720213Z"
        },
        "hidden": true,
        "id": "4OI8D6WclW-Z",
        "colab_type": "code",
        "colab": {}
      },
      "source": [
        "def label_encode_true_false(column_to_encode):\n",
        "    '''\n",
        "    this function takes a column and replaces \n",
        "    'true' with 1 \n",
        "    'false' with 0; I am using Label Binarizer, since all I have in my column is two classes.\n",
        "    and i couldn't fathom why 'append' operation makes the list multi-dimensional. \n",
        "    So, this function returns flattened numpy array.\n",
        "    '''\n",
        "    from sklearn.preprocessing import LabelBinarizer\n",
        "    lb = LabelBinarizer()\n",
        "    \n",
        "    lb.fit(column_to_encode)\n",
        "    \n",
        "    list_with_bools = lb.transform(column_to_encode)\n",
        "    return np.asarray(list_with_bools).flatten()"
      ],
      "execution_count": 0,
      "outputs": []
    },
    {
      "cell_type": "code",
      "metadata": {
        "ExecuteTime": {
          "end_time": "2019-05-30T04:19:52.779336Z",
          "start_time": "2019-05-30T04:19:52.775236Z"
        },
        "hidden": true,
        "id": "rdr9bOGplW-e",
        "colab_type": "code",
        "colab": {}
      },
      "source": [
        "def label_encode_t_f(column_to_encode):\n",
        "    '''\n",
        "    this function takes a column and replaces \n",
        "    't' with 1 \n",
        "    'f' with 0\n",
        "    and i couldn't fathom why 'append' operation makes the list multi-dimensional. \n",
        "    So, this function returns flattened numpy array.\n",
        "    '''\n",
        "    import numpy as np\n",
        "    list_with_bools = []\n",
        "    for x in column_to_encode:\n",
        "        if type(x) == str:\n",
        "            if x == 't':\n",
        "                list_with_bools.append(np.float64(1))\n",
        "            else:\n",
        "                list_with_bools.append(np.float64(0))\n",
        "        else:\n",
        "            list_with_bools.append(np.NaN)\n",
        "    return np.asarray(list_with_bools).flatten()"
      ],
      "execution_count": 0,
      "outputs": []
    },
    {
      "cell_type": "code",
      "metadata": {
        "ExecuteTime": {
          "end_time": "2019-05-29T03:52:19.764171Z",
          "start_time": "2019-05-29T03:52:19.745060Z"
        },
        "hidden": true,
        "id": "69aMmsKblW-r",
        "colab_type": "code",
        "outputId": "6da83ecc-198c-41c4-bba3-5564f895a310",
        "colab": {
          "base_uri": "https://localhost:8080/",
          "height": 50
        }
      },
      "source": [
        "air_bnb_bool.columns.values"
      ],
      "execution_count": 0,
      "outputs": [
        {
          "output_type": "execute_result",
          "data": {
            "text/plain": [
              "array(['id', 'cleaning_fee', 'host_has_profile_pic',\n",
              "       'host_identity_verified', 'instant_bookable'], dtype=object)"
            ]
          },
          "metadata": {
            "tags": []
          },
          "execution_count": 8
        }
      ]
    },
    {
      "cell_type": "code",
      "metadata": {
        "ExecuteTime": {
          "end_time": "2019-05-29T03:52:22.934542Z",
          "start_time": "2019-05-29T03:52:22.899851Z"
        },
        "hidden": true,
        "id": "qLdOAH_slW-w",
        "colab_type": "code",
        "outputId": "dd9f79f1-769c-4ee8-f7aa-6997de048dda",
        "colab": {
          "base_uri": "https://localhost:8080/",
          "height": 195
        }
      },
      "source": [
        "air_bnb_bool.head()"
      ],
      "execution_count": 0,
      "outputs": [
        {
          "output_type": "execute_result",
          "data": {
            "text/html": [
              "<div>\n",
              "<style scoped>\n",
              "    .dataframe tbody tr th:only-of-type {\n",
              "        vertical-align: middle;\n",
              "    }\n",
              "\n",
              "    .dataframe tbody tr th {\n",
              "        vertical-align: top;\n",
              "    }\n",
              "\n",
              "    .dataframe thead th {\n",
              "        text-align: right;\n",
              "    }\n",
              "</style>\n",
              "<table border=\"1\" class=\"dataframe\">\n",
              "  <thead>\n",
              "    <tr style=\"text-align: right;\">\n",
              "      <th></th>\n",
              "      <th>id</th>\n",
              "      <th>cleaning_fee</th>\n",
              "      <th>host_has_profile_pic</th>\n",
              "      <th>host_identity_verified</th>\n",
              "      <th>instant_bookable</th>\n",
              "    </tr>\n",
              "  </thead>\n",
              "  <tbody>\n",
              "    <tr>\n",
              "      <th>0</th>\n",
              "      <td>6901257</td>\n",
              "      <td>True</td>\n",
              "      <td>t</td>\n",
              "      <td>t</td>\n",
              "      <td>f</td>\n",
              "    </tr>\n",
              "    <tr>\n",
              "      <th>1</th>\n",
              "      <td>6304928</td>\n",
              "      <td>True</td>\n",
              "      <td>t</td>\n",
              "      <td>f</td>\n",
              "      <td>t</td>\n",
              "    </tr>\n",
              "    <tr>\n",
              "      <th>2</th>\n",
              "      <td>7919400</td>\n",
              "      <td>True</td>\n",
              "      <td>t</td>\n",
              "      <td>t</td>\n",
              "      <td>t</td>\n",
              "    </tr>\n",
              "    <tr>\n",
              "      <th>3</th>\n",
              "      <td>13418779</td>\n",
              "      <td>True</td>\n",
              "      <td>t</td>\n",
              "      <td>t</td>\n",
              "      <td>f</td>\n",
              "    </tr>\n",
              "    <tr>\n",
              "      <th>4</th>\n",
              "      <td>3808709</td>\n",
              "      <td>True</td>\n",
              "      <td>t</td>\n",
              "      <td>t</td>\n",
              "      <td>t</td>\n",
              "    </tr>\n",
              "  </tbody>\n",
              "</table>\n",
              "</div>"
            ],
            "text/plain": [
              "         id  cleaning_fee host_has_profile_pic host_identity_verified  \\\n",
              "0   6901257          True                    t                      t   \n",
              "1   6304928          True                    t                      f   \n",
              "2   7919400          True                    t                      t   \n",
              "3  13418779          True                    t                      t   \n",
              "4   3808709          True                    t                      t   \n",
              "\n",
              "  instant_bookable  \n",
              "0                f  \n",
              "1                t  \n",
              "2                t  \n",
              "3                f  \n",
              "4                t  "
            ]
          },
          "metadata": {
            "tags": []
          },
          "execution_count": 9
        }
      ]
    },
    {
      "cell_type": "code",
      "metadata": {
        "ExecuteTime": {
          "end_time": "2019-05-30T04:20:28.904842Z",
          "start_time": "2019-05-30T04:20:24.925570Z"
        },
        "hidden": true,
        "id": "mFTfrHjNlW-3",
        "colab_type": "code",
        "outputId": "1a38758a-0106-42ce-9c08-248c169a27cd",
        "colab": {
          "base_uri": "https://localhost:8080/",
          "height": 195
        }
      },
      "source": [
        "# let's encode and fill-in all variables\n",
        "\n",
        "air_bnb_bool[[\"cleaning_fee\"]]           = label_encode_true_false(np.asarray(air_bnb_bool[[\"cleaning_fee\"]]).flatten())\n",
        "air_bnb_bool[[\"host_has_profile_pic\"]]   = label_encode_t_f(np.asarray(air_bnb_bool[[\"host_has_profile_pic\"]]).flatten())\n",
        "air_bnb_bool[[\"host_identity_verified\"]] = label_encode_t_f(np.asarray(air_bnb_bool[[\"host_identity_verified\"]]).flatten())\n",
        "air_bnb_bool[[\"instant_bookable\"]]       = label_encode_t_f(np.asarray(air_bnb_bool[[\"instant_bookable\"]]).flatten())\n",
        "\n",
        "air_bnb_bool.head()"
      ],
      "execution_count": 0,
      "outputs": [
        {
          "output_type": "execute_result",
          "data": {
            "text/html": [
              "<div>\n",
              "<style scoped>\n",
              "    .dataframe tbody tr th:only-of-type {\n",
              "        vertical-align: middle;\n",
              "    }\n",
              "\n",
              "    .dataframe tbody tr th {\n",
              "        vertical-align: top;\n",
              "    }\n",
              "\n",
              "    .dataframe thead th {\n",
              "        text-align: right;\n",
              "    }\n",
              "</style>\n",
              "<table border=\"1\" class=\"dataframe\">\n",
              "  <thead>\n",
              "    <tr style=\"text-align: right;\">\n",
              "      <th></th>\n",
              "      <th>id</th>\n",
              "      <th>cleaning_fee</th>\n",
              "      <th>host_has_profile_pic</th>\n",
              "      <th>host_identity_verified</th>\n",
              "      <th>instant_bookable</th>\n",
              "    </tr>\n",
              "  </thead>\n",
              "  <tbody>\n",
              "    <tr>\n",
              "      <th>0</th>\n",
              "      <td>6901257</td>\n",
              "      <td>1</td>\n",
              "      <td>1.0</td>\n",
              "      <td>1.0</td>\n",
              "      <td>0.0</td>\n",
              "    </tr>\n",
              "    <tr>\n",
              "      <th>1</th>\n",
              "      <td>6304928</td>\n",
              "      <td>1</td>\n",
              "      <td>1.0</td>\n",
              "      <td>0.0</td>\n",
              "      <td>1.0</td>\n",
              "    </tr>\n",
              "    <tr>\n",
              "      <th>2</th>\n",
              "      <td>7919400</td>\n",
              "      <td>1</td>\n",
              "      <td>1.0</td>\n",
              "      <td>1.0</td>\n",
              "      <td>1.0</td>\n",
              "    </tr>\n",
              "    <tr>\n",
              "      <th>3</th>\n",
              "      <td>13418779</td>\n",
              "      <td>1</td>\n",
              "      <td>1.0</td>\n",
              "      <td>1.0</td>\n",
              "      <td>0.0</td>\n",
              "    </tr>\n",
              "    <tr>\n",
              "      <th>4</th>\n",
              "      <td>3808709</td>\n",
              "      <td>1</td>\n",
              "      <td>1.0</td>\n",
              "      <td>1.0</td>\n",
              "      <td>1.0</td>\n",
              "    </tr>\n",
              "  </tbody>\n",
              "</table>\n",
              "</div>"
            ],
            "text/plain": [
              "         id  cleaning_fee  host_has_profile_pic  host_identity_verified  \\\n",
              "0   6901257             1                   1.0                     1.0   \n",
              "1   6304928             1                   1.0                     0.0   \n",
              "2   7919400             1                   1.0                     1.0   \n",
              "3  13418779             1                   1.0                     1.0   \n",
              "4   3808709             1                   1.0                     1.0   \n",
              "\n",
              "   instant_bookable  \n",
              "0               0.0  \n",
              "1               1.0  \n",
              "2               1.0  \n",
              "3               0.0  \n",
              "4               1.0  "
            ]
          },
          "metadata": {
            "tags": []
          },
          "execution_count": 10
        }
      ]
    },
    {
      "cell_type": "code",
      "metadata": {
        "ExecuteTime": {
          "end_time": "2019-05-30T04:20:35.066327Z",
          "start_time": "2019-05-30T04:20:35.049426Z"
        },
        "hidden": true,
        "id": "d85kgZljlW-6",
        "colab_type": "code",
        "outputId": "8493f5b9-d29a-4dc8-f8d8-1bee5aec3a44",
        "colab": {
          "base_uri": "https://localhost:8080/",
          "height": 727
        }
      },
      "source": [
        "air_bnb_bool.set_index(\"id\")"
      ],
      "execution_count": 0,
      "outputs": [
        {
          "output_type": "execute_result",
          "data": {
            "text/html": [
              "<div>\n",
              "<style scoped>\n",
              "    .dataframe tbody tr th:only-of-type {\n",
              "        vertical-align: middle;\n",
              "    }\n",
              "\n",
              "    .dataframe tbody tr th {\n",
              "        vertical-align: top;\n",
              "    }\n",
              "\n",
              "    .dataframe thead th {\n",
              "        text-align: right;\n",
              "    }\n",
              "</style>\n",
              "<table border=\"1\" class=\"dataframe\">\n",
              "  <thead>\n",
              "    <tr style=\"text-align: right;\">\n",
              "      <th></th>\n",
              "      <th>cleaning_fee</th>\n",
              "      <th>host_has_profile_pic</th>\n",
              "      <th>host_identity_verified</th>\n",
              "      <th>instant_bookable</th>\n",
              "    </tr>\n",
              "    <tr>\n",
              "      <th>id</th>\n",
              "      <th></th>\n",
              "      <th></th>\n",
              "      <th></th>\n",
              "      <th></th>\n",
              "    </tr>\n",
              "  </thead>\n",
              "  <tbody>\n",
              "    <tr>\n",
              "      <th>6901257</th>\n",
              "      <td>1</td>\n",
              "      <td>1.0</td>\n",
              "      <td>1.0</td>\n",
              "      <td>0.0</td>\n",
              "    </tr>\n",
              "    <tr>\n",
              "      <th>6304928</th>\n",
              "      <td>1</td>\n",
              "      <td>1.0</td>\n",
              "      <td>0.0</td>\n",
              "      <td>1.0</td>\n",
              "    </tr>\n",
              "    <tr>\n",
              "      <th>7919400</th>\n",
              "      <td>1</td>\n",
              "      <td>1.0</td>\n",
              "      <td>1.0</td>\n",
              "      <td>1.0</td>\n",
              "    </tr>\n",
              "    <tr>\n",
              "      <th>13418779</th>\n",
              "      <td>1</td>\n",
              "      <td>1.0</td>\n",
              "      <td>1.0</td>\n",
              "      <td>0.0</td>\n",
              "    </tr>\n",
              "    <tr>\n",
              "      <th>3808709</th>\n",
              "      <td>1</td>\n",
              "      <td>1.0</td>\n",
              "      <td>1.0</td>\n",
              "      <td>1.0</td>\n",
              "    </tr>\n",
              "    <tr>\n",
              "      <th>12422935</th>\n",
              "      <td>1</td>\n",
              "      <td>1.0</td>\n",
              "      <td>1.0</td>\n",
              "      <td>1.0</td>\n",
              "    </tr>\n",
              "    <tr>\n",
              "      <th>11825529</th>\n",
              "      <td>1</td>\n",
              "      <td>1.0</td>\n",
              "      <td>0.0</td>\n",
              "      <td>1.0</td>\n",
              "    </tr>\n",
              "    <tr>\n",
              "      <th>13971273</th>\n",
              "      <td>1</td>\n",
              "      <td>1.0</td>\n",
              "      <td>1.0</td>\n",
              "      <td>0.0</td>\n",
              "    </tr>\n",
              "    <tr>\n",
              "      <th>180792</th>\n",
              "      <td>1</td>\n",
              "      <td>1.0</td>\n",
              "      <td>0.0</td>\n",
              "      <td>0.0</td>\n",
              "    </tr>\n",
              "    <tr>\n",
              "      <th>5385260</th>\n",
              "      <td>1</td>\n",
              "      <td>1.0</td>\n",
              "      <td>0.0</td>\n",
              "      <td>1.0</td>\n",
              "    </tr>\n",
              "    <tr>\n",
              "      <th>...</th>\n",
              "      <td>...</td>\n",
              "      <td>...</td>\n",
              "      <td>...</td>\n",
              "      <td>...</td>\n",
              "    </tr>\n",
              "    <tr>\n",
              "      <th>18077717</th>\n",
              "      <td>1</td>\n",
              "      <td>1.0</td>\n",
              "      <td>1.0</td>\n",
              "      <td>0.0</td>\n",
              "    </tr>\n",
              "    <tr>\n",
              "      <th>7935934</th>\n",
              "      <td>0</td>\n",
              "      <td>1.0</td>\n",
              "      <td>0.0</td>\n",
              "      <td>0.0</td>\n",
              "    </tr>\n",
              "    <tr>\n",
              "      <th>11829011</th>\n",
              "      <td>1</td>\n",
              "      <td>1.0</td>\n",
              "      <td>0.0</td>\n",
              "      <td>0.0</td>\n",
              "    </tr>\n",
              "    <tr>\n",
              "      <th>14934112</th>\n",
              "      <td>1</td>\n",
              "      <td>1.0</td>\n",
              "      <td>1.0</td>\n",
              "      <td>0.0</td>\n",
              "    </tr>\n",
              "    <tr>\n",
              "      <th>808802</th>\n",
              "      <td>1</td>\n",
              "      <td>1.0</td>\n",
              "      <td>1.0</td>\n",
              "      <td>0.0</td>\n",
              "    </tr>\n",
              "    <tr>\n",
              "      <th>14549287</th>\n",
              "      <td>0</td>\n",
              "      <td>1.0</td>\n",
              "      <td>1.0</td>\n",
              "      <td>0.0</td>\n",
              "    </tr>\n",
              "    <tr>\n",
              "      <th>13281809</th>\n",
              "      <td>1</td>\n",
              "      <td>1.0</td>\n",
              "      <td>0.0</td>\n",
              "      <td>0.0</td>\n",
              "    </tr>\n",
              "    <tr>\n",
              "      <th>18688039</th>\n",
              "      <td>1</td>\n",
              "      <td>1.0</td>\n",
              "      <td>1.0</td>\n",
              "      <td>1.0</td>\n",
              "    </tr>\n",
              "    <tr>\n",
              "      <th>17045948</th>\n",
              "      <td>1</td>\n",
              "      <td>1.0</td>\n",
              "      <td>0.0</td>\n",
              "      <td>1.0</td>\n",
              "    </tr>\n",
              "    <tr>\n",
              "      <th>3534845</th>\n",
              "      <td>0</td>\n",
              "      <td>1.0</td>\n",
              "      <td>1.0</td>\n",
              "      <td>0.0</td>\n",
              "    </tr>\n",
              "  </tbody>\n",
              "</table>\n",
              "<p>74111 rows × 4 columns</p>\n",
              "</div>"
            ],
            "text/plain": [
              "          cleaning_fee  host_has_profile_pic  host_identity_verified  \\\n",
              "id                                                                     \n",
              "6901257              1                   1.0                     1.0   \n",
              "6304928              1                   1.0                     0.0   \n",
              "7919400              1                   1.0                     1.0   \n",
              "13418779             1                   1.0                     1.0   \n",
              "3808709              1                   1.0                     1.0   \n",
              "12422935             1                   1.0                     1.0   \n",
              "11825529             1                   1.0                     0.0   \n",
              "13971273             1                   1.0                     1.0   \n",
              "180792               1                   1.0                     0.0   \n",
              "5385260              1                   1.0                     0.0   \n",
              "...                ...                   ...                     ...   \n",
              "18077717             1                   1.0                     1.0   \n",
              "7935934              0                   1.0                     0.0   \n",
              "11829011             1                   1.0                     0.0   \n",
              "14934112             1                   1.0                     1.0   \n",
              "808802               1                   1.0                     1.0   \n",
              "14549287             0                   1.0                     1.0   \n",
              "13281809             1                   1.0                     0.0   \n",
              "18688039             1                   1.0                     1.0   \n",
              "17045948             1                   1.0                     0.0   \n",
              "3534845              0                   1.0                     1.0   \n",
              "\n",
              "          instant_bookable  \n",
              "id                          \n",
              "6901257                0.0  \n",
              "6304928                1.0  \n",
              "7919400                1.0  \n",
              "13418779               0.0  \n",
              "3808709                1.0  \n",
              "12422935               1.0  \n",
              "11825529               1.0  \n",
              "13971273               0.0  \n",
              "180792                 0.0  \n",
              "5385260                1.0  \n",
              "...                    ...  \n",
              "18077717               0.0  \n",
              "7935934                0.0  \n",
              "11829011               0.0  \n",
              "14934112               0.0  \n",
              "808802                 0.0  \n",
              "14549287               0.0  \n",
              "13281809               0.0  \n",
              "18688039               1.0  \n",
              "17045948               1.0  \n",
              "3534845                0.0  \n",
              "\n",
              "[74111 rows x 4 columns]"
            ]
          },
          "metadata": {
            "tags": []
          },
          "execution_count": 11
        }
      ]
    },
    {
      "cell_type": "code",
      "metadata": {
        "ExecuteTime": {
          "end_time": "2019-05-29T04:52:39.834267Z",
          "start_time": "2019-05-29T04:52:39.820304Z"
        },
        "hidden": true,
        "id": "zfgIE-HXlW--",
        "colab_type": "code",
        "outputId": "4b6fdadf-a7b5-405c-b71b-1bdbba433fb0",
        "colab": {
          "base_uri": "https://localhost:8080/",
          "height": 195
        }
      },
      "source": [
        "air_bnb_bool.head()"
      ],
      "execution_count": 0,
      "outputs": [
        {
          "output_type": "execute_result",
          "data": {
            "text/html": [
              "<div>\n",
              "<style scoped>\n",
              "    .dataframe tbody tr th:only-of-type {\n",
              "        vertical-align: middle;\n",
              "    }\n",
              "\n",
              "    .dataframe tbody tr th {\n",
              "        vertical-align: top;\n",
              "    }\n",
              "\n",
              "    .dataframe thead th {\n",
              "        text-align: right;\n",
              "    }\n",
              "</style>\n",
              "<table border=\"1\" class=\"dataframe\">\n",
              "  <thead>\n",
              "    <tr style=\"text-align: right;\">\n",
              "      <th></th>\n",
              "      <th>id</th>\n",
              "      <th>cleaning_fee</th>\n",
              "      <th>host_has_profile_pic</th>\n",
              "      <th>host_identity_verified</th>\n",
              "      <th>instant_bookable</th>\n",
              "    </tr>\n",
              "  </thead>\n",
              "  <tbody>\n",
              "    <tr>\n",
              "      <th>0</th>\n",
              "      <td>6901257</td>\n",
              "      <td>1</td>\n",
              "      <td>1.0</td>\n",
              "      <td>1.0</td>\n",
              "      <td>0.0</td>\n",
              "    </tr>\n",
              "    <tr>\n",
              "      <th>1</th>\n",
              "      <td>6304928</td>\n",
              "      <td>1</td>\n",
              "      <td>1.0</td>\n",
              "      <td>0.0</td>\n",
              "      <td>1.0</td>\n",
              "    </tr>\n",
              "    <tr>\n",
              "      <th>2</th>\n",
              "      <td>7919400</td>\n",
              "      <td>1</td>\n",
              "      <td>1.0</td>\n",
              "      <td>1.0</td>\n",
              "      <td>1.0</td>\n",
              "    </tr>\n",
              "    <tr>\n",
              "      <th>3</th>\n",
              "      <td>13418779</td>\n",
              "      <td>1</td>\n",
              "      <td>1.0</td>\n",
              "      <td>1.0</td>\n",
              "      <td>0.0</td>\n",
              "    </tr>\n",
              "    <tr>\n",
              "      <th>4</th>\n",
              "      <td>3808709</td>\n",
              "      <td>1</td>\n",
              "      <td>1.0</td>\n",
              "      <td>1.0</td>\n",
              "      <td>1.0</td>\n",
              "    </tr>\n",
              "  </tbody>\n",
              "</table>\n",
              "</div>"
            ],
            "text/plain": [
              "         id  cleaning_fee  host_has_profile_pic  host_identity_verified  \\\n",
              "0   6901257             1                   1.0                     1.0   \n",
              "1   6304928             1                   1.0                     0.0   \n",
              "2   7919400             1                   1.0                     1.0   \n",
              "3  13418779             1                   1.0                     1.0   \n",
              "4   3808709             1                   1.0                     1.0   \n",
              "\n",
              "   instant_bookable  \n",
              "0               0.0  \n",
              "1               1.0  \n",
              "2               1.0  \n",
              "3               0.0  \n",
              "4               1.0  "
            ]
          },
          "metadata": {
            "tags": []
          },
          "execution_count": 12
        }
      ]
    },
    {
      "cell_type": "code",
      "metadata": {
        "ExecuteTime": {
          "end_time": "2019-06-02T09:34:47.583720Z",
          "start_time": "2019-06-02T09:34:47.457479Z"
        },
        "hidden": true,
        "id": "gUPHC1I0lW_C",
        "colab_type": "code",
        "colab": {}
      },
      "source": [
        "# # air_bnb_bool.to_csv(\"drive/My Drive/Colab Notebooks/air_bnb_price_prediction(Kaggle)/Dataair_bnb_bool_label_encoded.csv\")\n",
        "# air_bnb_bool = pd.read_csv(\"drive/My Drive/Colab Notebooks/air_bnb_price_prediction(Kaggle)/Data/air_bnb_bool_label_encoded.csv\")\n",
        "# air_bnb_bool.head()"
      ],
      "execution_count": 0,
      "outputs": []
    },
    {
      "cell_type": "markdown",
      "metadata": {
        "heading_collapsed": true,
        "id": "svgBzezDlW_G",
        "colab_type": "text"
      },
      "source": [
        "# Since I now have the encoded `bool`, let's proceed to imputing."
      ]
    },
    {
      "cell_type": "markdown",
      "metadata": {
        "heading_collapsed": true,
        "id": "kcKIGMLVlW_H",
        "colab_type": "text"
      },
      "source": [
        "# scaling the numeric data for KNN"
      ]
    },
    {
      "cell_type": "code",
      "metadata": {
        "ExecuteTime": {
          "end_time": "2019-06-04T14:04:19.303234Z",
          "start_time": "2019-06-04T14:04:19.064197Z"
        },
        "hidden": true,
        "id": "BWjPte1xlW_I",
        "colab_type": "code",
        "colab": {}
      },
      "source": [
        "air_bnb_num  = pd.read_csv(\"drive/My Drive/Colab Notebooks/air_bnb_price_prediction(Kaggle)/Data/air_bnb_num_imputed.csv\")"
      ],
      "execution_count": 0,
      "outputs": []
    },
    {
      "cell_type": "code",
      "metadata": {
        "ExecuteTime": {
          "end_time": "2019-06-04T14:06:15.658654Z",
          "start_time": "2019-06-04T14:06:13.268409Z"
        },
        "hidden": true,
        "id": "VM2OWmSElW_L",
        "colab_type": "code",
        "colab": {}
      },
      "source": [
        "# Since i've planned to impute null values usnig KNN, let's first normalize the dataframe with numerical values to 0-1.\n",
        "# And since bools already are in the same range, there should no problem with scales.\n",
        "# then join the scaled dataframe to the boolean dataframe and impute; \n",
        "# scale back after that.\n",
        "\n",
        "from sklearn.preprocessing import MinMaxScaler\n",
        "min_max = MinMaxScaler()"
      ],
      "execution_count": 0,
      "outputs": []
    },
    {
      "cell_type": "code",
      "metadata": {
        "ExecuteTime": {
          "end_time": "2019-06-04T14:06:28.727194Z",
          "start_time": "2019-06-04T14:06:28.703730Z"
        },
        "hidden": true,
        "id": "jNR5bCFxlW_O",
        "colab_type": "code",
        "colab": {}
      },
      "source": [
        "# since i have also planned to scale to original data, i'm first gonna fit to the original dataframe\n",
        "\n",
        "normalizer_max = min_max.fit(air_bnb_num.loc[:,['log_price', 'accommodates', 'bathrooms',\n",
        "                                                'host_response_rate', 'number_of_reviews',\n",
        "                                                'review_scores_rating', 'bedrooms', 'beds']])"
      ],
      "execution_count": 0,
      "outputs": []
    },
    {
      "cell_type": "code",
      "metadata": {
        "ExecuteTime": {
          "end_time": "2019-06-04T14:07:19.156342Z",
          "start_time": "2019-06-04T14:07:19.141091Z"
        },
        "hidden": true,
        "id": "oBa1iv-_lW_S",
        "colab_type": "code",
        "colab": {}
      },
      "source": [
        "air_num_norm = normalizer_max.transform(air_bnb_num.loc[:,['log_price', 'accommodates', 'bathrooms',\n",
        "                                                                 'host_response_rate', 'number_of_reviews',\n",
        "                                                                 'review_scores_rating', 'bedrooms', 'beds']])\n"
      ],
      "execution_count": 0,
      "outputs": []
    },
    {
      "cell_type": "code",
      "metadata": {
        "ExecuteTime": {
          "end_time": "2019-06-04T14:07:34.765557Z",
          "start_time": "2019-06-04T14:07:34.746605Z"
        },
        "hidden": true,
        "id": "6OjcC7X3lW_V",
        "colab_type": "code",
        "outputId": "3e12a03b-97f9-49ef-ca2b-995a903114ce",
        "colab": {
          "base_uri": "https://localhost:8080/",
          "height": 151
        }
      },
      "source": [
        "# since our scaled dataframe doesn't have \"id\" column. let's drop that\n",
        "\n",
        "air_bnb_columns = list(air_bnb_num.columns.values)\n",
        "air_bnb_columns.remove(\"id\")\n",
        "list(air_bnb_columns)"
      ],
      "execution_count": 7,
      "outputs": [
        {
          "output_type": "execute_result",
          "data": {
            "text/plain": [
              "['log_price',\n",
              " 'accommodates',\n",
              " 'bathrooms',\n",
              " 'host_response_rate',\n",
              " 'number_of_reviews',\n",
              " 'review_scores_rating',\n",
              " 'bedrooms',\n",
              " 'beds']"
            ]
          },
          "metadata": {
            "tags": []
          },
          "execution_count": 7
        }
      ]
    },
    {
      "cell_type": "code",
      "metadata": {
        "ExecuteTime": {
          "end_time": "2019-06-04T14:07:37.186656Z",
          "start_time": "2019-06-04T14:07:37.115177Z"
        },
        "hidden": true,
        "id": "ffJQ74MolW_a",
        "colab_type": "code",
        "outputId": "393d6c21-fb7e-4b74-b3ac-9ccabe00708c",
        "colab": {
          "base_uri": "https://localhost:8080/",
          "height": 225
        }
      },
      "source": [
        "air_bnb_scaled = pd.DataFrame(data=air_num_norm,\n",
        "                              columns=air_bnb_columns,\n",
        "                              index=air_bnb_num[\"id\"])\n",
        "air_bnb_scaled.head()"
      ],
      "execution_count": 8,
      "outputs": [
        {
          "output_type": "execute_result",
          "data": {
            "text/html": [
              "<div>\n",
              "<style scoped>\n",
              "    .dataframe tbody tr th:only-of-type {\n",
              "        vertical-align: middle;\n",
              "    }\n",
              "\n",
              "    .dataframe tbody tr th {\n",
              "        vertical-align: top;\n",
              "    }\n",
              "\n",
              "    .dataframe thead th {\n",
              "        text-align: right;\n",
              "    }\n",
              "</style>\n",
              "<table border=\"1\" class=\"dataframe\">\n",
              "  <thead>\n",
              "    <tr style=\"text-align: right;\">\n",
              "      <th></th>\n",
              "      <th>log_price</th>\n",
              "      <th>accommodates</th>\n",
              "      <th>bathrooms</th>\n",
              "      <th>host_response_rate</th>\n",
              "      <th>number_of_reviews</th>\n",
              "      <th>review_scores_rating</th>\n",
              "      <th>bedrooms</th>\n",
              "      <th>beds</th>\n",
              "    </tr>\n",
              "    <tr>\n",
              "      <th>id</th>\n",
              "      <th></th>\n",
              "      <th></th>\n",
              "      <th></th>\n",
              "      <th></th>\n",
              "      <th></th>\n",
              "      <th></th>\n",
              "      <th></th>\n",
              "      <th></th>\n",
              "    </tr>\n",
              "  </thead>\n",
              "  <tbody>\n",
              "    <tr>\n",
              "      <th>6901257</th>\n",
              "      <td>0.659259</td>\n",
              "      <td>0.133333</td>\n",
              "      <td>0.125</td>\n",
              "      <td>0.9395</td>\n",
              "      <td>0.003306</td>\n",
              "      <td>1.000000</td>\n",
              "      <td>0.1</td>\n",
              "      <td>0.055556</td>\n",
              "    </tr>\n",
              "    <tr>\n",
              "      <th>6304928</th>\n",
              "      <td>0.674951</td>\n",
              "      <td>0.400000</td>\n",
              "      <td>0.125</td>\n",
              "      <td>1.0000</td>\n",
              "      <td>0.009917</td>\n",
              "      <td>0.912500</td>\n",
              "      <td>0.3</td>\n",
              "      <td>0.166667</td>\n",
              "    </tr>\n",
              "    <tr>\n",
              "      <th>7919400</th>\n",
              "      <td>0.654799</td>\n",
              "      <td>0.266667</td>\n",
              "      <td>0.125</td>\n",
              "      <td>1.0000</td>\n",
              "      <td>0.016529</td>\n",
              "      <td>0.900000</td>\n",
              "      <td>0.1</td>\n",
              "      <td>0.166667</td>\n",
              "    </tr>\n",
              "    <tr>\n",
              "      <th>13418779</th>\n",
              "      <td>0.871016</td>\n",
              "      <td>0.200000</td>\n",
              "      <td>0.125</td>\n",
              "      <td>0.9463</td>\n",
              "      <td>0.000000</td>\n",
              "      <td>0.933417</td>\n",
              "      <td>0.2</td>\n",
              "      <td>0.111111</td>\n",
              "    </tr>\n",
              "    <tr>\n",
              "      <th>3808709</th>\n",
              "      <td>0.624300</td>\n",
              "      <td>0.066667</td>\n",
              "      <td>0.125</td>\n",
              "      <td>1.0000</td>\n",
              "      <td>0.006612</td>\n",
              "      <td>0.250000</td>\n",
              "      <td>0.0</td>\n",
              "      <td>0.055556</td>\n",
              "    </tr>\n",
              "  </tbody>\n",
              "</table>\n",
              "</div>"
            ],
            "text/plain": [
              "          log_price  accommodates  bathrooms  host_response_rate  \\\n",
              "id                                                                 \n",
              "6901257    0.659259      0.133333      0.125              0.9395   \n",
              "6304928    0.674951      0.400000      0.125              1.0000   \n",
              "7919400    0.654799      0.266667      0.125              1.0000   \n",
              "13418779   0.871016      0.200000      0.125              0.9463   \n",
              "3808709    0.624300      0.066667      0.125              1.0000   \n",
              "\n",
              "          number_of_reviews  review_scores_rating  bedrooms      beds  \n",
              "id                                                                     \n",
              "6901257            0.003306              1.000000       0.1  0.055556  \n",
              "6304928            0.009917              0.912500       0.3  0.166667  \n",
              "7919400            0.016529              0.900000       0.1  0.166667  \n",
              "13418779           0.000000              0.933417       0.2  0.111111  \n",
              "3808709            0.006612              0.250000       0.0  0.055556  "
            ]
          },
          "metadata": {
            "tags": []
          },
          "execution_count": 8
        }
      ]
    },
    {
      "cell_type": "code",
      "metadata": {
        "ExecuteTime": {
          "end_time": "2019-06-04T14:07:41.296166Z",
          "start_time": "2019-06-04T14:07:41.265661Z"
        },
        "hidden": true,
        "id": "F2Bm_THjlW_d",
        "colab_type": "code",
        "outputId": "6a254341-929e-40b1-8f05-7778fb4acbd8",
        "colab": {
          "base_uri": "https://localhost:8080/",
          "height": 225
        }
      },
      "source": [
        "original_data = pd.DataFrame(data=normalizer_max.inverse_transform(air_bnb_scaled),\n",
        "                              columns=air_bnb_columns,\n",
        "                              index=air_bnb_num[\"id\"])\n",
        "original_data.head()"
      ],
      "execution_count": 9,
      "outputs": [
        {
          "output_type": "execute_result",
          "data": {
            "text/html": [
              "<div>\n",
              "<style scoped>\n",
              "    .dataframe tbody tr th:only-of-type {\n",
              "        vertical-align: middle;\n",
              "    }\n",
              "\n",
              "    .dataframe tbody tr th {\n",
              "        vertical-align: top;\n",
              "    }\n",
              "\n",
              "    .dataframe thead th {\n",
              "        text-align: right;\n",
              "    }\n",
              "</style>\n",
              "<table border=\"1\" class=\"dataframe\">\n",
              "  <thead>\n",
              "    <tr style=\"text-align: right;\">\n",
              "      <th></th>\n",
              "      <th>log_price</th>\n",
              "      <th>accommodates</th>\n",
              "      <th>bathrooms</th>\n",
              "      <th>host_response_rate</th>\n",
              "      <th>number_of_reviews</th>\n",
              "      <th>review_scores_rating</th>\n",
              "      <th>bedrooms</th>\n",
              "      <th>beds</th>\n",
              "    </tr>\n",
              "    <tr>\n",
              "      <th>id</th>\n",
              "      <th></th>\n",
              "      <th></th>\n",
              "      <th></th>\n",
              "      <th></th>\n",
              "      <th></th>\n",
              "      <th></th>\n",
              "      <th></th>\n",
              "      <th></th>\n",
              "    </tr>\n",
              "  </thead>\n",
              "  <tbody>\n",
              "    <tr>\n",
              "      <th>6901257</th>\n",
              "      <td>5.010635</td>\n",
              "      <td>3.0</td>\n",
              "      <td>1.0</td>\n",
              "      <td>0.9395</td>\n",
              "      <td>2.0</td>\n",
              "      <td>100.000000</td>\n",
              "      <td>1.0</td>\n",
              "      <td>1.0</td>\n",
              "    </tr>\n",
              "    <tr>\n",
              "      <th>6304928</th>\n",
              "      <td>5.129899</td>\n",
              "      <td>7.0</td>\n",
              "      <td>1.0</td>\n",
              "      <td>1.0000</td>\n",
              "      <td>6.0</td>\n",
              "      <td>93.000000</td>\n",
              "      <td>3.0</td>\n",
              "      <td>3.0</td>\n",
              "    </tr>\n",
              "    <tr>\n",
              "      <th>7919400</th>\n",
              "      <td>4.976734</td>\n",
              "      <td>5.0</td>\n",
              "      <td>1.0</td>\n",
              "      <td>1.0000</td>\n",
              "      <td>10.0</td>\n",
              "      <td>92.000000</td>\n",
              "      <td>1.0</td>\n",
              "      <td>3.0</td>\n",
              "    </tr>\n",
              "    <tr>\n",
              "      <th>13418779</th>\n",
              "      <td>6.620073</td>\n",
              "      <td>4.0</td>\n",
              "      <td>1.0</td>\n",
              "      <td>0.9463</td>\n",
              "      <td>0.0</td>\n",
              "      <td>94.673387</td>\n",
              "      <td>2.0</td>\n",
              "      <td>2.0</td>\n",
              "    </tr>\n",
              "    <tr>\n",
              "      <th>3808709</th>\n",
              "      <td>4.744932</td>\n",
              "      <td>2.0</td>\n",
              "      <td>1.0</td>\n",
              "      <td>1.0000</td>\n",
              "      <td>4.0</td>\n",
              "      <td>40.000000</td>\n",
              "      <td>0.0</td>\n",
              "      <td>1.0</td>\n",
              "    </tr>\n",
              "  </tbody>\n",
              "</table>\n",
              "</div>"
            ],
            "text/plain": [
              "          log_price  accommodates  bathrooms  host_response_rate  \\\n",
              "id                                                                 \n",
              "6901257    5.010635           3.0        1.0              0.9395   \n",
              "6304928    5.129899           7.0        1.0              1.0000   \n",
              "7919400    4.976734           5.0        1.0              1.0000   \n",
              "13418779   6.620073           4.0        1.0              0.9463   \n",
              "3808709    4.744932           2.0        1.0              1.0000   \n",
              "\n",
              "          number_of_reviews  review_scores_rating  bedrooms  beds  \n",
              "id                                                                 \n",
              "6901257                 2.0            100.000000       1.0   1.0  \n",
              "6304928                 6.0             93.000000       3.0   3.0  \n",
              "7919400                10.0             92.000000       1.0   3.0  \n",
              "13418779                0.0             94.673387       2.0   2.0  \n",
              "3808709                 4.0             40.000000       0.0   1.0  "
            ]
          },
          "metadata": {
            "tags": []
          },
          "execution_count": 9
        }
      ]
    },
    {
      "cell_type": "code",
      "metadata": {
        "ExecuteTime": {
          "end_time": "2019-06-04T14:07:43.921835Z",
          "start_time": "2019-06-04T14:07:43.904883Z"
        },
        "hidden": true,
        "id": "Z0BlniUdlW_g",
        "colab_type": "code",
        "outputId": "9da9dd9b-8d85-474d-b15b-7598893a3335",
        "colab": {
          "base_uri": "https://localhost:8080/",
          "height": 195
        }
      },
      "source": [
        "air_bnb_num.head()"
      ],
      "execution_count": 10,
      "outputs": [
        {
          "output_type": "execute_result",
          "data": {
            "text/html": [
              "<div>\n",
              "<style scoped>\n",
              "    .dataframe tbody tr th:only-of-type {\n",
              "        vertical-align: middle;\n",
              "    }\n",
              "\n",
              "    .dataframe tbody tr th {\n",
              "        vertical-align: top;\n",
              "    }\n",
              "\n",
              "    .dataframe thead th {\n",
              "        text-align: right;\n",
              "    }\n",
              "</style>\n",
              "<table border=\"1\" class=\"dataframe\">\n",
              "  <thead>\n",
              "    <tr style=\"text-align: right;\">\n",
              "      <th></th>\n",
              "      <th>id</th>\n",
              "      <th>log_price</th>\n",
              "      <th>accommodates</th>\n",
              "      <th>bathrooms</th>\n",
              "      <th>host_response_rate</th>\n",
              "      <th>number_of_reviews</th>\n",
              "      <th>review_scores_rating</th>\n",
              "      <th>bedrooms</th>\n",
              "      <th>beds</th>\n",
              "    </tr>\n",
              "  </thead>\n",
              "  <tbody>\n",
              "    <tr>\n",
              "      <th>0</th>\n",
              "      <td>6901257</td>\n",
              "      <td>5.010635</td>\n",
              "      <td>3.0</td>\n",
              "      <td>1.0</td>\n",
              "      <td>0.9395</td>\n",
              "      <td>2.0</td>\n",
              "      <td>100.000000</td>\n",
              "      <td>1.0</td>\n",
              "      <td>1.0</td>\n",
              "    </tr>\n",
              "    <tr>\n",
              "      <th>1</th>\n",
              "      <td>6304928</td>\n",
              "      <td>5.129899</td>\n",
              "      <td>7.0</td>\n",
              "      <td>1.0</td>\n",
              "      <td>1.0000</td>\n",
              "      <td>6.0</td>\n",
              "      <td>93.000000</td>\n",
              "      <td>3.0</td>\n",
              "      <td>3.0</td>\n",
              "    </tr>\n",
              "    <tr>\n",
              "      <th>2</th>\n",
              "      <td>7919400</td>\n",
              "      <td>4.976734</td>\n",
              "      <td>5.0</td>\n",
              "      <td>1.0</td>\n",
              "      <td>1.0000</td>\n",
              "      <td>10.0</td>\n",
              "      <td>92.000000</td>\n",
              "      <td>1.0</td>\n",
              "      <td>3.0</td>\n",
              "    </tr>\n",
              "    <tr>\n",
              "      <th>3</th>\n",
              "      <td>13418779</td>\n",
              "      <td>6.620073</td>\n",
              "      <td>4.0</td>\n",
              "      <td>1.0</td>\n",
              "      <td>0.9463</td>\n",
              "      <td>0.0</td>\n",
              "      <td>94.673387</td>\n",
              "      <td>2.0</td>\n",
              "      <td>2.0</td>\n",
              "    </tr>\n",
              "    <tr>\n",
              "      <th>4</th>\n",
              "      <td>3808709</td>\n",
              "      <td>4.744932</td>\n",
              "      <td>2.0</td>\n",
              "      <td>1.0</td>\n",
              "      <td>1.0000</td>\n",
              "      <td>4.0</td>\n",
              "      <td>40.000000</td>\n",
              "      <td>0.0</td>\n",
              "      <td>1.0</td>\n",
              "    </tr>\n",
              "  </tbody>\n",
              "</table>\n",
              "</div>"
            ],
            "text/plain": [
              "         id  log_price  accommodates  bathrooms  host_response_rate  \\\n",
              "0   6901257   5.010635           3.0        1.0              0.9395   \n",
              "1   6304928   5.129899           7.0        1.0              1.0000   \n",
              "2   7919400   4.976734           5.0        1.0              1.0000   \n",
              "3  13418779   6.620073           4.0        1.0              0.9463   \n",
              "4   3808709   4.744932           2.0        1.0              1.0000   \n",
              "\n",
              "   number_of_reviews  review_scores_rating  bedrooms  beds  \n",
              "0                2.0            100.000000       1.0   1.0  \n",
              "1                6.0             93.000000       3.0   3.0  \n",
              "2               10.0             92.000000       1.0   3.0  \n",
              "3                0.0             94.673387       2.0   2.0  \n",
              "4                4.0             40.000000       0.0   1.0  "
            ]
          },
          "metadata": {
            "tags": []
          },
          "execution_count": 10
        }
      ]
    },
    {
      "cell_type": "code",
      "metadata": {
        "ExecuteTime": {
          "end_time": "2019-06-04T14:13:53.688618Z",
          "start_time": "2019-06-04T14:13:53.613779Z"
        },
        "hidden": true,
        "id": "q7Jy3oFrlW_j",
        "colab_type": "code",
        "outputId": "d4bb3f52-e1fc-4681-95da-eced5db3a70a",
        "colab": {
          "base_uri": "https://localhost:8080/",
          "height": 195
        }
      },
      "source": [
        "air_bnb_bool = pd.read_csv(\"drive/My Drive/Colab Notebooks/air_bnb_price_prediction(Kaggle)/Data/air_bnb_bool_label_encoded.csv\")\n",
        "air_bnb_bool.drop(\"Unnamed: 0\",axis=1,inplace=True)\n",
        "air_bnb_bool.head()"
      ],
      "execution_count": 33,
      "outputs": [
        {
          "output_type": "execute_result",
          "data": {
            "text/html": [
              "<div>\n",
              "<style scoped>\n",
              "    .dataframe tbody tr th:only-of-type {\n",
              "        vertical-align: middle;\n",
              "    }\n",
              "\n",
              "    .dataframe tbody tr th {\n",
              "        vertical-align: top;\n",
              "    }\n",
              "\n",
              "    .dataframe thead th {\n",
              "        text-align: right;\n",
              "    }\n",
              "</style>\n",
              "<table border=\"1\" class=\"dataframe\">\n",
              "  <thead>\n",
              "    <tr style=\"text-align: right;\">\n",
              "      <th></th>\n",
              "      <th>id</th>\n",
              "      <th>cleaning_fee</th>\n",
              "      <th>host_has_profile_pic</th>\n",
              "      <th>host_identity_verified</th>\n",
              "      <th>instant_bookable</th>\n",
              "    </tr>\n",
              "  </thead>\n",
              "  <tbody>\n",
              "    <tr>\n",
              "      <th>0</th>\n",
              "      <td>6901257</td>\n",
              "      <td>1</td>\n",
              "      <td>1.0</td>\n",
              "      <td>1.0</td>\n",
              "      <td>0.0</td>\n",
              "    </tr>\n",
              "    <tr>\n",
              "      <th>1</th>\n",
              "      <td>6304928</td>\n",
              "      <td>1</td>\n",
              "      <td>1.0</td>\n",
              "      <td>0.0</td>\n",
              "      <td>1.0</td>\n",
              "    </tr>\n",
              "    <tr>\n",
              "      <th>2</th>\n",
              "      <td>7919400</td>\n",
              "      <td>1</td>\n",
              "      <td>1.0</td>\n",
              "      <td>1.0</td>\n",
              "      <td>1.0</td>\n",
              "    </tr>\n",
              "    <tr>\n",
              "      <th>3</th>\n",
              "      <td>13418779</td>\n",
              "      <td>1</td>\n",
              "      <td>1.0</td>\n",
              "      <td>1.0</td>\n",
              "      <td>0.0</td>\n",
              "    </tr>\n",
              "    <tr>\n",
              "      <th>4</th>\n",
              "      <td>3808709</td>\n",
              "      <td>1</td>\n",
              "      <td>1.0</td>\n",
              "      <td>1.0</td>\n",
              "      <td>1.0</td>\n",
              "    </tr>\n",
              "  </tbody>\n",
              "</table>\n",
              "</div>"
            ],
            "text/plain": [
              "         id  cleaning_fee  host_has_profile_pic  host_identity_verified  \\\n",
              "0   6901257             1                   1.0                     1.0   \n",
              "1   6304928             1                   1.0                     0.0   \n",
              "2   7919400             1                   1.0                     1.0   \n",
              "3  13418779             1                   1.0                     1.0   \n",
              "4   3808709             1                   1.0                     1.0   \n",
              "\n",
              "   instant_bookable  \n",
              "0               0.0  \n",
              "1               1.0  \n",
              "2               1.0  \n",
              "3               0.0  \n",
              "4               1.0  "
            ]
          },
          "metadata": {
            "tags": []
          },
          "execution_count": 33
        }
      ]
    },
    {
      "cell_type": "code",
      "metadata": {
        "id": "9kM9dwgJWkhK",
        "colab_type": "code",
        "colab": {
          "base_uri": "https://localhost:8080/",
          "height": 67
        },
        "outputId": "284b65d8-bb5d-4653-abea-cb36f27bccf7"
      },
      "source": [
        "print(air_bnb_bool.shape)\n",
        "print()\n",
        "print(air_bnb_scaled.shape)"
      ],
      "execution_count": 45,
      "outputs": [
        {
          "output_type": "stream",
          "text": [
            "(74111, 5)\n",
            "\n",
            "(74111, 8)\n"
          ],
          "name": "stdout"
        }
      ]
    },
    {
      "cell_type": "code",
      "metadata": {
        "ExecuteTime": {
          "end_time": "2019-06-04T14:14:01.713731Z",
          "start_time": "2019-06-04T14:14:01.636055Z"
        },
        "hidden": true,
        "id": "m92LXgCglW_m",
        "colab_type": "code",
        "outputId": "fa296466-bce1-4703-caff-0d86b81b76aa",
        "colab": {
          "base_uri": "https://localhost:8080/",
          "height": 747
        }
      },
      "source": [
        "# let's join these dataframes for imputing\n",
        "\n",
        "air_voice = pd.merge(air_bnb_scaled, air_bnb_bool, on=\"id\")\n",
        "air_voice.set_index(\"id\")\n",
        "# air_voice.head()"
      ],
      "execution_count": 41,
      "outputs": [
        {
          "output_type": "execute_result",
          "data": {
            "text/html": [
              "<div>\n",
              "<style scoped>\n",
              "    .dataframe tbody tr th:only-of-type {\n",
              "        vertical-align: middle;\n",
              "    }\n",
              "\n",
              "    .dataframe tbody tr th {\n",
              "        vertical-align: top;\n",
              "    }\n",
              "\n",
              "    .dataframe thead th {\n",
              "        text-align: right;\n",
              "    }\n",
              "</style>\n",
              "<table border=\"1\" class=\"dataframe\">\n",
              "  <thead>\n",
              "    <tr style=\"text-align: right;\">\n",
              "      <th></th>\n",
              "      <th>log_price</th>\n",
              "      <th>accommodates</th>\n",
              "      <th>bathrooms</th>\n",
              "      <th>host_response_rate</th>\n",
              "      <th>number_of_reviews</th>\n",
              "      <th>review_scores_rating</th>\n",
              "      <th>bedrooms</th>\n",
              "      <th>beds</th>\n",
              "      <th>cleaning_fee</th>\n",
              "      <th>host_has_profile_pic</th>\n",
              "      <th>host_identity_verified</th>\n",
              "      <th>instant_bookable</th>\n",
              "    </tr>\n",
              "    <tr>\n",
              "      <th>id</th>\n",
              "      <th></th>\n",
              "      <th></th>\n",
              "      <th></th>\n",
              "      <th></th>\n",
              "      <th></th>\n",
              "      <th></th>\n",
              "      <th></th>\n",
              "      <th></th>\n",
              "      <th></th>\n",
              "      <th></th>\n",
              "      <th></th>\n",
              "      <th></th>\n",
              "    </tr>\n",
              "  </thead>\n",
              "  <tbody>\n",
              "    <tr>\n",
              "      <th>6901257</th>\n",
              "      <td>0.659259</td>\n",
              "      <td>0.133333</td>\n",
              "      <td>0.125</td>\n",
              "      <td>0.9395</td>\n",
              "      <td>0.003306</td>\n",
              "      <td>1.000000</td>\n",
              "      <td>0.1</td>\n",
              "      <td>0.055556</td>\n",
              "      <td>1</td>\n",
              "      <td>1.0</td>\n",
              "      <td>1.0</td>\n",
              "      <td>0.0</td>\n",
              "    </tr>\n",
              "    <tr>\n",
              "      <th>6304928</th>\n",
              "      <td>0.674951</td>\n",
              "      <td>0.400000</td>\n",
              "      <td>0.125</td>\n",
              "      <td>1.0000</td>\n",
              "      <td>0.009917</td>\n",
              "      <td>0.912500</td>\n",
              "      <td>0.3</td>\n",
              "      <td>0.166667</td>\n",
              "      <td>1</td>\n",
              "      <td>1.0</td>\n",
              "      <td>0.0</td>\n",
              "      <td>1.0</td>\n",
              "    </tr>\n",
              "    <tr>\n",
              "      <th>7919400</th>\n",
              "      <td>0.654799</td>\n",
              "      <td>0.266667</td>\n",
              "      <td>0.125</td>\n",
              "      <td>1.0000</td>\n",
              "      <td>0.016529</td>\n",
              "      <td>0.900000</td>\n",
              "      <td>0.1</td>\n",
              "      <td>0.166667</td>\n",
              "      <td>1</td>\n",
              "      <td>1.0</td>\n",
              "      <td>1.0</td>\n",
              "      <td>1.0</td>\n",
              "    </tr>\n",
              "    <tr>\n",
              "      <th>13418779</th>\n",
              "      <td>0.871016</td>\n",
              "      <td>0.200000</td>\n",
              "      <td>0.125</td>\n",
              "      <td>0.9463</td>\n",
              "      <td>0.000000</td>\n",
              "      <td>0.933417</td>\n",
              "      <td>0.2</td>\n",
              "      <td>0.111111</td>\n",
              "      <td>1</td>\n",
              "      <td>1.0</td>\n",
              "      <td>1.0</td>\n",
              "      <td>0.0</td>\n",
              "    </tr>\n",
              "    <tr>\n",
              "      <th>3808709</th>\n",
              "      <td>0.624300</td>\n",
              "      <td>0.066667</td>\n",
              "      <td>0.125</td>\n",
              "      <td>1.0000</td>\n",
              "      <td>0.006612</td>\n",
              "      <td>0.250000</td>\n",
              "      <td>0.0</td>\n",
              "      <td>0.055556</td>\n",
              "      <td>1</td>\n",
              "      <td>1.0</td>\n",
              "      <td>1.0</td>\n",
              "      <td>1.0</td>\n",
              "    </tr>\n",
              "    <tr>\n",
              "      <th>12422935</th>\n",
              "      <td>0.584528</td>\n",
              "      <td>0.066667</td>\n",
              "      <td>0.125</td>\n",
              "      <td>1.0000</td>\n",
              "      <td>0.004959</td>\n",
              "      <td>1.000000</td>\n",
              "      <td>0.1</td>\n",
              "      <td>0.055556</td>\n",
              "      <td>1</td>\n",
              "      <td>1.0</td>\n",
              "      <td>1.0</td>\n",
              "      <td>1.0</td>\n",
              "    </tr>\n",
              "    <tr>\n",
              "      <th>11825529</th>\n",
              "      <td>0.581396</td>\n",
              "      <td>0.133333</td>\n",
              "      <td>0.125</td>\n",
              "      <td>1.0000</td>\n",
              "      <td>0.024793</td>\n",
              "      <td>0.962500</td>\n",
              "      <td>0.1</td>\n",
              "      <td>0.055556</td>\n",
              "      <td>1</td>\n",
              "      <td>1.0</td>\n",
              "      <td>0.0</td>\n",
              "      <td>1.0</td>\n",
              "    </tr>\n",
              "    <tr>\n",
              "      <th>13971273</th>\n",
              "      <td>0.629900</td>\n",
              "      <td>0.066667</td>\n",
              "      <td>0.125</td>\n",
              "      <td>1.0000</td>\n",
              "      <td>0.014876</td>\n",
              "      <td>0.912500</td>\n",
              "      <td>0.1</td>\n",
              "      <td>0.055556</td>\n",
              "      <td>1</td>\n",
              "      <td>1.0</td>\n",
              "      <td>1.0</td>\n",
              "      <td>0.0</td>\n",
              "    </tr>\n",
              "    <tr>\n",
              "      <th>180792</th>\n",
              "      <td>0.629900</td>\n",
              "      <td>0.066667</td>\n",
              "      <td>0.125</td>\n",
              "      <td>1.0000</td>\n",
              "      <td>0.262810</td>\n",
              "      <td>0.987500</td>\n",
              "      <td>0.1</td>\n",
              "      <td>0.055556</td>\n",
              "      <td>1</td>\n",
              "      <td>1.0</td>\n",
              "      <td>0.0</td>\n",
              "      <td>0.0</td>\n",
              "    </tr>\n",
              "    <tr>\n",
              "      <th>5385260</th>\n",
              "      <td>0.471491</td>\n",
              "      <td>0.066667</td>\n",
              "      <td>0.125</td>\n",
              "      <td>1.0000</td>\n",
              "      <td>0.003306</td>\n",
              "      <td>0.875000</td>\n",
              "      <td>0.1</td>\n",
              "      <td>0.055556</td>\n",
              "      <td>1</td>\n",
              "      <td>1.0</td>\n",
              "      <td>0.0</td>\n",
              "      <td>1.0</td>\n",
              "    </tr>\n",
              "    <tr>\n",
              "      <th>...</th>\n",
              "      <td>...</td>\n",
              "      <td>...</td>\n",
              "      <td>...</td>\n",
              "      <td>...</td>\n",
              "      <td>...</td>\n",
              "      <td>...</td>\n",
              "      <td>...</td>\n",
              "      <td>...</td>\n",
              "      <td>...</td>\n",
              "      <td>...</td>\n",
              "      <td>...</td>\n",
              "      <td>...</td>\n",
              "    </tr>\n",
              "    <tr>\n",
              "      <th>18077717</th>\n",
              "      <td>0.603253</td>\n",
              "      <td>0.000000</td>\n",
              "      <td>0.125</td>\n",
              "      <td>1.0000</td>\n",
              "      <td>0.006612</td>\n",
              "      <td>0.875000</td>\n",
              "      <td>0.1</td>\n",
              "      <td>0.055556</td>\n",
              "      <td>1</td>\n",
              "      <td>1.0</td>\n",
              "      <td>1.0</td>\n",
              "      <td>0.0</td>\n",
              "    </tr>\n",
              "    <tr>\n",
              "      <th>7935934</th>\n",
              "      <td>0.540876</td>\n",
              "      <td>0.600000</td>\n",
              "      <td>0.375</td>\n",
              "      <td>1.0000</td>\n",
              "      <td>0.001653</td>\n",
              "      <td>0.750000</td>\n",
              "      <td>0.1</td>\n",
              "      <td>0.555556</td>\n",
              "      <td>0</td>\n",
              "      <td>1.0</td>\n",
              "      <td>0.0</td>\n",
              "      <td>0.0</td>\n",
              "    </tr>\n",
              "    <tr>\n",
              "      <th>11829011</th>\n",
              "      <td>0.675727</td>\n",
              "      <td>0.066667</td>\n",
              "      <td>0.125</td>\n",
              "      <td>1.0000</td>\n",
              "      <td>0.039669</td>\n",
              "      <td>0.975000</td>\n",
              "      <td>0.1</td>\n",
              "      <td>0.055556</td>\n",
              "      <td>1</td>\n",
              "      <td>1.0</td>\n",
              "      <td>0.0</td>\n",
              "      <td>0.0</td>\n",
              "    </tr>\n",
              "    <tr>\n",
              "      <th>14934112</th>\n",
              "      <td>0.573221</td>\n",
              "      <td>0.066667</td>\n",
              "      <td>0.125</td>\n",
              "      <td>1.0000</td>\n",
              "      <td>0.009917</td>\n",
              "      <td>1.000000</td>\n",
              "      <td>0.1</td>\n",
              "      <td>0.055556</td>\n",
              "      <td>1</td>\n",
              "      <td>1.0</td>\n",
              "      <td>1.0</td>\n",
              "      <td>0.0</td>\n",
              "    </tr>\n",
              "    <tr>\n",
              "      <th>808802</th>\n",
              "      <td>0.558983</td>\n",
              "      <td>0.066667</td>\n",
              "      <td>0.125</td>\n",
              "      <td>0.7500</td>\n",
              "      <td>0.059504</td>\n",
              "      <td>0.887500</td>\n",
              "      <td>0.1</td>\n",
              "      <td>0.055556</td>\n",
              "      <td>1</td>\n",
              "      <td>1.0</td>\n",
              "      <td>1.0</td>\n",
              "      <td>0.0</td>\n",
              "    </tr>\n",
              "    <tr>\n",
              "      <th>14549287</th>\n",
              "      <td>0.605911</td>\n",
              "      <td>0.000000</td>\n",
              "      <td>0.125</td>\n",
              "      <td>0.9261</td>\n",
              "      <td>0.000000</td>\n",
              "      <td>0.935333</td>\n",
              "      <td>0.1</td>\n",
              "      <td>0.055556</td>\n",
              "      <td>0</td>\n",
              "      <td>1.0</td>\n",
              "      <td>1.0</td>\n",
              "      <td>0.0</td>\n",
              "    </tr>\n",
              "    <tr>\n",
              "      <th>13281809</th>\n",
              "      <td>0.663573</td>\n",
              "      <td>0.200000</td>\n",
              "      <td>0.250</td>\n",
              "      <td>1.0000</td>\n",
              "      <td>0.026446</td>\n",
              "      <td>0.912500</td>\n",
              "      <td>0.2</td>\n",
              "      <td>0.222222</td>\n",
              "      <td>1</td>\n",
              "      <td>1.0</td>\n",
              "      <td>0.0</td>\n",
              "      <td>0.0</td>\n",
              "    </tr>\n",
              "    <tr>\n",
              "      <th>18688039</th>\n",
              "      <td>0.686853</td>\n",
              "      <td>0.266667</td>\n",
              "      <td>0.125</td>\n",
              "      <td>1.0000</td>\n",
              "      <td>0.071074</td>\n",
              "      <td>0.925000</td>\n",
              "      <td>0.2</td>\n",
              "      <td>0.111111</td>\n",
              "      <td>1</td>\n",
              "      <td>1.0</td>\n",
              "      <td>1.0</td>\n",
              "      <td>1.0</td>\n",
              "    </tr>\n",
              "    <tr>\n",
              "      <th>17045948</th>\n",
              "      <td>0.693779</td>\n",
              "      <td>0.066667</td>\n",
              "      <td>0.125</td>\n",
              "      <td>1.0000</td>\n",
              "      <td>0.000000</td>\n",
              "      <td>0.937702</td>\n",
              "      <td>0.0</td>\n",
              "      <td>0.111111</td>\n",
              "      <td>1</td>\n",
              "      <td>1.0</td>\n",
              "      <td>0.0</td>\n",
              "      <td>1.0</td>\n",
              "    </tr>\n",
              "    <tr>\n",
              "      <th>3534845</th>\n",
              "      <td>0.638391</td>\n",
              "      <td>0.200000</td>\n",
              "      <td>0.125</td>\n",
              "      <td>1.0000</td>\n",
              "      <td>0.338843</td>\n",
              "      <td>0.950000</td>\n",
              "      <td>0.1</td>\n",
              "      <td>0.111111</td>\n",
              "      <td>0</td>\n",
              "      <td>1.0</td>\n",
              "      <td>1.0</td>\n",
              "      <td>0.0</td>\n",
              "    </tr>\n",
              "  </tbody>\n",
              "</table>\n",
              "<p>74111 rows × 12 columns</p>\n",
              "</div>"
            ],
            "text/plain": [
              "          log_price  accommodates  bathrooms  host_response_rate  \\\n",
              "id                                                                 \n",
              "6901257    0.659259      0.133333      0.125              0.9395   \n",
              "6304928    0.674951      0.400000      0.125              1.0000   \n",
              "7919400    0.654799      0.266667      0.125              1.0000   \n",
              "13418779   0.871016      0.200000      0.125              0.9463   \n",
              "3808709    0.624300      0.066667      0.125              1.0000   \n",
              "12422935   0.584528      0.066667      0.125              1.0000   \n",
              "11825529   0.581396      0.133333      0.125              1.0000   \n",
              "13971273   0.629900      0.066667      0.125              1.0000   \n",
              "180792     0.629900      0.066667      0.125              1.0000   \n",
              "5385260    0.471491      0.066667      0.125              1.0000   \n",
              "...             ...           ...        ...                 ...   \n",
              "18077717   0.603253      0.000000      0.125              1.0000   \n",
              "7935934    0.540876      0.600000      0.375              1.0000   \n",
              "11829011   0.675727      0.066667      0.125              1.0000   \n",
              "14934112   0.573221      0.066667      0.125              1.0000   \n",
              "808802     0.558983      0.066667      0.125              0.7500   \n",
              "14549287   0.605911      0.000000      0.125              0.9261   \n",
              "13281809   0.663573      0.200000      0.250              1.0000   \n",
              "18688039   0.686853      0.266667      0.125              1.0000   \n",
              "17045948   0.693779      0.066667      0.125              1.0000   \n",
              "3534845    0.638391      0.200000      0.125              1.0000   \n",
              "\n",
              "          number_of_reviews  review_scores_rating  bedrooms      beds  \\\n",
              "id                                                                      \n",
              "6901257            0.003306              1.000000       0.1  0.055556   \n",
              "6304928            0.009917              0.912500       0.3  0.166667   \n",
              "7919400            0.016529              0.900000       0.1  0.166667   \n",
              "13418779           0.000000              0.933417       0.2  0.111111   \n",
              "3808709            0.006612              0.250000       0.0  0.055556   \n",
              "12422935           0.004959              1.000000       0.1  0.055556   \n",
              "11825529           0.024793              0.962500       0.1  0.055556   \n",
              "13971273           0.014876              0.912500       0.1  0.055556   \n",
              "180792             0.262810              0.987500       0.1  0.055556   \n",
              "5385260            0.003306              0.875000       0.1  0.055556   \n",
              "...                     ...                   ...       ...       ...   \n",
              "18077717           0.006612              0.875000       0.1  0.055556   \n",
              "7935934            0.001653              0.750000       0.1  0.555556   \n",
              "11829011           0.039669              0.975000       0.1  0.055556   \n",
              "14934112           0.009917              1.000000       0.1  0.055556   \n",
              "808802             0.059504              0.887500       0.1  0.055556   \n",
              "14549287           0.000000              0.935333       0.1  0.055556   \n",
              "13281809           0.026446              0.912500       0.2  0.222222   \n",
              "18688039           0.071074              0.925000       0.2  0.111111   \n",
              "17045948           0.000000              0.937702       0.0  0.111111   \n",
              "3534845            0.338843              0.950000       0.1  0.111111   \n",
              "\n",
              "          cleaning_fee  host_has_profile_pic  host_identity_verified  \\\n",
              "id                                                                     \n",
              "6901257              1                   1.0                     1.0   \n",
              "6304928              1                   1.0                     0.0   \n",
              "7919400              1                   1.0                     1.0   \n",
              "13418779             1                   1.0                     1.0   \n",
              "3808709              1                   1.0                     1.0   \n",
              "12422935             1                   1.0                     1.0   \n",
              "11825529             1                   1.0                     0.0   \n",
              "13971273             1                   1.0                     1.0   \n",
              "180792               1                   1.0                     0.0   \n",
              "5385260              1                   1.0                     0.0   \n",
              "...                ...                   ...                     ...   \n",
              "18077717             1                   1.0                     1.0   \n",
              "7935934              0                   1.0                     0.0   \n",
              "11829011             1                   1.0                     0.0   \n",
              "14934112             1                   1.0                     1.0   \n",
              "808802               1                   1.0                     1.0   \n",
              "14549287             0                   1.0                     1.0   \n",
              "13281809             1                   1.0                     0.0   \n",
              "18688039             1                   1.0                     1.0   \n",
              "17045948             1                   1.0                     0.0   \n",
              "3534845              0                   1.0                     1.0   \n",
              "\n",
              "          instant_bookable  \n",
              "id                          \n",
              "6901257                0.0  \n",
              "6304928                1.0  \n",
              "7919400                1.0  \n",
              "13418779               0.0  \n",
              "3808709                1.0  \n",
              "12422935               1.0  \n",
              "11825529               1.0  \n",
              "13971273               0.0  \n",
              "180792                 0.0  \n",
              "5385260                1.0  \n",
              "...                    ...  \n",
              "18077717               0.0  \n",
              "7935934                0.0  \n",
              "11829011               0.0  \n",
              "14934112               0.0  \n",
              "808802                 0.0  \n",
              "14549287               0.0  \n",
              "13281809               0.0  \n",
              "18688039               1.0  \n",
              "17045948               1.0  \n",
              "3534845                0.0  \n",
              "\n",
              "[74111 rows x 12 columns]"
            ]
          },
          "metadata": {
            "tags": []
          },
          "execution_count": 41
        }
      ]
    },
    {
      "cell_type": "markdown",
      "metadata": {
        "id": "Tfuq7AwnlW_r",
        "colab_type": "text"
      },
      "source": [
        "# let's start KNN imputation by predicting categories"
      ]
    },
    {
      "cell_type": "code",
      "metadata": {
        "ExecuteTime": {
          "end_time": "2019-05-30T04:21:58.488813Z",
          "start_time": "2019-05-30T04:21:58.459928Z"
        },
        "id": "bo2ayNITlW_s",
        "colab_type": "code",
        "outputId": "f1bbf832-ad3a-4cb0-94d2-2813e797bb34",
        "colab": {
          "base_uri": "https://localhost:8080/",
          "height": 252
        }
      },
      "source": [
        "air_voice.isnull().sum()"
      ],
      "execution_count": 36,
      "outputs": [
        {
          "output_type": "execute_result",
          "data": {
            "text/plain": [
              "id                          0\n",
              "log_price                   0\n",
              "accommodates                0\n",
              "bathrooms                   0\n",
              "host_response_rate          0\n",
              "number_of_reviews           0\n",
              "review_scores_rating        0\n",
              "bedrooms                    0\n",
              "beds                        0\n",
              "cleaning_fee                0\n",
              "host_has_profile_pic      188\n",
              "host_identity_verified    188\n",
              "instant_bookable            0\n",
              "dtype: int64"
            ]
          },
          "metadata": {
            "tags": []
          },
          "execution_count": 36
        }
      ]
    },
    {
      "cell_type": "code",
      "metadata": {
        "ExecuteTime": {
          "end_time": "2019-05-29T05:59:59.053074Z",
          "start_time": "2019-05-29T05:59:59.046095Z"
        },
        "id": "6K0D5UATlW_v",
        "colab_type": "code",
        "outputId": "ff84883f-c06b-4a1c-9917-47be82c2a05d",
        "colab": {
          "base_uri": "https://localhost:8080/",
          "height": 84
        }
      },
      "source": [
        "air_voice.columns.values"
      ],
      "execution_count": 35,
      "outputs": [
        {
          "output_type": "execute_result",
          "data": {
            "text/plain": [
              "array(['id', 'log_price', 'accommodates', 'bathrooms',\n",
              "       'host_response_rate', 'number_of_reviews', 'review_scores_rating',\n",
              "       'bedrooms', 'beds', 'cleaning_fee', 'host_has_profile_pic',\n",
              "       'host_identity_verified', 'instant_bookable'], dtype=object)"
            ]
          },
          "metadata": {
            "tags": []
          },
          "execution_count": 35
        }
      ]
    },
    {
      "cell_type": "code",
      "metadata": {
        "id": "N1kKbKZ9lW_y",
        "colab_type": "code",
        "colab": {}
      },
      "source": [
        "# let's find K to train KNN\n",
        "# from formula sqrt(n), K can be less than \n",
        "def appropriate_k(x_train,x_test,y_train,y_test,k_max):\n",
        "    '''\n",
        "    this function takes x & y train & test dataframes,\n",
        "    fits KNN with a different K value each time to the data;\n",
        "    And MSE will be calcuated comparing the predictions to test data\n",
        "    and returns the K value that has max accuracy(accuracy because I care more about sesnsitivity and specificity)\n",
        "    '''\n",
        "    from sklearn.neighbors import KNeighborsClassifier\n",
        "    from sklearn.metrics import f1_score\n",
        "    \n",
        "    k_list = []\n",
        "    f1_list = []\n",
        "    \n",
        "    for i in range(10,k_max):\n",
        "        knn = KNeighborsClassifier(n_neighbors=i)\n",
        "        knn_model = knn.fit(x_train,y_train)\n",
        "        knn_pred = knn_model.predict(x_test)\n",
        "        f1 = f1_score(y_test,knn_pred)\n",
        "        k_list.append(i)\n",
        "        f1_list.append(f1)\n",
        "        \n",
        "    return k_list[f1_list.index(max(f1_list))]"
      ],
      "execution_count": 0,
      "outputs": []
    },
    {
      "cell_type": "code",
      "metadata": {
        "id": "TB11x-4vOkm3",
        "colab_type": "code",
        "colab": {}
      },
      "source": [
        "def get_knn_predictions(x_train,y_train,x_test,n_neigh):\n",
        "    '''\n",
        "    this function takes x & y train and y train data, along with k value for knn\n",
        "    and fits KNN to the data\n",
        "    and returns the list of predicted classes by KNN\n",
        "    '''\n",
        "    \n",
        "    from sklearn.neighbors import KNeighborsClassifier\n",
        "    from numpy import asarray\n",
        "    \n",
        "    knn_model = KNeighborsClassifier(n_neighbors=n_neigh)\n",
        "    model = knn_model.fit(x_train,y_train)\n",
        "    predictions_list = model.predict(x_test)\n",
        "    return np.asarray(predictions_list).flatten()"
      ],
      "execution_count": 0,
      "outputs": []
    },
    {
      "cell_type": "code",
      "metadata": {
        "id": "a25KsVxCSR1S",
        "colab_type": "code",
        "colab": {}
      },
      "source": [
        "# let's make dataframes to train KNN on to predict null values\n",
        "air_voice_with_null = air_voice.copy()\n",
        "air_voice_no_null = air_voice_with_null.dropna()"
      ],
      "execution_count": 0,
      "outputs": []
    },
    {
      "cell_type": "code",
      "metadata": {
        "id": "iJBSABxcXa59",
        "colab_type": "code",
        "colab": {
          "base_uri": "https://localhost:8080/",
          "height": 363
        },
        "outputId": "7448bbcb-a12a-4efd-fc36-ef44ae11fe2c"
      },
      "source": [
        "air_voice_with_null.head(n=10)"
      ],
      "execution_count": 51,
      "outputs": [
        {
          "output_type": "execute_result",
          "data": {
            "text/html": [
              "<div>\n",
              "<style scoped>\n",
              "    .dataframe tbody tr th:only-of-type {\n",
              "        vertical-align: middle;\n",
              "    }\n",
              "\n",
              "    .dataframe tbody tr th {\n",
              "        vertical-align: top;\n",
              "    }\n",
              "\n",
              "    .dataframe thead th {\n",
              "        text-align: right;\n",
              "    }\n",
              "</style>\n",
              "<table border=\"1\" class=\"dataframe\">\n",
              "  <thead>\n",
              "    <tr style=\"text-align: right;\">\n",
              "      <th></th>\n",
              "      <th>id</th>\n",
              "      <th>log_price</th>\n",
              "      <th>accommodates</th>\n",
              "      <th>bathrooms</th>\n",
              "      <th>host_response_rate</th>\n",
              "      <th>number_of_reviews</th>\n",
              "      <th>review_scores_rating</th>\n",
              "      <th>bedrooms</th>\n",
              "      <th>beds</th>\n",
              "      <th>cleaning_fee</th>\n",
              "      <th>host_has_profile_pic</th>\n",
              "      <th>host_identity_verified</th>\n",
              "      <th>instant_bookable</th>\n",
              "    </tr>\n",
              "  </thead>\n",
              "  <tbody>\n",
              "    <tr>\n",
              "      <th>0</th>\n",
              "      <td>6901257</td>\n",
              "      <td>0.659259</td>\n",
              "      <td>0.133333</td>\n",
              "      <td>0.125</td>\n",
              "      <td>0.9395</td>\n",
              "      <td>0.003306</td>\n",
              "      <td>1.000000</td>\n",
              "      <td>0.1</td>\n",
              "      <td>0.055556</td>\n",
              "      <td>1</td>\n",
              "      <td>1.0</td>\n",
              "      <td>1.0</td>\n",
              "      <td>0.0</td>\n",
              "    </tr>\n",
              "    <tr>\n",
              "      <th>1</th>\n",
              "      <td>6304928</td>\n",
              "      <td>0.674951</td>\n",
              "      <td>0.400000</td>\n",
              "      <td>0.125</td>\n",
              "      <td>1.0000</td>\n",
              "      <td>0.009917</td>\n",
              "      <td>0.912500</td>\n",
              "      <td>0.3</td>\n",
              "      <td>0.166667</td>\n",
              "      <td>1</td>\n",
              "      <td>1.0</td>\n",
              "      <td>0.0</td>\n",
              "      <td>1.0</td>\n",
              "    </tr>\n",
              "    <tr>\n",
              "      <th>2</th>\n",
              "      <td>7919400</td>\n",
              "      <td>0.654799</td>\n",
              "      <td>0.266667</td>\n",
              "      <td>0.125</td>\n",
              "      <td>1.0000</td>\n",
              "      <td>0.016529</td>\n",
              "      <td>0.900000</td>\n",
              "      <td>0.1</td>\n",
              "      <td>0.166667</td>\n",
              "      <td>1</td>\n",
              "      <td>1.0</td>\n",
              "      <td>1.0</td>\n",
              "      <td>1.0</td>\n",
              "    </tr>\n",
              "    <tr>\n",
              "      <th>3</th>\n",
              "      <td>13418779</td>\n",
              "      <td>0.871016</td>\n",
              "      <td>0.200000</td>\n",
              "      <td>0.125</td>\n",
              "      <td>0.9463</td>\n",
              "      <td>0.000000</td>\n",
              "      <td>0.933417</td>\n",
              "      <td>0.2</td>\n",
              "      <td>0.111111</td>\n",
              "      <td>1</td>\n",
              "      <td>1.0</td>\n",
              "      <td>1.0</td>\n",
              "      <td>0.0</td>\n",
              "    </tr>\n",
              "    <tr>\n",
              "      <th>4</th>\n",
              "      <td>3808709</td>\n",
              "      <td>0.624300</td>\n",
              "      <td>0.066667</td>\n",
              "      <td>0.125</td>\n",
              "      <td>1.0000</td>\n",
              "      <td>0.006612</td>\n",
              "      <td>0.250000</td>\n",
              "      <td>0.0</td>\n",
              "      <td>0.055556</td>\n",
              "      <td>1</td>\n",
              "      <td>1.0</td>\n",
              "      <td>1.0</td>\n",
              "      <td>1.0</td>\n",
              "    </tr>\n",
              "    <tr>\n",
              "      <th>5</th>\n",
              "      <td>12422935</td>\n",
              "      <td>0.584528</td>\n",
              "      <td>0.066667</td>\n",
              "      <td>0.125</td>\n",
              "      <td>1.0000</td>\n",
              "      <td>0.004959</td>\n",
              "      <td>1.000000</td>\n",
              "      <td>0.1</td>\n",
              "      <td>0.055556</td>\n",
              "      <td>1</td>\n",
              "      <td>1.0</td>\n",
              "      <td>1.0</td>\n",
              "      <td>1.0</td>\n",
              "    </tr>\n",
              "    <tr>\n",
              "      <th>6</th>\n",
              "      <td>11825529</td>\n",
              "      <td>0.581396</td>\n",
              "      <td>0.133333</td>\n",
              "      <td>0.125</td>\n",
              "      <td>1.0000</td>\n",
              "      <td>0.024793</td>\n",
              "      <td>0.962500</td>\n",
              "      <td>0.1</td>\n",
              "      <td>0.055556</td>\n",
              "      <td>1</td>\n",
              "      <td>1.0</td>\n",
              "      <td>0.0</td>\n",
              "      <td>1.0</td>\n",
              "    </tr>\n",
              "    <tr>\n",
              "      <th>7</th>\n",
              "      <td>13971273</td>\n",
              "      <td>0.629900</td>\n",
              "      <td>0.066667</td>\n",
              "      <td>0.125</td>\n",
              "      <td>1.0000</td>\n",
              "      <td>0.014876</td>\n",
              "      <td>0.912500</td>\n",
              "      <td>0.1</td>\n",
              "      <td>0.055556</td>\n",
              "      <td>1</td>\n",
              "      <td>1.0</td>\n",
              "      <td>1.0</td>\n",
              "      <td>0.0</td>\n",
              "    </tr>\n",
              "    <tr>\n",
              "      <th>8</th>\n",
              "      <td>180792</td>\n",
              "      <td>0.629900</td>\n",
              "      <td>0.066667</td>\n",
              "      <td>0.125</td>\n",
              "      <td>1.0000</td>\n",
              "      <td>0.262810</td>\n",
              "      <td>0.987500</td>\n",
              "      <td>0.1</td>\n",
              "      <td>0.055556</td>\n",
              "      <td>1</td>\n",
              "      <td>1.0</td>\n",
              "      <td>0.0</td>\n",
              "      <td>0.0</td>\n",
              "    </tr>\n",
              "    <tr>\n",
              "      <th>9</th>\n",
              "      <td>5385260</td>\n",
              "      <td>0.471491</td>\n",
              "      <td>0.066667</td>\n",
              "      <td>0.125</td>\n",
              "      <td>1.0000</td>\n",
              "      <td>0.003306</td>\n",
              "      <td>0.875000</td>\n",
              "      <td>0.1</td>\n",
              "      <td>0.055556</td>\n",
              "      <td>1</td>\n",
              "      <td>1.0</td>\n",
              "      <td>0.0</td>\n",
              "      <td>1.0</td>\n",
              "    </tr>\n",
              "  </tbody>\n",
              "</table>\n",
              "</div>"
            ],
            "text/plain": [
              "         id  log_price  accommodates  bathrooms  host_response_rate  \\\n",
              "0   6901257   0.659259      0.133333      0.125              0.9395   \n",
              "1   6304928   0.674951      0.400000      0.125              1.0000   \n",
              "2   7919400   0.654799      0.266667      0.125              1.0000   \n",
              "3  13418779   0.871016      0.200000      0.125              0.9463   \n",
              "4   3808709   0.624300      0.066667      0.125              1.0000   \n",
              "5  12422935   0.584528      0.066667      0.125              1.0000   \n",
              "6  11825529   0.581396      0.133333      0.125              1.0000   \n",
              "7  13971273   0.629900      0.066667      0.125              1.0000   \n",
              "8    180792   0.629900      0.066667      0.125              1.0000   \n",
              "9   5385260   0.471491      0.066667      0.125              1.0000   \n",
              "\n",
              "   number_of_reviews  review_scores_rating  bedrooms      beds  cleaning_fee  \\\n",
              "0           0.003306              1.000000       0.1  0.055556             1   \n",
              "1           0.009917              0.912500       0.3  0.166667             1   \n",
              "2           0.016529              0.900000       0.1  0.166667             1   \n",
              "3           0.000000              0.933417       0.2  0.111111             1   \n",
              "4           0.006612              0.250000       0.0  0.055556             1   \n",
              "5           0.004959              1.000000       0.1  0.055556             1   \n",
              "6           0.024793              0.962500       0.1  0.055556             1   \n",
              "7           0.014876              0.912500       0.1  0.055556             1   \n",
              "8           0.262810              0.987500       0.1  0.055556             1   \n",
              "9           0.003306              0.875000       0.1  0.055556             1   \n",
              "\n",
              "   host_has_profile_pic  host_identity_verified  instant_bookable  \n",
              "0                   1.0                     1.0               0.0  \n",
              "1                   1.0                     0.0               1.0  \n",
              "2                   1.0                     1.0               1.0  \n",
              "3                   1.0                     1.0               0.0  \n",
              "4                   1.0                     1.0               1.0  \n",
              "5                   1.0                     1.0               1.0  \n",
              "6                   1.0                     0.0               1.0  \n",
              "7                   1.0                     1.0               0.0  \n",
              "8                   1.0                     0.0               0.0  \n",
              "9                   1.0                     0.0               1.0  "
            ]
          },
          "metadata": {
            "tags": []
          },
          "execution_count": 51
        }
      ]
    },
    {
      "cell_type": "code",
      "metadata": {
        "id": "GytWX5KjXWSJ",
        "colab_type": "code",
        "colab": {
          "base_uri": "https://localhost:8080/",
          "height": 363
        },
        "outputId": "352a4a48-ce81-4003-d867-cb89f5f84677"
      },
      "source": [
        "air_voice_no_null.head(n=10)"
      ],
      "execution_count": 52,
      "outputs": [
        {
          "output_type": "execute_result",
          "data": {
            "text/html": [
              "<div>\n",
              "<style scoped>\n",
              "    .dataframe tbody tr th:only-of-type {\n",
              "        vertical-align: middle;\n",
              "    }\n",
              "\n",
              "    .dataframe tbody tr th {\n",
              "        vertical-align: top;\n",
              "    }\n",
              "\n",
              "    .dataframe thead th {\n",
              "        text-align: right;\n",
              "    }\n",
              "</style>\n",
              "<table border=\"1\" class=\"dataframe\">\n",
              "  <thead>\n",
              "    <tr style=\"text-align: right;\">\n",
              "      <th></th>\n",
              "      <th>id</th>\n",
              "      <th>log_price</th>\n",
              "      <th>accommodates</th>\n",
              "      <th>bathrooms</th>\n",
              "      <th>host_response_rate</th>\n",
              "      <th>number_of_reviews</th>\n",
              "      <th>review_scores_rating</th>\n",
              "      <th>bedrooms</th>\n",
              "      <th>beds</th>\n",
              "      <th>cleaning_fee</th>\n",
              "      <th>host_has_profile_pic</th>\n",
              "      <th>host_identity_verified</th>\n",
              "      <th>instant_bookable</th>\n",
              "    </tr>\n",
              "  </thead>\n",
              "  <tbody>\n",
              "    <tr>\n",
              "      <th>0</th>\n",
              "      <td>6901257</td>\n",
              "      <td>0.659259</td>\n",
              "      <td>0.133333</td>\n",
              "      <td>0.125</td>\n",
              "      <td>0.9395</td>\n",
              "      <td>0.003306</td>\n",
              "      <td>1.000000</td>\n",
              "      <td>0.1</td>\n",
              "      <td>0.055556</td>\n",
              "      <td>1</td>\n",
              "      <td>1.0</td>\n",
              "      <td>1.0</td>\n",
              "      <td>0.0</td>\n",
              "    </tr>\n",
              "    <tr>\n",
              "      <th>1</th>\n",
              "      <td>6304928</td>\n",
              "      <td>0.674951</td>\n",
              "      <td>0.400000</td>\n",
              "      <td>0.125</td>\n",
              "      <td>1.0000</td>\n",
              "      <td>0.009917</td>\n",
              "      <td>0.912500</td>\n",
              "      <td>0.3</td>\n",
              "      <td>0.166667</td>\n",
              "      <td>1</td>\n",
              "      <td>1.0</td>\n",
              "      <td>0.0</td>\n",
              "      <td>1.0</td>\n",
              "    </tr>\n",
              "    <tr>\n",
              "      <th>2</th>\n",
              "      <td>7919400</td>\n",
              "      <td>0.654799</td>\n",
              "      <td>0.266667</td>\n",
              "      <td>0.125</td>\n",
              "      <td>1.0000</td>\n",
              "      <td>0.016529</td>\n",
              "      <td>0.900000</td>\n",
              "      <td>0.1</td>\n",
              "      <td>0.166667</td>\n",
              "      <td>1</td>\n",
              "      <td>1.0</td>\n",
              "      <td>1.0</td>\n",
              "      <td>1.0</td>\n",
              "    </tr>\n",
              "    <tr>\n",
              "      <th>3</th>\n",
              "      <td>13418779</td>\n",
              "      <td>0.871016</td>\n",
              "      <td>0.200000</td>\n",
              "      <td>0.125</td>\n",
              "      <td>0.9463</td>\n",
              "      <td>0.000000</td>\n",
              "      <td>0.933417</td>\n",
              "      <td>0.2</td>\n",
              "      <td>0.111111</td>\n",
              "      <td>1</td>\n",
              "      <td>1.0</td>\n",
              "      <td>1.0</td>\n",
              "      <td>0.0</td>\n",
              "    </tr>\n",
              "    <tr>\n",
              "      <th>4</th>\n",
              "      <td>3808709</td>\n",
              "      <td>0.624300</td>\n",
              "      <td>0.066667</td>\n",
              "      <td>0.125</td>\n",
              "      <td>1.0000</td>\n",
              "      <td>0.006612</td>\n",
              "      <td>0.250000</td>\n",
              "      <td>0.0</td>\n",
              "      <td>0.055556</td>\n",
              "      <td>1</td>\n",
              "      <td>1.0</td>\n",
              "      <td>1.0</td>\n",
              "      <td>1.0</td>\n",
              "    </tr>\n",
              "    <tr>\n",
              "      <th>5</th>\n",
              "      <td>12422935</td>\n",
              "      <td>0.584528</td>\n",
              "      <td>0.066667</td>\n",
              "      <td>0.125</td>\n",
              "      <td>1.0000</td>\n",
              "      <td>0.004959</td>\n",
              "      <td>1.000000</td>\n",
              "      <td>0.1</td>\n",
              "      <td>0.055556</td>\n",
              "      <td>1</td>\n",
              "      <td>1.0</td>\n",
              "      <td>1.0</td>\n",
              "      <td>1.0</td>\n",
              "    </tr>\n",
              "    <tr>\n",
              "      <th>6</th>\n",
              "      <td>11825529</td>\n",
              "      <td>0.581396</td>\n",
              "      <td>0.133333</td>\n",
              "      <td>0.125</td>\n",
              "      <td>1.0000</td>\n",
              "      <td>0.024793</td>\n",
              "      <td>0.962500</td>\n",
              "      <td>0.1</td>\n",
              "      <td>0.055556</td>\n",
              "      <td>1</td>\n",
              "      <td>1.0</td>\n",
              "      <td>0.0</td>\n",
              "      <td>1.0</td>\n",
              "    </tr>\n",
              "    <tr>\n",
              "      <th>7</th>\n",
              "      <td>13971273</td>\n",
              "      <td>0.629900</td>\n",
              "      <td>0.066667</td>\n",
              "      <td>0.125</td>\n",
              "      <td>1.0000</td>\n",
              "      <td>0.014876</td>\n",
              "      <td>0.912500</td>\n",
              "      <td>0.1</td>\n",
              "      <td>0.055556</td>\n",
              "      <td>1</td>\n",
              "      <td>1.0</td>\n",
              "      <td>1.0</td>\n",
              "      <td>0.0</td>\n",
              "    </tr>\n",
              "    <tr>\n",
              "      <th>8</th>\n",
              "      <td>180792</td>\n",
              "      <td>0.629900</td>\n",
              "      <td>0.066667</td>\n",
              "      <td>0.125</td>\n",
              "      <td>1.0000</td>\n",
              "      <td>0.262810</td>\n",
              "      <td>0.987500</td>\n",
              "      <td>0.1</td>\n",
              "      <td>0.055556</td>\n",
              "      <td>1</td>\n",
              "      <td>1.0</td>\n",
              "      <td>0.0</td>\n",
              "      <td>0.0</td>\n",
              "    </tr>\n",
              "    <tr>\n",
              "      <th>9</th>\n",
              "      <td>5385260</td>\n",
              "      <td>0.471491</td>\n",
              "      <td>0.066667</td>\n",
              "      <td>0.125</td>\n",
              "      <td>1.0000</td>\n",
              "      <td>0.003306</td>\n",
              "      <td>0.875000</td>\n",
              "      <td>0.1</td>\n",
              "      <td>0.055556</td>\n",
              "      <td>1</td>\n",
              "      <td>1.0</td>\n",
              "      <td>0.0</td>\n",
              "      <td>1.0</td>\n",
              "    </tr>\n",
              "  </tbody>\n",
              "</table>\n",
              "</div>"
            ],
            "text/plain": [
              "         id  log_price  accommodates  bathrooms  host_response_rate  \\\n",
              "0   6901257   0.659259      0.133333      0.125              0.9395   \n",
              "1   6304928   0.674951      0.400000      0.125              1.0000   \n",
              "2   7919400   0.654799      0.266667      0.125              1.0000   \n",
              "3  13418779   0.871016      0.200000      0.125              0.9463   \n",
              "4   3808709   0.624300      0.066667      0.125              1.0000   \n",
              "5  12422935   0.584528      0.066667      0.125              1.0000   \n",
              "6  11825529   0.581396      0.133333      0.125              1.0000   \n",
              "7  13971273   0.629900      0.066667      0.125              1.0000   \n",
              "8    180792   0.629900      0.066667      0.125              1.0000   \n",
              "9   5385260   0.471491      0.066667      0.125              1.0000   \n",
              "\n",
              "   number_of_reviews  review_scores_rating  bedrooms      beds  cleaning_fee  \\\n",
              "0           0.003306              1.000000       0.1  0.055556             1   \n",
              "1           0.009917              0.912500       0.3  0.166667             1   \n",
              "2           0.016529              0.900000       0.1  0.166667             1   \n",
              "3           0.000000              0.933417       0.2  0.111111             1   \n",
              "4           0.006612              0.250000       0.0  0.055556             1   \n",
              "5           0.004959              1.000000       0.1  0.055556             1   \n",
              "6           0.024793              0.962500       0.1  0.055556             1   \n",
              "7           0.014876              0.912500       0.1  0.055556             1   \n",
              "8           0.262810              0.987500       0.1  0.055556             1   \n",
              "9           0.003306              0.875000       0.1  0.055556             1   \n",
              "\n",
              "   host_has_profile_pic  host_identity_verified  instant_bookable  \n",
              "0                   1.0                     1.0               0.0  \n",
              "1                   1.0                     0.0               1.0  \n",
              "2                   1.0                     1.0               1.0  \n",
              "3                   1.0                     1.0               0.0  \n",
              "4                   1.0                     1.0               1.0  \n",
              "5                   1.0                     1.0               1.0  \n",
              "6                   1.0                     0.0               1.0  \n",
              "7                   1.0                     1.0               0.0  \n",
              "8                   1.0                     0.0               0.0  \n",
              "9                   1.0                     0.0               1.0  "
            ]
          },
          "metadata": {
            "tags": []
          },
          "execution_count": 52
        }
      ]
    },
    {
      "cell_type": "markdown",
      "metadata": {
        "heading_collapsed": true,
        "id": "1VkXW__ZlW_0",
        "colab_type": "text"
      },
      "source": [
        "# let's impute `host_has_profile_pic` column"
      ]
    },
    {
      "cell_type": "code",
      "metadata": {
        "id": "V8W2IB7mTaER",
        "colab_type": "code",
        "colab": {
          "base_uri": "https://localhost:8080/",
          "height": 134
        },
        "outputId": "3323f094-f97b-4ad1-ac8c-ac61579ba69a"
      },
      "source": [
        "print(air_voice_no_null.loc[:,\"host_has_profile_pic\"].value_counts(normalize=True))\n",
        "print()\n",
        "print(air_voice_no_null.loc[:,\"host_has_profile_pic\"].value_counts())"
      ],
      "execution_count": 53,
      "outputs": [
        {
          "output_type": "stream",
          "text": [
            "1.0    0.996943\n",
            "0.0    0.003057\n",
            "Name: host_has_profile_pic, dtype: float64\n",
            "\n",
            "1.0    73697\n",
            "0.0      226\n",
            "Name: host_has_profile_pic, dtype: int64\n"
          ],
          "name": "stdout"
        }
      ]
    },
    {
      "cell_type": "code",
      "metadata": {
        "id": "sEiY3B7zTTQ2",
        "colab_type": "code",
        "colab": {
          "base_uri": "https://localhost:8080/",
          "height": 67
        },
        "outputId": "689473d3-8912-4b19-fafb-87b2b9b0a302"
      },
      "source": [
        "# # Since we have a column that is highly unbalanced, considering all rows for training makes no sense.\n",
        "# # And predictions will be highly biased too.\n",
        "\n",
        "# # So, let's make a new balanced that has balanced class\n",
        "# air_profile = pd.concat([\n",
        "#     air_voice_no_null[air_voice_no_null.loc[:,\"host_has_profile_pic\"] == 0].sample(frac=.999999),\n",
        "#     air_voice_no_null[air_voice_no_null.loc[:,\"host_has_profile_pic\"] == 1].sample(frac=.004)\n",
        "# ])\n",
        "\n",
        "air_profile = pd.concat([\n",
        "    air_voice_no_null[air_voice_no_null.loc[:,\"host_has_profile_pic\"] == 0].sample(n=226),\n",
        "    air_voice_no_null[air_voice_no_null.loc[:,\"host_has_profile_pic\"] == 1].sample(n=290)\n",
        "])\n",
        "\n",
        "air_profile.loc[:,\"host_has_profile_pic\"].value_counts(normalize=True)"
      ],
      "execution_count": 54,
      "outputs": [
        {
          "output_type": "execute_result",
          "data": {
            "text/plain": [
              "1.0    0.562016\n",
              "0.0    0.437984\n",
              "Name: host_has_profile_pic, dtype: float64"
            ]
          },
          "metadata": {
            "tags": []
          },
          "execution_count": 54
        }
      ]
    },
    {
      "cell_type": "code",
      "metadata": {
        "id": "y0MOvco4VrlO",
        "colab_type": "code",
        "colab": {
          "base_uri": "https://localhost:8080/",
          "height": 747
        },
        "outputId": "656e0898-9268-4a0b-d9f9-9c6f6f52016d"
      },
      "source": [
        "air_profile.set_index(\"id\")"
      ],
      "execution_count": 56,
      "outputs": [
        {
          "output_type": "execute_result",
          "data": {
            "text/html": [
              "<div>\n",
              "<style scoped>\n",
              "    .dataframe tbody tr th:only-of-type {\n",
              "        vertical-align: middle;\n",
              "    }\n",
              "\n",
              "    .dataframe tbody tr th {\n",
              "        vertical-align: top;\n",
              "    }\n",
              "\n",
              "    .dataframe thead th {\n",
              "        text-align: right;\n",
              "    }\n",
              "</style>\n",
              "<table border=\"1\" class=\"dataframe\">\n",
              "  <thead>\n",
              "    <tr style=\"text-align: right;\">\n",
              "      <th></th>\n",
              "      <th>log_price</th>\n",
              "      <th>accommodates</th>\n",
              "      <th>bathrooms</th>\n",
              "      <th>host_response_rate</th>\n",
              "      <th>number_of_reviews</th>\n",
              "      <th>review_scores_rating</th>\n",
              "      <th>bedrooms</th>\n",
              "      <th>beds</th>\n",
              "      <th>cleaning_fee</th>\n",
              "      <th>host_has_profile_pic</th>\n",
              "      <th>host_identity_verified</th>\n",
              "      <th>instant_bookable</th>\n",
              "    </tr>\n",
              "    <tr>\n",
              "      <th>id</th>\n",
              "      <th></th>\n",
              "      <th></th>\n",
              "      <th></th>\n",
              "      <th></th>\n",
              "      <th></th>\n",
              "      <th></th>\n",
              "      <th></th>\n",
              "      <th></th>\n",
              "      <th></th>\n",
              "      <th></th>\n",
              "      <th></th>\n",
              "      <th></th>\n",
              "    </tr>\n",
              "  </thead>\n",
              "  <tbody>\n",
              "    <tr>\n",
              "      <th>19088709</th>\n",
              "      <td>0.557090</td>\n",
              "      <td>0.000000</td>\n",
              "      <td>0.1250</td>\n",
              "      <td>0.91730</td>\n",
              "      <td>0.000000</td>\n",
              "      <td>0.928881</td>\n",
              "      <td>0.1</td>\n",
              "      <td>0.055556</td>\n",
              "      <td>0</td>\n",
              "      <td>0.0</td>\n",
              "      <td>0.0</td>\n",
              "      <td>0.0</td>\n",
              "    </tr>\n",
              "    <tr>\n",
              "      <th>12891469</th>\n",
              "      <td>0.852188</td>\n",
              "      <td>0.200000</td>\n",
              "      <td>0.1250</td>\n",
              "      <td>1.00000</td>\n",
              "      <td>0.003306</td>\n",
              "      <td>1.000000</td>\n",
              "      <td>0.1</td>\n",
              "      <td>0.111111</td>\n",
              "      <td>1</td>\n",
              "      <td>0.0</td>\n",
              "      <td>0.0</td>\n",
              "      <td>0.0</td>\n",
              "    </tr>\n",
              "    <tr>\n",
              "      <th>14911027</th>\n",
              "      <td>0.703530</td>\n",
              "      <td>0.200000</td>\n",
              "      <td>0.1250</td>\n",
              "      <td>1.00000</td>\n",
              "      <td>0.000000</td>\n",
              "      <td>0.933569</td>\n",
              "      <td>0.1</td>\n",
              "      <td>0.166667</td>\n",
              "      <td>1</td>\n",
              "      <td>0.0</td>\n",
              "      <td>0.0</td>\n",
              "      <td>1.0</td>\n",
              "    </tr>\n",
              "    <tr>\n",
              "      <th>21052765</th>\n",
              "      <td>0.605911</td>\n",
              "      <td>0.066667</td>\n",
              "      <td>0.1250</td>\n",
              "      <td>0.93600</td>\n",
              "      <td>0.000000</td>\n",
              "      <td>0.937752</td>\n",
              "      <td>0.0</td>\n",
              "      <td>0.055556</td>\n",
              "      <td>1</td>\n",
              "      <td>0.0</td>\n",
              "      <td>0.0</td>\n",
              "      <td>0.0</td>\n",
              "    </tr>\n",
              "    <tr>\n",
              "      <th>18343907</th>\n",
              "      <td>0.574897</td>\n",
              "      <td>0.000000</td>\n",
              "      <td>0.1250</td>\n",
              "      <td>0.90000</td>\n",
              "      <td>0.231405</td>\n",
              "      <td>0.925000</td>\n",
              "      <td>0.1</td>\n",
              "      <td>0.055556</td>\n",
              "      <td>1</td>\n",
              "      <td>0.0</td>\n",
              "      <td>0.0</td>\n",
              "      <td>1.0</td>\n",
              "    </tr>\n",
              "    <tr>\n",
              "      <th>5969033</th>\n",
              "      <td>0.750458</td>\n",
              "      <td>0.466667</td>\n",
              "      <td>0.3125</td>\n",
              "      <td>0.95270</td>\n",
              "      <td>0.000000</td>\n",
              "      <td>0.931603</td>\n",
              "      <td>0.0</td>\n",
              "      <td>0.111111</td>\n",
              "      <td>0</td>\n",
              "      <td>0.0</td>\n",
              "      <td>0.0</td>\n",
              "      <td>1.0</td>\n",
              "    </tr>\n",
              "    <tr>\n",
              "      <th>15618172</th>\n",
              "      <td>0.659259</td>\n",
              "      <td>0.200000</td>\n",
              "      <td>0.1250</td>\n",
              "      <td>1.00000</td>\n",
              "      <td>0.061157</td>\n",
              "      <td>0.900000</td>\n",
              "      <td>0.1</td>\n",
              "      <td>0.111111</td>\n",
              "      <td>1</td>\n",
              "      <td>0.0</td>\n",
              "      <td>1.0</td>\n",
              "      <td>0.0</td>\n",
              "    </tr>\n",
              "    <tr>\n",
              "      <th>2038551</th>\n",
              "      <td>0.543015</td>\n",
              "      <td>0.200000</td>\n",
              "      <td>0.1250</td>\n",
              "      <td>0.95325</td>\n",
              "      <td>0.000000</td>\n",
              "      <td>0.900907</td>\n",
              "      <td>0.1</td>\n",
              "      <td>0.111111</td>\n",
              "      <td>1</td>\n",
              "      <td>0.0</td>\n",
              "      <td>0.0</td>\n",
              "      <td>1.0</td>\n",
              "    </tr>\n",
              "    <tr>\n",
              "      <th>4914460</th>\n",
              "      <td>0.654799</td>\n",
              "      <td>0.066667</td>\n",
              "      <td>0.1250</td>\n",
              "      <td>1.00000</td>\n",
              "      <td>0.099174</td>\n",
              "      <td>0.925000</td>\n",
              "      <td>0.1</td>\n",
              "      <td>0.055556</td>\n",
              "      <td>1</td>\n",
              "      <td>0.0</td>\n",
              "      <td>0.0</td>\n",
              "      <td>0.0</td>\n",
              "    </tr>\n",
              "    <tr>\n",
              "      <th>4902565</th>\n",
              "      <td>0.741380</td>\n",
              "      <td>0.200000</td>\n",
              "      <td>0.2500</td>\n",
              "      <td>0.94335</td>\n",
              "      <td>0.000000</td>\n",
              "      <td>0.945615</td>\n",
              "      <td>0.1</td>\n",
              "      <td>0.111111</td>\n",
              "      <td>0</td>\n",
              "      <td>0.0</td>\n",
              "      <td>0.0</td>\n",
              "      <td>0.0</td>\n",
              "    </tr>\n",
              "    <tr>\n",
              "      <th>...</th>\n",
              "      <td>...</td>\n",
              "      <td>...</td>\n",
              "      <td>...</td>\n",
              "      <td>...</td>\n",
              "      <td>...</td>\n",
              "      <td>...</td>\n",
              "      <td>...</td>\n",
              "      <td>...</td>\n",
              "      <td>...</td>\n",
              "      <td>...</td>\n",
              "      <td>...</td>\n",
              "      <td>...</td>\n",
              "    </tr>\n",
              "    <tr>\n",
              "      <th>1016004</th>\n",
              "      <td>0.634214</td>\n",
              "      <td>0.133333</td>\n",
              "      <td>0.1250</td>\n",
              "      <td>1.00000</td>\n",
              "      <td>0.001653</td>\n",
              "      <td>1.000000</td>\n",
              "      <td>0.1</td>\n",
              "      <td>0.055556</td>\n",
              "      <td>1</td>\n",
              "      <td>1.0</td>\n",
              "      <td>1.0</td>\n",
              "      <td>0.0</td>\n",
              "    </tr>\n",
              "    <tr>\n",
              "      <th>14109765</th>\n",
              "      <td>0.538701</td>\n",
              "      <td>0.066667</td>\n",
              "      <td>0.3750</td>\n",
              "      <td>1.00000</td>\n",
              "      <td>0.044628</td>\n",
              "      <td>0.937500</td>\n",
              "      <td>0.1</td>\n",
              "      <td>0.055556</td>\n",
              "      <td>1</td>\n",
              "      <td>1.0</td>\n",
              "      <td>1.0</td>\n",
              "      <td>0.0</td>\n",
              "    </tr>\n",
              "    <tr>\n",
              "      <th>3779790</th>\n",
              "      <td>0.592049</td>\n",
              "      <td>0.066667</td>\n",
              "      <td>0.1250</td>\n",
              "      <td>1.00000</td>\n",
              "      <td>0.004959</td>\n",
              "      <td>0.912500</td>\n",
              "      <td>0.2</td>\n",
              "      <td>0.111111</td>\n",
              "      <td>1</td>\n",
              "      <td>1.0</td>\n",
              "      <td>1.0</td>\n",
              "      <td>0.0</td>\n",
              "    </tr>\n",
              "    <tr>\n",
              "      <th>7439885</th>\n",
              "      <td>0.605911</td>\n",
              "      <td>0.000000</td>\n",
              "      <td>0.1250</td>\n",
              "      <td>0.92610</td>\n",
              "      <td>0.000000</td>\n",
              "      <td>0.935333</td>\n",
              "      <td>0.1</td>\n",
              "      <td>0.055556</td>\n",
              "      <td>0</td>\n",
              "      <td>1.0</td>\n",
              "      <td>0.0</td>\n",
              "      <td>1.0</td>\n",
              "    </tr>\n",
              "    <tr>\n",
              "      <th>14200668</th>\n",
              "      <td>0.514713</td>\n",
              "      <td>0.066667</td>\n",
              "      <td>0.1250</td>\n",
              "      <td>0.95865</td>\n",
              "      <td>0.000000</td>\n",
              "      <td>0.922681</td>\n",
              "      <td>0.1</td>\n",
              "      <td>0.055556</td>\n",
              "      <td>1</td>\n",
              "      <td>1.0</td>\n",
              "      <td>1.0</td>\n",
              "      <td>0.0</td>\n",
              "    </tr>\n",
              "    <tr>\n",
              "      <th>1174346</th>\n",
              "      <td>0.557090</td>\n",
              "      <td>0.066667</td>\n",
              "      <td>0.1875</td>\n",
              "      <td>1.00000</td>\n",
              "      <td>0.193388</td>\n",
              "      <td>0.962500</td>\n",
              "      <td>0.1</td>\n",
              "      <td>0.055556</td>\n",
              "      <td>1</td>\n",
              "      <td>1.0</td>\n",
              "      <td>1.0</td>\n",
              "      <td>1.0</td>\n",
              "    </tr>\n",
              "    <tr>\n",
              "      <th>13056839</th>\n",
              "      <td>0.519873</td>\n",
              "      <td>0.066667</td>\n",
              "      <td>0.1250</td>\n",
              "      <td>1.00000</td>\n",
              "      <td>0.024793</td>\n",
              "      <td>0.837500</td>\n",
              "      <td>0.1</td>\n",
              "      <td>0.055556</td>\n",
              "      <td>1</td>\n",
              "      <td>1.0</td>\n",
              "      <td>0.0</td>\n",
              "      <td>1.0</td>\n",
              "    </tr>\n",
              "    <tr>\n",
              "      <th>450939</th>\n",
              "      <td>0.803806</td>\n",
              "      <td>0.266667</td>\n",
              "      <td>0.3125</td>\n",
              "      <td>1.00000</td>\n",
              "      <td>0.011570</td>\n",
              "      <td>0.887500</td>\n",
              "      <td>0.2</td>\n",
              "      <td>0.166667</td>\n",
              "      <td>0</td>\n",
              "      <td>1.0</td>\n",
              "      <td>0.0</td>\n",
              "      <td>0.0</td>\n",
              "    </tr>\n",
              "    <tr>\n",
              "      <th>7221712</th>\n",
              "      <td>0.592049</td>\n",
              "      <td>0.066667</td>\n",
              "      <td>0.1250</td>\n",
              "      <td>1.00000</td>\n",
              "      <td>0.042975</td>\n",
              "      <td>0.937500</td>\n",
              "      <td>0.0</td>\n",
              "      <td>0.055556</td>\n",
              "      <td>0</td>\n",
              "      <td>1.0</td>\n",
              "      <td>1.0</td>\n",
              "      <td>0.0</td>\n",
              "    </tr>\n",
              "    <tr>\n",
              "      <th>9199352</th>\n",
              "      <td>0.635271</td>\n",
              "      <td>0.066667</td>\n",
              "      <td>0.1250</td>\n",
              "      <td>1.00000</td>\n",
              "      <td>0.001653</td>\n",
              "      <td>1.000000</td>\n",
              "      <td>0.1</td>\n",
              "      <td>0.055556</td>\n",
              "      <td>1</td>\n",
              "      <td>1.0</td>\n",
              "      <td>1.0</td>\n",
              "      <td>0.0</td>\n",
              "    </tr>\n",
              "  </tbody>\n",
              "</table>\n",
              "<p>516 rows × 12 columns</p>\n",
              "</div>"
            ],
            "text/plain": [
              "          log_price  accommodates  bathrooms  host_response_rate  \\\n",
              "id                                                                 \n",
              "19088709   0.557090      0.000000     0.1250             0.91730   \n",
              "12891469   0.852188      0.200000     0.1250             1.00000   \n",
              "14911027   0.703530      0.200000     0.1250             1.00000   \n",
              "21052765   0.605911      0.066667     0.1250             0.93600   \n",
              "18343907   0.574897      0.000000     0.1250             0.90000   \n",
              "5969033    0.750458      0.466667     0.3125             0.95270   \n",
              "15618172   0.659259      0.200000     0.1250             1.00000   \n",
              "2038551    0.543015      0.200000     0.1250             0.95325   \n",
              "4914460    0.654799      0.066667     0.1250             1.00000   \n",
              "4902565    0.741380      0.200000     0.2500             0.94335   \n",
              "...             ...           ...        ...                 ...   \n",
              "1016004    0.634214      0.133333     0.1250             1.00000   \n",
              "14109765   0.538701      0.066667     0.3750             1.00000   \n",
              "3779790    0.592049      0.066667     0.1250             1.00000   \n",
              "7439885    0.605911      0.000000     0.1250             0.92610   \n",
              "14200668   0.514713      0.066667     0.1250             0.95865   \n",
              "1174346    0.557090      0.066667     0.1875             1.00000   \n",
              "13056839   0.519873      0.066667     0.1250             1.00000   \n",
              "450939     0.803806      0.266667     0.3125             1.00000   \n",
              "7221712    0.592049      0.066667     0.1250             1.00000   \n",
              "9199352    0.635271      0.066667     0.1250             1.00000   \n",
              "\n",
              "          number_of_reviews  review_scores_rating  bedrooms      beds  \\\n",
              "id                                                                      \n",
              "19088709           0.000000              0.928881       0.1  0.055556   \n",
              "12891469           0.003306              1.000000       0.1  0.111111   \n",
              "14911027           0.000000              0.933569       0.1  0.166667   \n",
              "21052765           0.000000              0.937752       0.0  0.055556   \n",
              "18343907           0.231405              0.925000       0.1  0.055556   \n",
              "5969033            0.000000              0.931603       0.0  0.111111   \n",
              "15618172           0.061157              0.900000       0.1  0.111111   \n",
              "2038551            0.000000              0.900907       0.1  0.111111   \n",
              "4914460            0.099174              0.925000       0.1  0.055556   \n",
              "4902565            0.000000              0.945615       0.1  0.111111   \n",
              "...                     ...                   ...       ...       ...   \n",
              "1016004            0.001653              1.000000       0.1  0.055556   \n",
              "14109765           0.044628              0.937500       0.1  0.055556   \n",
              "3779790            0.004959              0.912500       0.2  0.111111   \n",
              "7439885            0.000000              0.935333       0.1  0.055556   \n",
              "14200668           0.000000              0.922681       0.1  0.055556   \n",
              "1174346            0.193388              0.962500       0.1  0.055556   \n",
              "13056839           0.024793              0.837500       0.1  0.055556   \n",
              "450939             0.011570              0.887500       0.2  0.166667   \n",
              "7221712            0.042975              0.937500       0.0  0.055556   \n",
              "9199352            0.001653              1.000000       0.1  0.055556   \n",
              "\n",
              "          cleaning_fee  host_has_profile_pic  host_identity_verified  \\\n",
              "id                                                                     \n",
              "19088709             0                   0.0                     0.0   \n",
              "12891469             1                   0.0                     0.0   \n",
              "14911027             1                   0.0                     0.0   \n",
              "21052765             1                   0.0                     0.0   \n",
              "18343907             1                   0.0                     0.0   \n",
              "5969033              0                   0.0                     0.0   \n",
              "15618172             1                   0.0                     1.0   \n",
              "2038551              1                   0.0                     0.0   \n",
              "4914460              1                   0.0                     0.0   \n",
              "4902565              0                   0.0                     0.0   \n",
              "...                ...                   ...                     ...   \n",
              "1016004              1                   1.0                     1.0   \n",
              "14109765             1                   1.0                     1.0   \n",
              "3779790              1                   1.0                     1.0   \n",
              "7439885              0                   1.0                     0.0   \n",
              "14200668             1                   1.0                     1.0   \n",
              "1174346              1                   1.0                     1.0   \n",
              "13056839             1                   1.0                     0.0   \n",
              "450939               0                   1.0                     0.0   \n",
              "7221712              0                   1.0                     1.0   \n",
              "9199352              1                   1.0                     1.0   \n",
              "\n",
              "          instant_bookable  \n",
              "id                          \n",
              "19088709               0.0  \n",
              "12891469               0.0  \n",
              "14911027               1.0  \n",
              "21052765               0.0  \n",
              "18343907               1.0  \n",
              "5969033                1.0  \n",
              "15618172               0.0  \n",
              "2038551                1.0  \n",
              "4914460                0.0  \n",
              "4902565                0.0  \n",
              "...                    ...  \n",
              "1016004                0.0  \n",
              "14109765               0.0  \n",
              "3779790                0.0  \n",
              "7439885                1.0  \n",
              "14200668               0.0  \n",
              "1174346                1.0  \n",
              "13056839               1.0  \n",
              "450939                 0.0  \n",
              "7221712                0.0  \n",
              "9199352                0.0  \n",
              "\n",
              "[516 rows x 12 columns]"
            ]
          },
          "metadata": {
            "tags": []
          },
          "execution_count": 56
        }
      ]
    },
    {
      "cell_type": "code",
      "metadata": {
        "id": "NP4SsKP3YitJ",
        "colab_type": "code",
        "colab": {
          "base_uri": "https://localhost:8080/",
          "height": 84
        },
        "outputId": "f831094c-8d44-49b6-8412-930f2b8846fd"
      },
      "source": [
        "np.asarray(air_profile.columns.values)"
      ],
      "execution_count": 57,
      "outputs": [
        {
          "output_type": "execute_result",
          "data": {
            "text/plain": [
              "array(['id', 'log_price', 'accommodates', 'bathrooms',\n",
              "       'host_response_rate', 'number_of_reviews', 'review_scores_rating',\n",
              "       'bedrooms', 'beds', 'cleaning_fee', 'host_has_profile_pic',\n",
              "       'host_identity_verified', 'instant_bookable'], dtype=object)"
            ]
          },
          "metadata": {
            "tags": []
          },
          "execution_count": 57
        }
      ]
    },
    {
      "cell_type": "code",
      "metadata": {
        "id": "oNclzSajbrFa",
        "colab_type": "code",
        "colab": {
          "base_uri": "https://localhost:8080/",
          "height": 252
        },
        "outputId": "9306af01-b880-4577-9805-c3ab8b05f863"
      },
      "source": [
        "air_voice.isnull().sum()"
      ],
      "execution_count": 65,
      "outputs": [
        {
          "output_type": "execute_result",
          "data": {
            "text/plain": [
              "id                          0\n",
              "log_price                   0\n",
              "accommodates                0\n",
              "bathrooms                   0\n",
              "host_response_rate          0\n",
              "number_of_reviews           0\n",
              "review_scores_rating        0\n",
              "bedrooms                    0\n",
              "beds                        0\n",
              "cleaning_fee                0\n",
              "host_has_profile_pic      188\n",
              "host_identity_verified    188\n",
              "instant_bookable            0\n",
              "dtype: int64"
            ]
          },
          "metadata": {
            "tags": []
          },
          "execution_count": 65
        }
      ]
    },
    {
      "cell_type": "code",
      "metadata": {
        "id": "TiTPJDdWYGxo",
        "colab_type": "code",
        "colab": {}
      },
      "source": [
        "from sklearn.model_selection import train_test_split\n",
        "\n",
        "profile_x_train,profile_x_test,profile_y_train,profile_y_test = train_test_split(air_profile.loc[:,['log_price', 'accommodates', 'bathrooms',\n",
        "                                                                                                    'host_response_rate', 'number_of_reviews', \n",
        "                                                                                                    'review_scores_rating','bedrooms', 'beds', \n",
        "                                                                                                    'cleaning_fee', 'instant_bookable']],\n",
        "                                                                                air_profile.loc[:, 'host_has_profile_pic'],\n",
        "                                                                                test_size=0.2)"
      ],
      "execution_count": 0,
      "outputs": []
    },
    {
      "cell_type": "code",
      "metadata": {
        "id": "tI4ndA5nZA9m",
        "colab_type": "code",
        "colab": {
          "base_uri": "https://localhost:8080/",
          "height": 84
        },
        "outputId": "3952831f-170c-4de4-b93f-56b042bfcb3c"
      },
      "source": [
        "print(profile_x_train.shape)\n",
        "print(profile_x_test.shape)\n",
        "print(profile_y_train.shape)\n",
        "print(profile_y_test.shape)"
      ],
      "execution_count": 67,
      "outputs": [
        {
          "output_type": "stream",
          "text": [
            "(412, 10)\n",
            "(104, 10)\n",
            "(412,)\n",
            "(104,)\n"
          ],
          "name": "stdout"
        }
      ]
    },
    {
      "cell_type": "code",
      "metadata": {
        "id": "Vdozt14oa2st",
        "colab_type": "code",
        "colab": {
          "base_uri": "https://localhost:8080/",
          "height": 34
        },
        "outputId": "2921c415-628f-4191-e0e1-e6c7a44d6f17"
      },
      "source": [
        "import math\n",
        "math.sqrt(412+104)"
      ],
      "execution_count": 68,
      "outputs": [
        {
          "output_type": "execute_result",
          "data": {
            "text/plain": [
              "22.715633383201094"
            ]
          },
          "metadata": {
            "tags": []
          },
          "execution_count": 68
        }
      ]
    },
    {
      "cell_type": "code",
      "metadata": {
        "ExecuteTime": {
          "end_time": "2019-05-29T06:34:27.273571Z",
          "start_time": "2019-05-29T06:34:27.243524Z"
        },
        "hidden": true,
        "id": "OE57NRpTlW_8",
        "colab_type": "code",
        "colab": {}
      },
      "source": [
        "# # let's make train and test dataframes\n",
        "\n",
        "# profile_x    = air_voice_with_null.loc[:,['log_price', 'accommodates', 'bathrooms','host_response_rate',\n",
        "#                                           'number_of_reviews', 'review_scores_rating','bedrooms', 'beds', \n",
        "#                                           'cleaning_fee', 'instant_bookable']]\n",
        "# profile_y    = air_voice_with_null.loc[:, 'host_has_profile_pic']\n",
        "\n",
        "\n",
        "profile_test = air_voice_with_null.loc[:,['log_price', 'accommodates', 'bathrooms','host_response_rate', \n",
        "                                          'number_of_reviews', 'review_scores_rating','bedrooms', 'beds', \n",
        "                                          'cleaning_fee', 'instant_bookable']]"
      ],
      "execution_count": 0,
      "outputs": []
    },
    {
      "cell_type": "code",
      "metadata": {
        "id": "C1ZQbRKuZXOH",
        "colab_type": "code",
        "colab": {}
      },
      "source": [
        "# Let's train the KNN on dataframe with balanced classes and get appropriate K.\n",
        "# And get predictions based on that K value\n",
        "\n",
        "# getting appropriate K value\n",
        "k_profile = appropriate_k(x_train=profile_x_train, x_test=profile_x_test, y_train=profile_y_train, y_test=profile_y_test,k_max=24)"
      ],
      "execution_count": 0,
      "outputs": []
    },
    {
      "cell_type": "code",
      "metadata": {
        "id": "AL0Ty6NQhyCB",
        "colab_type": "code",
        "colab": {}
      },
      "source": [
        "# k_profile\n",
        "profile_predictions = get_knn_predictions(x_train=profile_x_train,y_train=profile_y_train,x_test=profile_test,n_neigh=k_profile)"
      ],
      "execution_count": 0,
      "outputs": []
    },
    {
      "cell_type": "code",
      "metadata": {
        "id": "fqbGGLY0hlyk",
        "colab_type": "code",
        "colab": {
          "base_uri": "https://localhost:8080/",
          "height": 34
        },
        "outputId": "c5f91109-b5b3-4cbe-9c4c-3fbc1e80defc"
      },
      "source": [
        "profile_predictions.shape"
      ],
      "execution_count": 92,
      "outputs": [
        {
          "output_type": "execute_result",
          "data": {
            "text/plain": [
              "(74111,)"
            ]
          },
          "metadata": {
            "tags": []
          },
          "execution_count": 92
        }
      ]
    },
    {
      "cell_type": "code",
      "metadata": {
        "id": "P0GWImD-habx",
        "colab_type": "code",
        "colab": {}
      },
      "source": [
        "profile_test.loc[:,\"host_has_profile_pic\"] = profile_predictions"
      ],
      "execution_count": 0,
      "outputs": []
    },
    {
      "cell_type": "code",
      "metadata": {
        "ExecuteTime": {
          "end_time": "2019-05-29T06:35:20.796416Z",
          "start_time": "2019-05-29T06:35:20.733611Z"
        },
        "hidden": true,
        "id": "RgUUj1LXlW__",
        "colab_type": "code",
        "outputId": "39771b9a-a29b-45b5-b27e-5e25233d59c9",
        "colab": {
          "base_uri": "https://localhost:8080/",
          "height": 252
        }
      },
      "source": [
        "# let's fill null values in original dataframe\n",
        "air_voice_with_null.loc[:,\"host_has_profile_pic\"].fillna(profile_test.loc[:,\"host_has_profile_pic\"], inplace=True)\n",
        "air_voice_with_null.isnull().sum()"
      ],
      "execution_count": 100,
      "outputs": [
        {
          "output_type": "execute_result",
          "data": {
            "text/plain": [
              "id                          0\n",
              "log_price                   0\n",
              "accommodates                0\n",
              "bathrooms                   0\n",
              "host_response_rate          0\n",
              "number_of_reviews           0\n",
              "review_scores_rating        0\n",
              "bedrooms                    0\n",
              "beds                        0\n",
              "cleaning_fee                0\n",
              "host_has_profile_pic        0\n",
              "host_identity_verified    188\n",
              "instant_bookable            0\n",
              "dtype: int64"
            ]
          },
          "metadata": {
            "tags": []
          },
          "execution_count": 100
        }
      ]
    },
    {
      "cell_type": "code",
      "metadata": {
        "id": "ggiIyjBlj6gc",
        "colab_type": "code",
        "colab": {
          "base_uri": "https://localhost:8080/",
          "height": 151
        },
        "outputId": "08a73d5f-b708-419b-ada7-1ba4b2d9a79f"
      },
      "source": [
        "# imputed\n",
        "print(air_voice_with_null.loc[:,\"host_has_profile_pic\"].value_counts(dropna=False))\n",
        "print()\n",
        "print(air_voice.loc[:,\"host_has_profile_pic\"].value_counts(dropna=False))"
      ],
      "execution_count": 116,
      "outputs": [
        {
          "output_type": "stream",
          "text": [
            "1.0    73832\n",
            "0.0      279\n",
            "Name: host_has_profile_pic, dtype: int64\n",
            "\n",
            "1.0    73697\n",
            "0.0      226\n",
            "NaN      188\n",
            "Name: host_has_profile_pic, dtype: int64\n"
          ],
          "name": "stdout"
        }
      ]
    },
    {
      "cell_type": "code",
      "metadata": {
        "id": "MFcaYgbjuWgU",
        "colab_type": "code",
        "colab": {
          "base_uri": "https://localhost:8080/",
          "height": 252
        },
        "outputId": "57aeb124-016c-4c00-bbaf-7c93c10e8a22"
      },
      "source": [
        "air_voice_with_null.isnull().sum()"
      ],
      "execution_count": 117,
      "outputs": [
        {
          "output_type": "execute_result",
          "data": {
            "text/plain": [
              "id                          0\n",
              "log_price                   0\n",
              "accommodates                0\n",
              "bathrooms                   0\n",
              "host_response_rate          0\n",
              "number_of_reviews           0\n",
              "review_scores_rating        0\n",
              "bedrooms                    0\n",
              "beds                        0\n",
              "cleaning_fee                0\n",
              "host_has_profile_pic        0\n",
              "host_identity_verified    188\n",
              "instant_bookable            0\n",
              "dtype: int64"
            ]
          },
          "metadata": {
            "tags": []
          },
          "execution_count": 117
        }
      ]
    },
    {
      "cell_type": "markdown",
      "metadata": {
        "id": "X3K5fIKSuQv3",
        "colab_type": "text"
      },
      "source": [
        "# let's impute `host_identity_verified` column"
      ]
    },
    {
      "cell_type": "code",
      "metadata": {
        "id": "PbK5f8-ju0mK",
        "colab_type": "code",
        "colab": {
          "base_uri": "https://localhost:8080/",
          "height": 134
        },
        "outputId": "f211101c-c60e-4c44-f4a8-c354a2d5ecb9"
      },
      "source": [
        "print(air_voice_no_null.loc[:,\"host_identity_verified\"].value_counts(normalize=True)*100)\n",
        "print()\n",
        "print(air_voice_no_null.loc[:,\"host_identity_verified\"].value_counts())"
      ],
      "execution_count": 120,
      "outputs": [
        {
          "output_type": "stream",
          "text": [
            "1.0    67.297052\n",
            "0.0    32.702948\n",
            "Name: host_identity_verified, dtype: float64\n",
            "\n",
            "1.0    49748\n",
            "0.0    24175\n",
            "Name: host_identity_verified, dtype: int64\n"
          ],
          "name": "stdout"
        }
      ]
    },
    {
      "cell_type": "code",
      "metadata": {
        "id": "IQRkfJaTu0ap",
        "colab_type": "code",
        "colab": {
          "base_uri": "https://localhost:8080/",
          "height": 67
        },
        "outputId": "0c231058-f006-41ac-e017-81376f425fa4"
      },
      "source": [
        "air_identity = pd.concat([\n",
        "    air_voice_no_null[air_voice_no_null.loc[:,\"host_identity_verified\"] == 0].sample(n=24175),\n",
        "    air_voice_no_null[air_voice_no_null.loc[:,\"host_identity_verified\"] == 1].sample(n=24175)\n",
        "])\n",
        "\n",
        "air_identity.loc[:,\"host_identity_verified\"].value_counts(normalize=True)"
      ],
      "execution_count": 121,
      "outputs": [
        {
          "output_type": "execute_result",
          "data": {
            "text/plain": [
              "1.0    0.5\n",
              "0.0    0.5\n",
              "Name: host_identity_verified, dtype: float64"
            ]
          },
          "metadata": {
            "tags": []
          },
          "execution_count": 121
        }
      ]
    },
    {
      "cell_type": "code",
      "metadata": {
        "id": "tRSlGqlRufWu",
        "colab_type": "code",
        "colab": {}
      },
      "source": [
        "from sklearn.model_selection import train_test_split\n",
        "\n",
        "identity_x_train,identity_x_test,identity_y_train,identity_y_test = train_test_split(air_identity.loc[:,['log_price', 'accommodates', 'bathrooms',\n",
        "                                                                                                    'host_response_rate', 'number_of_reviews', \n",
        "                                                                                                    'review_scores_rating','bedrooms', 'beds', \n",
        "                                                                                                    'cleaning_fee', 'instant_bookable']],\n",
        "                                                                                air_identity.loc[:, \"host_identity_verified\"],\n",
        "                                                                                test_size=0.2)"
      ],
      "execution_count": 0,
      "outputs": []
    },
    {
      "cell_type": "code",
      "metadata": {
        "id": "yHCHmX5yymUw",
        "colab_type": "code",
        "colab": {
          "base_uri": "https://localhost:8080/",
          "height": 84
        },
        "outputId": "61b2c7f7-6ddb-401b-f5ed-8fb68c397838"
      },
      "source": [
        "print(identity_x_train.shape)\n",
        "print(identity_x_test.shape)\n",
        "print(identity_y_train.shape)\n",
        "print(identity_y_test.shape)"
      ],
      "execution_count": 123,
      "outputs": [
        {
          "output_type": "stream",
          "text": [
            "(38680, 10)\n",
            "(9670, 10)\n",
            "(38680,)\n",
            "(9670,)\n"
          ],
          "name": "stdout"
        }
      ]
    },
    {
      "cell_type": "code",
      "metadata": {
        "id": "Z78oC-mc8jSY",
        "colab_type": "code",
        "colab": {
          "base_uri": "https://localhost:8080/",
          "height": 34
        },
        "outputId": "9bdc8ddf-3793-49f8-d6ba-868a7e97b5be"
      },
      "source": [
        "math.sqrt(38680)/2"
      ],
      "execution_count": 124,
      "outputs": [
        {
          "output_type": "execute_result",
          "data": {
            "text/plain": [
              "98.33615815151617"
            ]
          },
          "metadata": {
            "tags": []
          },
          "execution_count": 124
        }
      ]
    },
    {
      "cell_type": "code",
      "metadata": {
        "id": "1gfDhiAV7rGE",
        "colab_type": "code",
        "colab": {}
      },
      "source": [
        "# Let's train the KNN on dataframe with balanced classes and get appropriate K.\n",
        "# And get predictions based on that K value\n",
        "\n",
        "# getting appropriate K value\n",
        "k_identity = appropriate_k(x_train=identity_x_train, x_test=identity_x_test, y_train=identity_y_train, y_test=identity_y_test,k_max=100)"
      ],
      "execution_count": 0,
      "outputs": []
    },
    {
      "cell_type": "code",
      "metadata": {
        "id": "W0uoBEjw9xJz",
        "colab_type": "code",
        "colab": {
          "base_uri": "https://localhost:8080/",
          "height": 34
        },
        "outputId": "effee0d0-936e-4326-8f15-9b71b066f91b"
      },
      "source": [
        "k_identity"
      ],
      "execution_count": 126,
      "outputs": [
        {
          "output_type": "execute_result",
          "data": {
            "text/plain": [
              "83"
            ]
          },
          "metadata": {
            "tags": []
          },
          "execution_count": 126
        }
      ]
    },
    {
      "cell_type": "code",
      "metadata": {
        "id": "fxDM6Jt59F9Q",
        "colab_type": "code",
        "colab": {}
      },
      "source": [
        "identity_test = air_voice_with_null.loc[:,['log_price', 'accommodates', 'bathrooms','host_response_rate',\n",
        "                                           'number_of_reviews', 'review_scores_rating','bedrooms', 'beds', \n",
        "                                           'cleaning_fee', 'instant_bookable']]"
      ],
      "execution_count": 0,
      "outputs": []
    },
    {
      "cell_type": "code",
      "metadata": {
        "id": "C2FTfiIX8qLI",
        "colab_type": "code",
        "colab": {}
      },
      "source": [
        "# k_identity\n",
        "identity_predictions = get_knn_predictions(x_train=identity_x_train,y_train=identity_y_train,x_test=identity_test,n_neigh=k_identity)"
      ],
      "execution_count": 0,
      "outputs": []
    },
    {
      "cell_type": "code",
      "metadata": {
        "id": "n1zKLk0e-Irm",
        "colab_type": "code",
        "colab": {}
      },
      "source": [
        "identity_test.loc[:,\"host_identity_verified\"] = identity_predictions"
      ],
      "execution_count": 0,
      "outputs": []
    },
    {
      "cell_type": "code",
      "metadata": {
        "id": "8jXSax4P95jw",
        "colab_type": "code",
        "colab": {
          "base_uri": "https://localhost:8080/",
          "height": 252
        },
        "outputId": "506e7add-7d11-4d71-95eb-b8ba99d1006b"
      },
      "source": [
        "# let's fill null values in original dataframe\n",
        "air_voice_with_null.loc[:,\"host_identity_verified\"].fillna(identity_test.loc[:,\"host_identity_verified\"], inplace=True)\n",
        "air_voice_with_null.isnull().sum()"
      ],
      "execution_count": 130,
      "outputs": [
        {
          "output_type": "execute_result",
          "data": {
            "text/plain": [
              "id                        0\n",
              "log_price                 0\n",
              "accommodates              0\n",
              "bathrooms                 0\n",
              "host_response_rate        0\n",
              "number_of_reviews         0\n",
              "review_scores_rating      0\n",
              "bedrooms                  0\n",
              "beds                      0\n",
              "cleaning_fee              0\n",
              "host_has_profile_pic      0\n",
              "host_identity_verified    0\n",
              "instant_bookable          0\n",
              "dtype: int64"
            ]
          },
          "metadata": {
            "tags": []
          },
          "execution_count": 130
        }
      ]
    },
    {
      "cell_type": "markdown",
      "metadata": {
        "id": "3_3GB2-Y-Xhc",
        "colab_type": "text"
      },
      "source": [
        "# let's scale back and save it"
      ]
    },
    {
      "cell_type": "code",
      "metadata": {
        "id": "AVDf3d9-_QUA",
        "colab_type": "code",
        "colab": {
          "base_uri": "https://localhost:8080/",
          "height": 84
        },
        "outputId": "ff2b9a82-b081-4c9f-fa66-29d5fa93928b"
      },
      "source": [
        "np.asarray(air_voice_with_null.columns.values)"
      ],
      "execution_count": 131,
      "outputs": [
        {
          "output_type": "execute_result",
          "data": {
            "text/plain": [
              "array(['id', 'log_price', 'accommodates', 'bathrooms',\n",
              "       'host_response_rate', 'number_of_reviews', 'review_scores_rating',\n",
              "       'bedrooms', 'beds', 'cleaning_fee', 'host_has_profile_pic',\n",
              "       'host_identity_verified', 'instant_bookable'], dtype=object)"
            ]
          },
          "metadata": {
            "tags": []
          },
          "execution_count": 131
        }
      ]
    },
    {
      "cell_type": "code",
      "metadata": {
        "id": "tf1daX7K_YwL",
        "colab_type": "code",
        "colab": {
          "base_uri": "https://localhost:8080/",
          "height": 67
        },
        "outputId": "4645d894-0585-4243-8a5e-4d1892faaeb9"
      },
      "source": [
        "np.asarray(air_bnb_scaled.columns.values)"
      ],
      "execution_count": 132,
      "outputs": [
        {
          "output_type": "execute_result",
          "data": {
            "text/plain": [
              "array(['log_price', 'accommodates', 'bathrooms', 'host_response_rate',\n",
              "       'number_of_reviews', 'review_scores_rating', 'bedrooms', 'beds'],\n",
              "      dtype=object)"
            ]
          },
          "metadata": {
            "tags": []
          },
          "execution_count": 132
        }
      ]
    },
    {
      "cell_type": "code",
      "metadata": {
        "id": "qFSucqr0-a6e",
        "colab_type": "code",
        "colab": {
          "base_uri": "https://localhost:8080/",
          "height": 225
        },
        "outputId": "0fe5ca0d-32bb-4d3f-8c7f-fca9e74f1c43"
      },
      "source": [
        "original_data_num = pd.DataFrame(data=normalizer_max.inverse_transform(air_voice_with_null.loc[:,['log_price', 'accommodates', 'bathrooms', 'host_response_rate',\n",
        "       'number_of_reviews', 'review_scores_rating', 'bedrooms', 'beds']]),\n",
        "                              columns=air_bnb_columns,\n",
        "                              index=air_bnb_num[\"id\"])\n",
        "original_data_num.head()"
      ],
      "execution_count": 133,
      "outputs": [
        {
          "output_type": "execute_result",
          "data": {
            "text/html": [
              "<div>\n",
              "<style scoped>\n",
              "    .dataframe tbody tr th:only-of-type {\n",
              "        vertical-align: middle;\n",
              "    }\n",
              "\n",
              "    .dataframe tbody tr th {\n",
              "        vertical-align: top;\n",
              "    }\n",
              "\n",
              "    .dataframe thead th {\n",
              "        text-align: right;\n",
              "    }\n",
              "</style>\n",
              "<table border=\"1\" class=\"dataframe\">\n",
              "  <thead>\n",
              "    <tr style=\"text-align: right;\">\n",
              "      <th></th>\n",
              "      <th>log_price</th>\n",
              "      <th>accommodates</th>\n",
              "      <th>bathrooms</th>\n",
              "      <th>host_response_rate</th>\n",
              "      <th>number_of_reviews</th>\n",
              "      <th>review_scores_rating</th>\n",
              "      <th>bedrooms</th>\n",
              "      <th>beds</th>\n",
              "    </tr>\n",
              "    <tr>\n",
              "      <th>id</th>\n",
              "      <th></th>\n",
              "      <th></th>\n",
              "      <th></th>\n",
              "      <th></th>\n",
              "      <th></th>\n",
              "      <th></th>\n",
              "      <th></th>\n",
              "      <th></th>\n",
              "    </tr>\n",
              "  </thead>\n",
              "  <tbody>\n",
              "    <tr>\n",
              "      <th>6901257</th>\n",
              "      <td>5.010635</td>\n",
              "      <td>3.0</td>\n",
              "      <td>1.0</td>\n",
              "      <td>0.9395</td>\n",
              "      <td>2.0</td>\n",
              "      <td>100.000000</td>\n",
              "      <td>1.0</td>\n",
              "      <td>1.0</td>\n",
              "    </tr>\n",
              "    <tr>\n",
              "      <th>6304928</th>\n",
              "      <td>5.129899</td>\n",
              "      <td>7.0</td>\n",
              "      <td>1.0</td>\n",
              "      <td>1.0000</td>\n",
              "      <td>6.0</td>\n",
              "      <td>93.000000</td>\n",
              "      <td>3.0</td>\n",
              "      <td>3.0</td>\n",
              "    </tr>\n",
              "    <tr>\n",
              "      <th>7919400</th>\n",
              "      <td>4.976734</td>\n",
              "      <td>5.0</td>\n",
              "      <td>1.0</td>\n",
              "      <td>1.0000</td>\n",
              "      <td>10.0</td>\n",
              "      <td>92.000000</td>\n",
              "      <td>1.0</td>\n",
              "      <td>3.0</td>\n",
              "    </tr>\n",
              "    <tr>\n",
              "      <th>13418779</th>\n",
              "      <td>6.620073</td>\n",
              "      <td>4.0</td>\n",
              "      <td>1.0</td>\n",
              "      <td>0.9463</td>\n",
              "      <td>0.0</td>\n",
              "      <td>94.673387</td>\n",
              "      <td>2.0</td>\n",
              "      <td>2.0</td>\n",
              "    </tr>\n",
              "    <tr>\n",
              "      <th>3808709</th>\n",
              "      <td>4.744932</td>\n",
              "      <td>2.0</td>\n",
              "      <td>1.0</td>\n",
              "      <td>1.0000</td>\n",
              "      <td>4.0</td>\n",
              "      <td>40.000000</td>\n",
              "      <td>0.0</td>\n",
              "      <td>1.0</td>\n",
              "    </tr>\n",
              "  </tbody>\n",
              "</table>\n",
              "</div>"
            ],
            "text/plain": [
              "          log_price  accommodates  bathrooms  host_response_rate  \\\n",
              "id                                                                 \n",
              "6901257    5.010635           3.0        1.0              0.9395   \n",
              "6304928    5.129899           7.0        1.0              1.0000   \n",
              "7919400    4.976734           5.0        1.0              1.0000   \n",
              "13418779   6.620073           4.0        1.0              0.9463   \n",
              "3808709    4.744932           2.0        1.0              1.0000   \n",
              "\n",
              "          number_of_reviews  review_scores_rating  bedrooms  beds  \n",
              "id                                                                 \n",
              "6901257                 2.0            100.000000       1.0   1.0  \n",
              "6304928                 6.0             93.000000       3.0   3.0  \n",
              "7919400                10.0             92.000000       1.0   3.0  \n",
              "13418779                0.0             94.673387       2.0   2.0  \n",
              "3808709                 4.0             40.000000       0.0   1.0  "
            ]
          },
          "metadata": {
            "tags": []
          },
          "execution_count": 133
        }
      ]
    },
    {
      "cell_type": "code",
      "metadata": {
        "id": "11-58rEjAFB-",
        "colab_type": "code",
        "colab": {
          "base_uri": "https://localhost:8080/",
          "height": 195
        },
        "outputId": "f8de93d7-1f97-4ceb-e4d0-af2bab40877c"
      },
      "source": [
        "air_bnb_num.head()"
      ],
      "execution_count": 135,
      "outputs": [
        {
          "output_type": "execute_result",
          "data": {
            "text/html": [
              "<div>\n",
              "<style scoped>\n",
              "    .dataframe tbody tr th:only-of-type {\n",
              "        vertical-align: middle;\n",
              "    }\n",
              "\n",
              "    .dataframe tbody tr th {\n",
              "        vertical-align: top;\n",
              "    }\n",
              "\n",
              "    .dataframe thead th {\n",
              "        text-align: right;\n",
              "    }\n",
              "</style>\n",
              "<table border=\"1\" class=\"dataframe\">\n",
              "  <thead>\n",
              "    <tr style=\"text-align: right;\">\n",
              "      <th></th>\n",
              "      <th>id</th>\n",
              "      <th>log_price</th>\n",
              "      <th>accommodates</th>\n",
              "      <th>bathrooms</th>\n",
              "      <th>host_response_rate</th>\n",
              "      <th>number_of_reviews</th>\n",
              "      <th>review_scores_rating</th>\n",
              "      <th>bedrooms</th>\n",
              "      <th>beds</th>\n",
              "    </tr>\n",
              "  </thead>\n",
              "  <tbody>\n",
              "    <tr>\n",
              "      <th>0</th>\n",
              "      <td>6901257</td>\n",
              "      <td>5.010635</td>\n",
              "      <td>3.0</td>\n",
              "      <td>1.0</td>\n",
              "      <td>0.9395</td>\n",
              "      <td>2.0</td>\n",
              "      <td>100.000000</td>\n",
              "      <td>1.0</td>\n",
              "      <td>1.0</td>\n",
              "    </tr>\n",
              "    <tr>\n",
              "      <th>1</th>\n",
              "      <td>6304928</td>\n",
              "      <td>5.129899</td>\n",
              "      <td>7.0</td>\n",
              "      <td>1.0</td>\n",
              "      <td>1.0000</td>\n",
              "      <td>6.0</td>\n",
              "      <td>93.000000</td>\n",
              "      <td>3.0</td>\n",
              "      <td>3.0</td>\n",
              "    </tr>\n",
              "    <tr>\n",
              "      <th>2</th>\n",
              "      <td>7919400</td>\n",
              "      <td>4.976734</td>\n",
              "      <td>5.0</td>\n",
              "      <td>1.0</td>\n",
              "      <td>1.0000</td>\n",
              "      <td>10.0</td>\n",
              "      <td>92.000000</td>\n",
              "      <td>1.0</td>\n",
              "      <td>3.0</td>\n",
              "    </tr>\n",
              "    <tr>\n",
              "      <th>3</th>\n",
              "      <td>13418779</td>\n",
              "      <td>6.620073</td>\n",
              "      <td>4.0</td>\n",
              "      <td>1.0</td>\n",
              "      <td>0.9463</td>\n",
              "      <td>0.0</td>\n",
              "      <td>94.673387</td>\n",
              "      <td>2.0</td>\n",
              "      <td>2.0</td>\n",
              "    </tr>\n",
              "    <tr>\n",
              "      <th>4</th>\n",
              "      <td>3808709</td>\n",
              "      <td>4.744932</td>\n",
              "      <td>2.0</td>\n",
              "      <td>1.0</td>\n",
              "      <td>1.0000</td>\n",
              "      <td>4.0</td>\n",
              "      <td>40.000000</td>\n",
              "      <td>0.0</td>\n",
              "      <td>1.0</td>\n",
              "    </tr>\n",
              "  </tbody>\n",
              "</table>\n",
              "</div>"
            ],
            "text/plain": [
              "         id  log_price  accommodates  bathrooms  host_response_rate  \\\n",
              "0   6901257   5.010635           3.0        1.0              0.9395   \n",
              "1   6304928   5.129899           7.0        1.0              1.0000   \n",
              "2   7919400   4.976734           5.0        1.0              1.0000   \n",
              "3  13418779   6.620073           4.0        1.0              0.9463   \n",
              "4   3808709   4.744932           2.0        1.0              1.0000   \n",
              "\n",
              "   number_of_reviews  review_scores_rating  bedrooms  beds  \n",
              "0                2.0            100.000000       1.0   1.0  \n",
              "1                6.0             93.000000       3.0   3.0  \n",
              "2               10.0             92.000000       1.0   3.0  \n",
              "3                0.0             94.673387       2.0   2.0  \n",
              "4                4.0             40.000000       0.0   1.0  "
            ]
          },
          "metadata": {
            "tags": []
          },
          "execution_count": 135
        }
      ]
    },
    {
      "cell_type": "code",
      "metadata": {
        "id": "xVRQ6-z3-sGA",
        "colab_type": "code",
        "colab": {
          "base_uri": "https://localhost:8080/",
          "height": 195
        },
        "outputId": "328748a5-fa1f-40b1-ae94-61410e1e4992"
      },
      "source": [
        "air_bool_imputed = air_voice_with_null.loc[:,['id','cleaning_fee', 'host_has_profile_pic',\n",
        "                                              'host_identity_verified', 'instant_bookable']]\n",
        "air_bool_imputed.head()"
      ],
      "execution_count": 134,
      "outputs": [
        {
          "output_type": "execute_result",
          "data": {
            "text/html": [
              "<div>\n",
              "<style scoped>\n",
              "    .dataframe tbody tr th:only-of-type {\n",
              "        vertical-align: middle;\n",
              "    }\n",
              "\n",
              "    .dataframe tbody tr th {\n",
              "        vertical-align: top;\n",
              "    }\n",
              "\n",
              "    .dataframe thead th {\n",
              "        text-align: right;\n",
              "    }\n",
              "</style>\n",
              "<table border=\"1\" class=\"dataframe\">\n",
              "  <thead>\n",
              "    <tr style=\"text-align: right;\">\n",
              "      <th></th>\n",
              "      <th>id</th>\n",
              "      <th>cleaning_fee</th>\n",
              "      <th>host_has_profile_pic</th>\n",
              "      <th>host_identity_verified</th>\n",
              "      <th>instant_bookable</th>\n",
              "    </tr>\n",
              "  </thead>\n",
              "  <tbody>\n",
              "    <tr>\n",
              "      <th>0</th>\n",
              "      <td>6901257</td>\n",
              "      <td>1</td>\n",
              "      <td>1.0</td>\n",
              "      <td>1.0</td>\n",
              "      <td>0.0</td>\n",
              "    </tr>\n",
              "    <tr>\n",
              "      <th>1</th>\n",
              "      <td>6304928</td>\n",
              "      <td>1</td>\n",
              "      <td>1.0</td>\n",
              "      <td>0.0</td>\n",
              "      <td>1.0</td>\n",
              "    </tr>\n",
              "    <tr>\n",
              "      <th>2</th>\n",
              "      <td>7919400</td>\n",
              "      <td>1</td>\n",
              "      <td>1.0</td>\n",
              "      <td>1.0</td>\n",
              "      <td>1.0</td>\n",
              "    </tr>\n",
              "    <tr>\n",
              "      <th>3</th>\n",
              "      <td>13418779</td>\n",
              "      <td>1</td>\n",
              "      <td>1.0</td>\n",
              "      <td>1.0</td>\n",
              "      <td>0.0</td>\n",
              "    </tr>\n",
              "    <tr>\n",
              "      <th>4</th>\n",
              "      <td>3808709</td>\n",
              "      <td>1</td>\n",
              "      <td>1.0</td>\n",
              "      <td>1.0</td>\n",
              "      <td>1.0</td>\n",
              "    </tr>\n",
              "  </tbody>\n",
              "</table>\n",
              "</div>"
            ],
            "text/plain": [
              "         id  cleaning_fee  host_has_profile_pic  host_identity_verified  \\\n",
              "0   6901257             1                   1.0                     1.0   \n",
              "1   6304928             1                   1.0                     0.0   \n",
              "2   7919400             1                   1.0                     1.0   \n",
              "3  13418779             1                   1.0                     1.0   \n",
              "4   3808709             1                   1.0                     1.0   \n",
              "\n",
              "   instant_bookable  \n",
              "0               0.0  \n",
              "1               1.0  \n",
              "2               1.0  \n",
              "3               0.0  \n",
              "4               1.0  "
            ]
          },
          "metadata": {
            "tags": []
          },
          "execution_count": 134
        }
      ]
    },
    {
      "cell_type": "code",
      "metadata": {
        "id": "wF5lYKkzACrV",
        "colab_type": "code",
        "colab": {
          "base_uri": "https://localhost:8080/",
          "height": 215
        },
        "outputId": "b48b9921-1343-40b2-bd21-f0c7f51f51e6"
      },
      "source": [
        "air_bnb_num_bool_imputed = pd.merge(original_data_num, air_bool_imputed, on=\"id\")\n",
        "air_bnb_num_bool_imputed.head()"
      ],
      "execution_count": 136,
      "outputs": [
        {
          "output_type": "execute_result",
          "data": {
            "text/html": [
              "<div>\n",
              "<style scoped>\n",
              "    .dataframe tbody tr th:only-of-type {\n",
              "        vertical-align: middle;\n",
              "    }\n",
              "\n",
              "    .dataframe tbody tr th {\n",
              "        vertical-align: top;\n",
              "    }\n",
              "\n",
              "    .dataframe thead th {\n",
              "        text-align: right;\n",
              "    }\n",
              "</style>\n",
              "<table border=\"1\" class=\"dataframe\">\n",
              "  <thead>\n",
              "    <tr style=\"text-align: right;\">\n",
              "      <th></th>\n",
              "      <th>id</th>\n",
              "      <th>log_price</th>\n",
              "      <th>accommodates</th>\n",
              "      <th>bathrooms</th>\n",
              "      <th>host_response_rate</th>\n",
              "      <th>number_of_reviews</th>\n",
              "      <th>review_scores_rating</th>\n",
              "      <th>bedrooms</th>\n",
              "      <th>beds</th>\n",
              "      <th>cleaning_fee</th>\n",
              "      <th>host_has_profile_pic</th>\n",
              "      <th>host_identity_verified</th>\n",
              "      <th>instant_bookable</th>\n",
              "    </tr>\n",
              "  </thead>\n",
              "  <tbody>\n",
              "    <tr>\n",
              "      <th>0</th>\n",
              "      <td>6901257</td>\n",
              "      <td>5.010635</td>\n",
              "      <td>3.0</td>\n",
              "      <td>1.0</td>\n",
              "      <td>0.9395</td>\n",
              "      <td>2.0</td>\n",
              "      <td>100.000000</td>\n",
              "      <td>1.0</td>\n",
              "      <td>1.0</td>\n",
              "      <td>1</td>\n",
              "      <td>1.0</td>\n",
              "      <td>1.0</td>\n",
              "      <td>0.0</td>\n",
              "    </tr>\n",
              "    <tr>\n",
              "      <th>1</th>\n",
              "      <td>6304928</td>\n",
              "      <td>5.129899</td>\n",
              "      <td>7.0</td>\n",
              "      <td>1.0</td>\n",
              "      <td>1.0000</td>\n",
              "      <td>6.0</td>\n",
              "      <td>93.000000</td>\n",
              "      <td>3.0</td>\n",
              "      <td>3.0</td>\n",
              "      <td>1</td>\n",
              "      <td>1.0</td>\n",
              "      <td>0.0</td>\n",
              "      <td>1.0</td>\n",
              "    </tr>\n",
              "    <tr>\n",
              "      <th>2</th>\n",
              "      <td>7919400</td>\n",
              "      <td>4.976734</td>\n",
              "      <td>5.0</td>\n",
              "      <td>1.0</td>\n",
              "      <td>1.0000</td>\n",
              "      <td>10.0</td>\n",
              "      <td>92.000000</td>\n",
              "      <td>1.0</td>\n",
              "      <td>3.0</td>\n",
              "      <td>1</td>\n",
              "      <td>1.0</td>\n",
              "      <td>1.0</td>\n",
              "      <td>1.0</td>\n",
              "    </tr>\n",
              "    <tr>\n",
              "      <th>3</th>\n",
              "      <td>13418779</td>\n",
              "      <td>6.620073</td>\n",
              "      <td>4.0</td>\n",
              "      <td>1.0</td>\n",
              "      <td>0.9463</td>\n",
              "      <td>0.0</td>\n",
              "      <td>94.673387</td>\n",
              "      <td>2.0</td>\n",
              "      <td>2.0</td>\n",
              "      <td>1</td>\n",
              "      <td>1.0</td>\n",
              "      <td>1.0</td>\n",
              "      <td>0.0</td>\n",
              "    </tr>\n",
              "    <tr>\n",
              "      <th>4</th>\n",
              "      <td>3808709</td>\n",
              "      <td>4.744932</td>\n",
              "      <td>2.0</td>\n",
              "      <td>1.0</td>\n",
              "      <td>1.0000</td>\n",
              "      <td>4.0</td>\n",
              "      <td>40.000000</td>\n",
              "      <td>0.0</td>\n",
              "      <td>1.0</td>\n",
              "      <td>1</td>\n",
              "      <td>1.0</td>\n",
              "      <td>1.0</td>\n",
              "      <td>1.0</td>\n",
              "    </tr>\n",
              "  </tbody>\n",
              "</table>\n",
              "</div>"
            ],
            "text/plain": [
              "         id  log_price  accommodates  bathrooms  host_response_rate  \\\n",
              "0   6901257   5.010635           3.0        1.0              0.9395   \n",
              "1   6304928   5.129899           7.0        1.0              1.0000   \n",
              "2   7919400   4.976734           5.0        1.0              1.0000   \n",
              "3  13418779   6.620073           4.0        1.0              0.9463   \n",
              "4   3808709   4.744932           2.0        1.0              1.0000   \n",
              "\n",
              "   number_of_reviews  review_scores_rating  bedrooms  beds  cleaning_fee  \\\n",
              "0                2.0            100.000000       1.0   1.0             1   \n",
              "1                6.0             93.000000       3.0   3.0             1   \n",
              "2               10.0             92.000000       1.0   3.0             1   \n",
              "3                0.0             94.673387       2.0   2.0             1   \n",
              "4                4.0             40.000000       0.0   1.0             1   \n",
              "\n",
              "   host_has_profile_pic  host_identity_verified  instant_bookable  \n",
              "0                   1.0                     1.0               0.0  \n",
              "1                   1.0                     0.0               1.0  \n",
              "2                   1.0                     1.0               1.0  \n",
              "3                   1.0                     1.0               0.0  \n",
              "4                   1.0                     1.0               1.0  "
            ]
          },
          "metadata": {
            "tags": []
          },
          "execution_count": 136
        }
      ]
    },
    {
      "cell_type": "code",
      "metadata": {
        "id": "ms5pPO0YAgQw",
        "colab_type": "code",
        "colab": {
          "base_uri": "https://localhost:8080/",
          "height": 252
        },
        "outputId": "d48e1907-7b75-4f50-e8ff-66e8886041ec"
      },
      "source": [
        "air_bnb_num_bool_imputed.isnull().sum()"
      ],
      "execution_count": 137,
      "outputs": [
        {
          "output_type": "execute_result",
          "data": {
            "text/plain": [
              "id                        0\n",
              "log_price                 0\n",
              "accommodates              0\n",
              "bathrooms                 0\n",
              "host_response_rate        0\n",
              "number_of_reviews         0\n",
              "review_scores_rating      0\n",
              "bedrooms                  0\n",
              "beds                      0\n",
              "cleaning_fee              0\n",
              "host_has_profile_pic      0\n",
              "host_identity_verified    0\n",
              "instant_bookable          0\n",
              "dtype: int64"
            ]
          },
          "metadata": {
            "tags": []
          },
          "execution_count": 137
        }
      ]
    },
    {
      "cell_type": "code",
      "metadata": {
        "id": "_BMYp6e5Ai7y",
        "colab_type": "code",
        "colab": {}
      },
      "source": [
        "air_bnb_num_bool_imputed.to_csv(\"drive/My Drive/Colab Notebooks/air_bnb_price_prediction(Kaggle)/Data/air_bnb_num_bool_imputed.csv\")"
      ],
      "execution_count": 0,
      "outputs": []
    }
  ]
}